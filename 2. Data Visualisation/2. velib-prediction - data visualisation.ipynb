{
 "cells": [
  {
   "cell_type": "markdown",
   "metadata": {},
   "source": [
    "# Data Visualization"
   ]
  },
  {
   "cell_type": "markdown",
   "metadata": {},
   "source": [
    "## I - Loading the data"
   ]
  },
  {
   "cell_type": "code",
   "execution_count": 1,
   "metadata": {},
   "outputs": [],
   "source": [
    "# Import of librairies\n",
    "import pandas as pd\n",
    "import numpy as np\n",
    "import matplotlib.pyplot as plt\n",
    "import seaborn as sns"
   ]
  },
  {
   "cell_type": "code",
   "execution_count": 2,
   "metadata": {},
   "outputs": [],
   "source": [
    "# Import of dataset of website transaction\n",
    "# df = pd.read_csv(\"/home/exalis/VELIB-DATA/consolidated_dataset_2020_01_16.csv\")\n",
    "df = pd.read_csv(\"/home/exalis/VELIB-DATA/2020_01_15/2020_01_15_09:30:01.csv\", sep=\"%\")"
   ]
  },
  {
   "cell_type": "markdown",
   "metadata": {},
   "source": [
    "## II - Data structure of the dataframe"
   ]
  },
  {
   "cell_type": "code",
   "execution_count": 3,
   "metadata": {},
   "outputs": [
    {
     "name": "stdout",
     "output_type": "stream",
     "text": [
      "Shape:\n",
      "(1393, 21)\n",
      "\n",
      "Variable description:\n",
      "<class 'pandas.core.frame.DataFrame'>\n",
      "RangeIndex: 1393 entries, 0 to 1392\n",
      "Data columns (total 21 columns):\n",
      "Nombre de bornes disponibles      1393 non-null int64\n",
      "Nombre vélo en PARK+              1393 non-null int64\n",
      "Nombres de bornes en station      1393 non-null int64\n",
      "PARK + activation                 1393 non-null object\n",
      "densityLevel                      1393 non-null int64\n",
      "Achat possible en station (CB)    1393 non-null object\n",
      "Description station               1393 non-null object\n",
      "maxBikeOverflow                   1393 non-null int64\n",
      "Etat du Totem                     1393 non-null object\n",
      "nbFreeDock                        1393 non-null int64\n",
      "Nombre de vélo mécanique          1393 non-null int64\n",
      "PARK +                            1393 non-null object\n",
      "nbDock                            1393 non-null int64\n",
      "Nombre vélo électrique            1393 non-null int64\n",
      "Nombre vélo en PARK+.1            1393 non-null int64\n",
      "Code de la station                1393 non-null int64\n",
      "Nom de la station                 1393 non-null object\n",
      "Etat des stations                 1393 non-null object\n",
      "Type de stations                  1393 non-null object\n",
      "geo                               1393 non-null object\n",
      "duedate                           1393 non-null object\n",
      "dtypes: int64(11), object(10)\n",
      "memory usage: 228.7+ KB\n",
      "None\n",
      "\n",
      "Description:\n",
      "        Nombre de bornes disponibles  Nombre vélo en PARK+  \\\n",
      "count                    1393.000000           1393.000000   \n",
      "unique                           NaN                   NaN   \n",
      "top                              NaN                   NaN   \n",
      "freq                             NaN                   NaN   \n",
      "mean                       20.864322              0.007179   \n",
      "std                        14.600754              0.092570   \n",
      "min                         0.000000              0.000000   \n",
      "25%                        11.000000              0.000000   \n",
      "50%                        21.000000              0.000000   \n",
      "75%                        30.000000              0.000000   \n",
      "max                        69.000000              2.000000   \n",
      "\n",
      "        Nombres de bornes en station PARK + activation  densityLevel  \\\n",
      "count                    1393.000000              1393   1393.000000   \n",
      "unique                           NaN                 1           NaN   \n",
      "top                              NaN                no           NaN   \n",
      "freq                             NaN              1393           NaN   \n",
      "mean                       25.538406               NaN      0.903805   \n",
      "std                        15.821567               NaN      0.294965   \n",
      "min                         0.000000               NaN      0.000000   \n",
      "25%                        18.000000               NaN      1.000000   \n",
      "50%                        25.000000               NaN      1.000000   \n",
      "75%                        35.000000               NaN      1.000000   \n",
      "max                        73.000000               NaN      1.000000   \n",
      "\n",
      "       Achat possible en station (CB)  \\\n",
      "count                            1393   \n",
      "unique                              2   \n",
      "top                               yes   \n",
      "freq                              770   \n",
      "mean                              NaN   \n",
      "std                               NaN   \n",
      "min                               NaN   \n",
      "25%                               NaN   \n",
      "50%                               NaN   \n",
      "75%                               NaN   \n",
      "max                               NaN   \n",
      "\n",
      "                                      Description station  maxBikeOverflow  \\\n",
      "count                                                1393      1393.000000   \n",
      "unique                                               1393              NaN   \n",
      "top     {\"code\": \"22005\", \"name\": \"Charles de Gaulle -...              NaN   \n",
      "freq                                                    1              NaN   \n",
      "mean                                                  NaN        16.190237   \n",
      "std                                                   NaN        18.325846   \n",
      "min                                                   NaN         0.000000   \n",
      "25%                                                   NaN         0.000000   \n",
      "50%                                                   NaN        10.000000   \n",
      "75%                                                   NaN        30.000000   \n",
      "max                                                   NaN        71.000000   \n",
      "\n",
      "       Etat du Totem   nbFreeDock  ...  PARK +       nbDock  \\\n",
      "count           1393  1393.000000  ...    1393  1393.000000   \n",
      "unique             2          NaN  ...       2          NaN   \n",
      "top              yes          NaN  ...      no          NaN   \n",
      "freq            1361          NaN  ...    1390          NaN   \n",
      "mean             NaN     4.468055  ...     NaN     5.481694   \n",
      "std              NaN    10.924402  ...     NaN    12.893234   \n",
      "min              NaN     0.000000  ...     NaN     0.000000   \n",
      "25%              NaN     0.000000  ...     NaN     0.000000   \n",
      "50%              NaN     0.000000  ...     NaN     0.000000   \n",
      "75%              NaN     0.000000  ...     NaN     0.000000   \n",
      "max              NaN    62.000000  ...     NaN    70.000000   \n",
      "\n",
      "        Nombre vélo électrique  Nombre vélo en PARK+.1  Code de la station  \\\n",
      "count              1393.000000             1393.000000         1393.000000   \n",
      "unique                     NaN                     NaN                 NaN   \n",
      "top                        NaN                     NaN                 NaN   \n",
      "freq                       NaN                     NaN                 NaN   \n",
      "mean                  2.456569                0.007179        18049.835607   \n",
      "std                   2.892423                0.092570        12063.054089   \n",
      "min                   0.000000                0.000000         1001.000000   \n",
      "25%                   1.000000                0.000000        11004.000000   \n",
      "50%                   2.000000                0.000000        16011.000000   \n",
      "75%                   3.000000                0.000000        21203.000000   \n",
      "max                  22.000000                2.000000        92008.000000   \n",
      "\n",
      "           Nom de la station Etat des stations Type de stations  \\\n",
      "count                   1393              1393             1393   \n",
      "unique                  1388                 3                2   \n",
      "top     Château - République         Operative              yes   \n",
      "freq                       2              1334             1263   \n",
      "mean                     NaN               NaN              NaN   \n",
      "std                      NaN               NaN              NaN   \n",
      "min                      NaN               NaN              NaN   \n",
      "25%                      NaN               NaN              NaN   \n",
      "50%                      NaN               NaN              NaN   \n",
      "75%                      NaN               NaN              NaN   \n",
      "max                      NaN               NaN              NaN   \n",
      "\n",
      "                                geo     duedate  \n",
      "count                          1393        1393  \n",
      "unique                         1393         397  \n",
      "top     48.8729888407,2.32949842123  2018-10-30  \n",
      "freq                              1          59  \n",
      "mean                            NaN         NaN  \n",
      "std                             NaN         NaN  \n",
      "min                             NaN         NaN  \n",
      "25%                             NaN         NaN  \n",
      "50%                             NaN         NaN  \n",
      "75%                             NaN         NaN  \n",
      "max                             NaN         NaN  \n",
      "\n",
      "[11 rows x 21 columns]\n",
      "Missing values:\n",
      "\n",
      "Nombre de bornes disponibles      0\n",
      "Nombre vélo en PARK+              0\n",
      "Nombres de bornes en station      0\n",
      "PARK + activation                 0\n",
      "densityLevel                      0\n",
      "Achat possible en station (CB)    0\n",
      "Description station               0\n",
      "maxBikeOverflow                   0\n",
      "Etat du Totem                     0\n",
      "nbFreeDock                        0\n",
      "Nombre de vélo mécanique          0\n",
      "PARK +                            0\n",
      "nbDock                            0\n",
      "Nombre vélo électrique            0\n",
      "Nombre vélo en PARK+.1            0\n",
      "Code de la station                0\n",
      "Nom de la station                 0\n",
      "Etat des stations                 0\n",
      "Type de stations                  0\n",
      "geo                               0\n",
      "duedate                           0\n",
      "dtype: int64\n",
      "\n",
      "Count of different values:\n",
      "Nombre de bornes disponibles : 68\n",
      "Nombre vélo en PARK+ : 3\n",
      "Nombres de bornes en station : 70\n",
      "PARK + activation : 1\n",
      "densityLevel : 2\n",
      "Achat possible en station (CB) : 2\n",
      "Description station : 1393\n",
      "maxBikeOverflow : 63\n",
      "Etat du Totem : 2\n",
      "nbFreeDock : 56\n",
      "Nombre de vélo mécanique : 31\n",
      "PARK + : 2\n",
      "nbDock : 57\n",
      "Nombre vélo électrique : 22\n",
      "Nombre vélo en PARK+.1 : 3\n",
      "Code de la station : 1393\n",
      "Nom de la station : 1388\n",
      "Etat des stations : 3\n",
      "Type de stations : 2\n",
      "geo : 1393\n",
      "duedate : 397\n"
     ]
    }
   ],
   "source": [
    "# First exploration\n",
    "\n",
    "print('Shape:')\n",
    "print(df.shape)\n",
    "print()\n",
    "print('Variable description:')\n",
    "print(df.info())\n",
    "print()\n",
    "print('Description:')\n",
    "print(df.describe(include='all'))\n",
    "print('Missing values:')\n",
    "print()\n",
    "print(df.isna().sum())\n",
    "print()\n",
    "print('Count of different values:')\n",
    "for i in range(len(df.columns)):\n",
    "    print(df.columns[i],':',len(df[df.columns[i]].unique()))"
   ]
  },
  {
   "cell_type": "code",
   "execution_count": 4,
   "metadata": {},
   "outputs": [
    {
     "name": "stdout",
     "output_type": "stream",
     "text": [
      "Nombre de bornes disponibles :\n",
      "\n",
      "0     14.6\n",
      "17     3.7\n",
      "21     3.6\n",
      "22     3.3\n",
      "1      3.2\n",
      "      ... \n",
      "63     0.1\n",
      "62     0.1\n",
      "68     0.1\n",
      "67     0.1\n",
      "69     0.1\n",
      "Name: Nombre de bornes disponibles, Length: 68, dtype: float64\n",
      "\n",
      "----------------------------\n",
      "Nombre vélo en PARK+ :\n",
      "\n",
      "0    99.4\n",
      "1     0.6\n",
      "2     0.1\n",
      "Name: Nombre vélo en PARK+, dtype: float64\n",
      "\n",
      "----------------------------\n",
      "Nombres de bornes en station :\n",
      "\n",
      "0     12.9\n",
      "30     4.7\n",
      "20     4.7\n",
      "24     3.9\n",
      "25     3.9\n",
      "      ... \n",
      "6      0.1\n",
      "4      0.1\n",
      "71     0.1\n",
      "69     0.1\n",
      "73     0.1\n",
      "Name: Nombres de bornes en station, Length: 70, dtype: float64\n",
      "\n",
      "----------------------------\n",
      "PARK + activation :\n",
      "\n",
      "no    100.0\n",
      "Name: PARK + activation, dtype: float64\n",
      "\n",
      "----------------------------\n",
      "densityLevel :\n",
      "\n",
      "1    90.4\n",
      "0     9.6\n",
      "Name: densityLevel, dtype: float64\n",
      "\n",
      "----------------------------\n",
      "Achat possible en station (CB) :\n",
      "\n",
      "yes    55.3\n",
      "no     44.7\n",
      "Name: Achat possible en station (CB), dtype: float64\n",
      "\n",
      "----------------------------\n",
      "Description station :\n",
      "\n",
      "{\"code\": \"22005\", \"name\": \"Charles de Gaulle - Madrid\", \"state\": \"Operative\", \"type\": \"yes\", \"dueDate\": 1534629637, \"gps\": {\"latitude\": 48.884432270367995, \"longitude\": 2.2608044743537907}}           0.1\n",
      "{\"code\": \"5106\", \"name\": \"Cujas - Saint-Michel\", \"state\": \"Operative\", \"type\": \"yes\", \"dueDate\": 1584914400, \"gps\": {\"latitude\": 48.84819134858432, \"longitude\": 2.34183165485398}}                     0.1\n",
      "{\"code\": \"10107\", \"name\": \"Gare du Nord - Hôpital Lariboisière\", \"state\": \"Operative\", \"type\": \"yes\", \"dueDate\": 1563141600, \"gps\": {\"latitude\": 48.881949, \"longitude\": 2.352339}}                     0.1\n",
      "{\"code\": \"15038\", \"name\": \"Place Adolphe Cherioux - Vaugirard\", \"state\": \"Operative\", \"type\": \"yes\", \"dueDate\": 1530136849, \"gps\": {\"latitude\": 48.83959442800459, \"longitude\": 2.3010657727718353}}    0.1\n",
      "{\"code\": \"21014\", \"name\": \"Hameau Fleuri - Marché\", \"state\": \"Operative\", \"type\": \"no\", \"dueDate\": 1521068400, \"gps\": {\"latitude\": 48.831448892608314, \"longitude\": 2.2412404417991643}}                0.1\n",
      "                                                                                                                                                                                                       ... \n",
      "{\"code\": \"5107\", \"name\": \"Pontoise - La Tournelle\", \"state\": \"Operative\", \"type\": \"yes\", \"dueDate\": 1575932400, \"gps\": {\"latitude\": 48.85045800918843, \"longitude\": 2.352454275492188}}                 0.1\n",
      "{\"code\": \"12105\", \"name\": \"Bercy - Villot\", \"state\": \"Operative\", \"type\": \"yes\", \"dueDate\": 1544896740, \"gps\": {\"latitude\": 48.84179500902689, \"longitude\": 2.376785018481558}}                         0.1\n",
      "{\"code\": \"16006\", \"name\": \"Lauriston - Copernic\", \"state\": \"Operative\", \"type\": \"yes\", \"dueDate\": 1561871703, \"gps\": {\"latitude\": 48.86926, \"longitude\": 2.289918}}                                     0.1\n",
      "{\"code\": \"7110\", \"name\": \"Quai Anatole France - Musée d'Orsay\", \"state\": \"Close\", \"type\": \"yes\", \"dueDate\": 1579089614, \"gps\": {\"latitude\": 48.86121174057001, \"longitude\": 2.3242460936307903}}        0.1\n",
      "{\"code\": \"14012\", \"name\": \"Sibelle - Alésia\", \"state\": \"Operative\", \"type\": \"yes\", \"dueDate\": 1529643106, \"gps\": {\"latitude\": 48.826701758539215, \"longitude\": 2.3384983465075493}}                     0.1\n",
      "Name: Description station, Length: 1393, dtype: float64\n",
      "\n",
      "----------------------------\n",
      "maxBikeOverflow :\n",
      "\n",
      "0     48.7\n",
      "33     2.4\n",
      "25     2.3\n",
      "27     2.2\n",
      "32     2.1\n",
      "      ... \n",
      "13     0.1\n",
      "70     0.1\n",
      "3      0.1\n",
      "2      0.1\n",
      "71     0.1\n",
      "Name: maxBikeOverflow, Length: 63, dtype: float64\n",
      "\n",
      "----------------------------\n",
      "Etat du Totem :\n",
      "\n",
      "yes    97.7\n",
      "no      2.3\n",
      "Name: Etat du Totem, dtype: float64\n",
      "\n",
      "----------------------------\n",
      "nbFreeDock :\n",
      "\n",
      "0     77.8\n",
      "1      3.9\n",
      "2      1.1\n",
      "20     1.1\n",
      "22     0.8\n",
      "30     0.8\n",
      "32     0.6\n",
      "23     0.6\n",
      "18     0.6\n",
      "19     0.6\n",
      "29     0.6\n",
      "28     0.6\n",
      "26     0.5\n",
      "38     0.5\n",
      "17     0.5\n",
      "21     0.5\n",
      "31     0.5\n",
      "25     0.5\n",
      "12     0.4\n",
      "14     0.4\n",
      "24     0.4\n",
      "3      0.4\n",
      "48     0.4\n",
      "27     0.4\n",
      "13     0.3\n",
      "16     0.3\n",
      "8      0.3\n",
      "5      0.3\n",
      "10     0.3\n",
      "41     0.3\n",
      "33     0.3\n",
      "34     0.3\n",
      "36     0.2\n",
      "47     0.2\n",
      "44     0.2\n",
      "6      0.2\n",
      "4      0.2\n",
      "11     0.2\n",
      "39     0.2\n",
      "15     0.2\n",
      "43     0.2\n",
      "35     0.1\n",
      "54     0.1\n",
      "9      0.1\n",
      "58     0.1\n",
      "57     0.1\n",
      "45     0.1\n",
      "50     0.1\n",
      "55     0.1\n",
      "52     0.1\n",
      "49     0.1\n",
      "61     0.1\n",
      "46     0.1\n",
      "37     0.1\n",
      "40     0.1\n",
      "62     0.1\n",
      "Name: nbFreeDock, dtype: float64\n",
      "\n",
      "----------------------------\n",
      "Nombre de vélo mécanique :\n",
      "\n",
      "0     30.9\n",
      "1     21.7\n",
      "2     14.2\n",
      "3      8.9\n",
      "4      6.1\n",
      "5      3.7\n",
      "7      2.3\n",
      "8      2.2\n",
      "6      2.1\n",
      "9      1.4\n",
      "10     1.3\n",
      "14     0.8\n",
      "11     0.6\n",
      "15     0.6\n",
      "16     0.5\n",
      "13     0.5\n",
      "22     0.4\n",
      "17     0.3\n",
      "12     0.3\n",
      "18     0.3\n",
      "27     0.3\n",
      "21     0.1\n",
      "37     0.1\n",
      "20     0.1\n",
      "24     0.1\n",
      "26     0.1\n",
      "19     0.1\n",
      "29     0.1\n",
      "30     0.1\n",
      "31     0.1\n",
      "41     0.1\n",
      "Name: Nombre de vélo mécanique, dtype: float64\n",
      "\n",
      "----------------------------\n",
      "PARK + :\n",
      "\n",
      "no     99.8\n",
      "yes     0.2\n",
      "Name: PARK +, dtype: float64\n",
      "\n",
      "----------------------------\n",
      "nbDock :\n",
      "\n",
      "0     76.6\n",
      "1      4.5\n",
      "2      1.1\n",
      "33     0.9\n",
      "32     0.9\n",
      "36     0.8\n",
      "29     0.7\n",
      "21     0.7\n",
      "31     0.7\n",
      "20     0.6\n",
      "24     0.6\n",
      "25     0.6\n",
      "27     0.6\n",
      "30     0.6\n",
      "22     0.6\n",
      "26     0.6\n",
      "3      0.6\n",
      "28     0.5\n",
      "35     0.5\n",
      "34     0.5\n",
      "16     0.4\n",
      "50     0.4\n",
      "19     0.4\n",
      "23     0.4\n",
      "5      0.3\n",
      "38     0.3\n",
      "56     0.3\n",
      "39     0.3\n",
      "40     0.2\n",
      "18     0.2\n",
      "55     0.2\n",
      "51     0.2\n",
      "47     0.2\n",
      "46     0.2\n",
      "43     0.2\n",
      "41     0.2\n",
      "37     0.2\n",
      "49     0.1\n",
      "52     0.1\n",
      "53     0.1\n",
      "12     0.1\n",
      "6      0.1\n",
      "15     0.1\n",
      "13     0.1\n",
      "4      0.1\n",
      "67     0.1\n",
      "66     0.1\n",
      "10     0.1\n",
      "64     0.1\n",
      "14     0.1\n",
      "17     0.1\n",
      "62     0.1\n",
      "69     0.1\n",
      "65     0.1\n",
      "42     0.1\n",
      "60     0.1\n",
      "70     0.1\n",
      "Name: nbDock, dtype: float64\n",
      "\n",
      "----------------------------\n",
      "Nombre vélo électrique :\n",
      "\n",
      "1     24.3\n",
      "0     22.5\n",
      "2     18.7\n",
      "3     12.6\n",
      "4      5.7\n",
      "5      5.0\n",
      "6      3.5\n",
      "7      2.2\n",
      "8      1.6\n",
      "10     1.0\n",
      "9      0.9\n",
      "13     0.4\n",
      "11     0.3\n",
      "20     0.2\n",
      "12     0.2\n",
      "14     0.2\n",
      "16     0.2\n",
      "17     0.2\n",
      "22     0.1\n",
      "15     0.1\n",
      "18     0.1\n",
      "19     0.1\n",
      "Name: Nombre vélo électrique, dtype: float64\n",
      "\n",
      "----------------------------\n",
      "Nombre vélo en PARK+.1 :\n",
      "\n",
      "0    99.4\n",
      "1     0.6\n",
      "2     0.1\n",
      "Name: Nombre vélo en PARK+.1, dtype: float64\n",
      "\n",
      "----------------------------\n",
      "Code de la station :\n",
      "\n",
      "43007    0.1\n",
      "14116    0.1\n",
      "21216    0.1\n",
      "17121    0.1\n",
      "13026    0.1\n",
      "        ... \n",
      "15019    0.1\n",
      "16102    0.1\n",
      "8054     0.1\n",
      "18018    0.1\n",
      "43008    0.1\n",
      "Name: Code de la station, Length: 1393, dtype: float64\n",
      "\n",
      "----------------------------\n",
      "Nom de la station :\n",
      "\n",
      "Château - République                     0.1\n",
      "Université                               0.1\n",
      "Place de l'Eglise                        0.1\n",
      "Place Nelson Mandela                     0.1\n",
      "Place de l'Europe                        0.1\n",
      "                                        ... \n",
      "Halle Freyssinet - Parvis Alan Turing    0.1\n",
      "Dunkerque - Alsace                       0.1\n",
      "Gare RER - Malleret-Joinville            0.1\n",
      "Paul Bodin - Clichy                      0.1\n",
      "Sabot - Rennes                           0.1\n",
      "Name: Nom de la station, Length: 1388, dtype: float64\n",
      "\n",
      "----------------------------\n",
      "Etat des stations :\n",
      "\n",
      "Operative           95.8\n",
      "Work in progress     3.3\n",
      "Close                0.9\n",
      "Name: Etat des stations, dtype: float64\n",
      "\n",
      "----------------------------\n",
      "Type de stations :\n",
      "\n",
      "yes    90.7\n",
      "no      9.3\n",
      "Name: Type de stations, dtype: float64\n",
      "\n",
      "----------------------------\n",
      "geo :\n",
      "\n",
      "48.8729888407,2.32949842123    0.1\n",
      "48.821242484,2.25110024214     0.1\n",
      "48.7949023812,2.37341836095    0.1\n",
      "48.8095643684,2.36269086599    0.1\n",
      "48.881949,2.352339             0.1\n",
      "                              ... \n",
      "48.854176,2.396093             0.1\n",
      "48.8904108624,2.39819392562    0.1\n",
      "48.8639368485,2.27659530938    0.1\n",
      "48.824407,2.418455             0.1\n",
      "48.8309816593,2.34816469252    0.1\n",
      "Name: geo, Length: 1393, dtype: float64\n",
      "\n",
      "----------------------------\n",
      "duedate :\n",
      "\n",
      "2018-10-30    4.2\n",
      "2018-03-30    3.5\n",
      "2018-01-31    2.8\n",
      "2018-04-14    2.7\n",
      "2018-03-15    2.1\n",
      "             ... \n",
      "2019-08-16    0.1\n",
      "2018-07-22    0.1\n",
      "2018-02-07    0.1\n",
      "2019-11-12    0.1\n",
      "2019-11-25    0.1\n",
      "Name: duedate, Length: 397, dtype: float64\n",
      "\n",
      "----------------------------\n"
     ]
    }
   ],
   "source": [
    "# Analysis of each column structuration\n",
    "\n",
    "for i in range(len(df.columns)):\n",
    "    print(df.columns[i],\":\" )\n",
    "    print()\n",
    "    print(round(df[df.columns[i]].value_counts()/df.shape[0]*100,1))\n",
    "    print()\n",
    "    print(\"----------------------------\")"
   ]
  },
  {
   "cell_type": "code",
   "execution_count": 21,
   "metadata": {},
   "outputs": [
    {
     "data": {
      "text/html": [
       "<div>\n",
       "<style scoped>\n",
       "    .dataframe tbody tr th:only-of-type {\n",
       "        vertical-align: middle;\n",
       "    }\n",
       "\n",
       "    .dataframe tbody tr th {\n",
       "        vertical-align: top;\n",
       "    }\n",
       "\n",
       "    .dataframe thead th {\n",
       "        text-align: right;\n",
       "    }\n",
       "</style>\n",
       "<table border=\"1\" class=\"dataframe\">\n",
       "  <thead>\n",
       "    <tr style=\"text-align: right;\">\n",
       "      <th></th>\n",
       "      <th>Nombre de bornes disponibles</th>\n",
       "      <th>Nombre vélo en PARK+</th>\n",
       "      <th>Nombres de bornes en station</th>\n",
       "      <th>PARK + activation</th>\n",
       "      <th>densityLevel</th>\n",
       "      <th>Achat possible en station (CB)</th>\n",
       "      <th>Description station</th>\n",
       "      <th>maxBikeOverflow</th>\n",
       "      <th>Etat du Totem</th>\n",
       "      <th>nbFreeDock</th>\n",
       "      <th>...</th>\n",
       "      <th>PARK +</th>\n",
       "      <th>nbDock</th>\n",
       "      <th>Nombre vélo électrique</th>\n",
       "      <th>Nombre vélo en PARK+.1</th>\n",
       "      <th>Code de la station</th>\n",
       "      <th>Nom de la station</th>\n",
       "      <th>Etat des stations</th>\n",
       "      <th>Type de stations</th>\n",
       "      <th>geo</th>\n",
       "      <th>duedate</th>\n",
       "    </tr>\n",
       "  </thead>\n",
       "  <tbody>\n",
       "    <tr>\n",
       "      <th>0</th>\n",
       "      <td>33</td>\n",
       "      <td>0</td>\n",
       "      <td>35</td>\n",
       "      <td>no</td>\n",
       "      <td>1</td>\n",
       "      <td>no</td>\n",
       "      <td>{\"code\": \"16107\", \"name\": \"Benjamin Godard - V...</td>\n",
       "      <td>0</td>\n",
       "      <td>yes</td>\n",
       "      <td>0</td>\n",
       "      <td>...</td>\n",
       "      <td>no</td>\n",
       "      <td>0</td>\n",
       "      <td>1</td>\n",
       "      <td>0</td>\n",
       "      <td>16107</td>\n",
       "      <td>Benjamin Godard - Victor Hugo</td>\n",
       "      <td>Operative</td>\n",
       "      <td>yes</td>\n",
       "      <td>48.865983,2.275725</td>\n",
       "      <td>2018-07-15</td>\n",
       "    </tr>\n",
       "    <tr>\n",
       "      <th>1</th>\n",
       "      <td>49</td>\n",
       "      <td>0</td>\n",
       "      <td>52</td>\n",
       "      <td>no</td>\n",
       "      <td>1</td>\n",
       "      <td>yes</td>\n",
       "      <td>{\"code\": \"6015\", \"name\": \"André Mazet - Saint-...</td>\n",
       "      <td>55</td>\n",
       "      <td>yes</td>\n",
       "      <td>3</td>\n",
       "      <td>...</td>\n",
       "      <td>no</td>\n",
       "      <td>3</td>\n",
       "      <td>1</td>\n",
       "      <td>0</td>\n",
       "      <td>6015</td>\n",
       "      <td>André Mazet - Saint-André des Arts</td>\n",
       "      <td>Operative</td>\n",
       "      <td>yes</td>\n",
       "      <td>48.8537558106,2.33909580857</td>\n",
       "      <td>2018-04-05</td>\n",
       "    </tr>\n",
       "    <tr>\n",
       "      <th>2</th>\n",
       "      <td>19</td>\n",
       "      <td>0</td>\n",
       "      <td>21</td>\n",
       "      <td>no</td>\n",
       "      <td>1</td>\n",
       "      <td>yes</td>\n",
       "      <td>{\"code\": \"9020\", \"name\": \"Toudouze - Clauzel\",...</td>\n",
       "      <td>21</td>\n",
       "      <td>yes</td>\n",
       "      <td>0</td>\n",
       "      <td>...</td>\n",
       "      <td>no</td>\n",
       "      <td>0</td>\n",
       "      <td>2</td>\n",
       "      <td>0</td>\n",
       "      <td>9020</td>\n",
       "      <td>Toudouze - Clauzel</td>\n",
       "      <td>Operative</td>\n",
       "      <td>yes</td>\n",
       "      <td>48.8792959173,2.33736008406</td>\n",
       "      <td>2018-11-30</td>\n",
       "    </tr>\n",
       "    <tr>\n",
       "      <th>3</th>\n",
       "      <td>19</td>\n",
       "      <td>0</td>\n",
       "      <td>20</td>\n",
       "      <td>no</td>\n",
       "      <td>1</td>\n",
       "      <td>no</td>\n",
       "      <td>{\"code\": \"11104\", \"name\": \"Charonne - Robert e...</td>\n",
       "      <td>0</td>\n",
       "      <td>yes</td>\n",
       "      <td>0</td>\n",
       "      <td>...</td>\n",
       "      <td>no</td>\n",
       "      <td>0</td>\n",
       "      <td>0</td>\n",
       "      <td>0</td>\n",
       "      <td>11104</td>\n",
       "      <td>Charonne - Robert et Sonia Delauney</td>\n",
       "      <td>Operative</td>\n",
       "      <td>yes</td>\n",
       "      <td>48.855907556,2.39257067442</td>\n",
       "      <td>2018-10-22</td>\n",
       "    </tr>\n",
       "    <tr>\n",
       "      <th>4</th>\n",
       "      <td>25</td>\n",
       "      <td>0</td>\n",
       "      <td>30</td>\n",
       "      <td>no</td>\n",
       "      <td>1</td>\n",
       "      <td>no</td>\n",
       "      <td>{\"code\": \"12109\", \"name\": \"Mairie du 12ème\", \"...</td>\n",
       "      <td>30</td>\n",
       "      <td>yes</td>\n",
       "      <td>0</td>\n",
       "      <td>...</td>\n",
       "      <td>no</td>\n",
       "      <td>0</td>\n",
       "      <td>1</td>\n",
       "      <td>0</td>\n",
       "      <td>12109</td>\n",
       "      <td>Mairie du 12ème</td>\n",
       "      <td>Operative</td>\n",
       "      <td>yes</td>\n",
       "      <td>48.8408553118,2.38755494356</td>\n",
       "      <td>2019-03-28</td>\n",
       "    </tr>\n",
       "  </tbody>\n",
       "</table>\n",
       "<p>5 rows × 21 columns</p>\n",
       "</div>"
      ],
      "text/plain": [
       "   Nombre de bornes disponibles  Nombre vélo en PARK+  \\\n",
       "0                            33                     0   \n",
       "1                            49                     0   \n",
       "2                            19                     0   \n",
       "3                            19                     0   \n",
       "4                            25                     0   \n",
       "\n",
       "   Nombres de bornes en station PARK + activation  densityLevel  \\\n",
       "0                            35                no             1   \n",
       "1                            52                no             1   \n",
       "2                            21                no             1   \n",
       "3                            20                no             1   \n",
       "4                            30                no             1   \n",
       "\n",
       "  Achat possible en station (CB)  \\\n",
       "0                             no   \n",
       "1                            yes   \n",
       "2                            yes   \n",
       "3                             no   \n",
       "4                             no   \n",
       "\n",
       "                                 Description station  maxBikeOverflow  \\\n",
       "0  {\"code\": \"16107\", \"name\": \"Benjamin Godard - V...                0   \n",
       "1  {\"code\": \"6015\", \"name\": \"André Mazet - Saint-...               55   \n",
       "2  {\"code\": \"9020\", \"name\": \"Toudouze - Clauzel\",...               21   \n",
       "3  {\"code\": \"11104\", \"name\": \"Charonne - Robert e...                0   \n",
       "4  {\"code\": \"12109\", \"name\": \"Mairie du 12ème\", \"...               30   \n",
       "\n",
       "  Etat du Totem  nbFreeDock  ...  PARK + nbDock  Nombre vélo électrique  \\\n",
       "0           yes           0  ...      no      0                       1   \n",
       "1           yes           3  ...      no      3                       1   \n",
       "2           yes           0  ...      no      0                       2   \n",
       "3           yes           0  ...      no      0                       0   \n",
       "4           yes           0  ...      no      0                       1   \n",
       "\n",
       "   Nombre vélo en PARK+.1  Code de la station  \\\n",
       "0                       0               16107   \n",
       "1                       0                6015   \n",
       "2                       0                9020   \n",
       "3                       0               11104   \n",
       "4                       0               12109   \n",
       "\n",
       "                     Nom de la station Etat des stations Type de stations  \\\n",
       "0        Benjamin Godard - Victor Hugo         Operative              yes   \n",
       "1   André Mazet - Saint-André des Arts         Operative              yes   \n",
       "2                   Toudouze - Clauzel         Operative              yes   \n",
       "3  Charonne - Robert et Sonia Delauney         Operative              yes   \n",
       "4                      Mairie du 12ème         Operative              yes   \n",
       "\n",
       "                           geo     duedate  \n",
       "0           48.865983,2.275725  2018-07-15  \n",
       "1  48.8537558106,2.33909580857  2018-04-05  \n",
       "2  48.8792959173,2.33736008406  2018-11-30  \n",
       "3   48.855907556,2.39257067442  2018-10-22  \n",
       "4  48.8408553118,2.38755494356  2019-03-28  \n",
       "\n",
       "[5 rows x 21 columns]"
      ]
     },
     "execution_count": 21,
     "metadata": {},
     "output_type": "execute_result"
    }
   ],
   "source": [
    "df.head()"
   ]
  },
  {
   "cell_type": "markdown",
   "metadata": {},
   "source": [
    "## III - Data visualisation and futher analyses"
   ]
  },
  {
   "cell_type": "code",
   "execution_count": 5,
   "metadata": {},
   "outputs": [
    {
     "name": "stdout",
     "output_type": "stream",
     "text": [
      "Nombre de bornes disponibles\n",
      "Nombre vélo en PARK+\n",
      "Nombres de bornes en station\n",
      "PARK + activation\n",
      "densityLevel\n",
      "Achat possible en station (CB)\n",
      "Description station\n",
      "maxBikeOverflow\n",
      "Etat du Totem\n",
      "nbFreeDock\n",
      "Nombre de vélo mécanique\n",
      "PARK +\n",
      "nbDock\n",
      "Nombre vélo électrique\n",
      "Nombre vélo en PARK+.1\n",
      "Code de la station\n",
      "Nom de la station\n",
      "Etat des stations\n",
      "Type de stations\n",
      "geo\n",
      "duedate\n"
     ]
    }
   ],
   "source": [
    "for i in range(len(df.columns)):\n",
    "    print(df.columns[i])"
   ]
  },
  {
   "cell_type": "markdown",
   "metadata": {},
   "source": [
    "### 1. Nombre de bornes disponibles"
   ]
  },
  {
   "cell_type": "code",
   "execution_count": 6,
   "metadata": {
    "scrolled": true
   },
   "outputs": [
    {
     "data": {
      "image/png": "[encoded data removed]",
      "text/plain": [
       "<Figure size 432x288 with 1 Axes>"
      ]
     },
     "metadata": {
      "needs_background": "light"
     },
     "output_type": "display_data"
    }
   ],
   "source": [
    "# Distribution \n",
    "_ = sns.distplot(df[\"Nombre de bornes disponibles\"])"
   ]
  },
  {
   "cell_type": "markdown",
   "metadata": {},
   "source": [
    "### 2. Nombre vélo en PARK+"
   ]
  },
  {
   "cell_type": "code",
   "execution_count": 7,
   "metadata": {},
   "outputs": [
    {
     "data": {
      "image/png": "[encoded data removed]",
      "text/plain": [
       "<Figure size 432x288 with 1 Axes>"
      ]
     },
     "metadata": {
      "needs_background": "light"
     },
     "output_type": "display_data"
    }
   ],
   "source": [
    "# Distribution \n",
    "_ = sns.distplot(df[\"Nombre vélo en PARK+\"])"
   ]
  },
  {
   "cell_type": "markdown",
   "metadata": {},
   "source": [
    "### 3. Nombres de bornes en station"
   ]
  },
  {
   "cell_type": "code",
   "execution_count": 8,
   "metadata": {
    "scrolled": true
   },
   "outputs": [
    {
     "data": {
      "image/png": "[encoded data removed]",
      "text/plain": [
       "<Figure size 432x288 with 1 Axes>"
      ]
     },
     "metadata": {
      "needs_background": "light"
     },
     "output_type": "display_data"
    }
   ],
   "source": [
    "# Distribution\n",
    "_ = sns.distplot(df[\"Nombres de bornes en station\"])"
   ]
  },
  {
   "cell_type": "markdown",
   "metadata": {},
   "source": [
    "### 4. PARK + activation"
   ]
  },
  {
   "cell_type": "code",
   "execution_count": 9,
   "metadata": {},
   "outputs": [
    {
     "ename": "KeyError",
     "evalue": "'PARK + activation '",
     "output_type": "error",
     "traceback": [
      "\u001b[0;31m---------------------------------------------------------------------------\u001b[0m",
      "\u001b[0;31mKeyError\u001b[0m                                  Traceback (most recent call last)",
      "\u001b[0;32m~/anaconda3/lib/python3.7/site-packages/pandas/core/indexes/base.py\u001b[0m in \u001b[0;36mget_loc\u001b[0;34m(self, key, method, tolerance)\u001b[0m\n\u001b[1;32m   2896\u001b[0m             \u001b[0;32mtry\u001b[0m\u001b[0;34m:\u001b[0m\u001b[0;34m\u001b[0m\u001b[0;34m\u001b[0m\u001b[0m\n\u001b[0;32m-> 2897\u001b[0;31m                 \u001b[0;32mreturn\u001b[0m \u001b[0mself\u001b[0m\u001b[0;34m.\u001b[0m\u001b[0m_engine\u001b[0m\u001b[0;34m.\u001b[0m\u001b[0mget_loc\u001b[0m\u001b[0;34m(\u001b[0m\u001b[0mkey\u001b[0m\u001b[0;34m)\u001b[0m\u001b[0;34m\u001b[0m\u001b[0;34m\u001b[0m\u001b[0m\n\u001b[0m\u001b[1;32m   2898\u001b[0m             \u001b[0;32mexcept\u001b[0m \u001b[0mKeyError\u001b[0m\u001b[0;34m:\u001b[0m\u001b[0;34m\u001b[0m\u001b[0;34m\u001b[0m\u001b[0m\n",
      "\u001b[0;32mpandas/_libs/index.pyx\u001b[0m in \u001b[0;36mpandas._libs.index.IndexEngine.get_loc\u001b[0;34m()\u001b[0m\n",
      "\u001b[0;32mpandas/_libs/index.pyx\u001b[0m in \u001b[0;36mpandas._libs.index.IndexEngine.get_loc\u001b[0;34m()\u001b[0m\n",
      "\u001b[0;32mpandas/_libs/hashtable_class_helper.pxi\u001b[0m in \u001b[0;36mpandas._libs.hashtable.PyObjectHashTable.get_item\u001b[0;34m()\u001b[0m\n",
      "\u001b[0;32mpandas/_libs/hashtable_class_helper.pxi\u001b[0m in \u001b[0;36mpandas._libs.hashtable.PyObjectHashTable.get_item\u001b[0;34m()\u001b[0m\n",
      "\u001b[0;31mKeyError\u001b[0m: 'PARK + activation '",
      "\nDuring handling of the above exception, another exception occurred:\n",
      "\u001b[0;31mKeyError\u001b[0m                                  Traceback (most recent call last)",
      "\u001b[0;32m<ipython-input-9-2080c4e62648>\u001b[0m in \u001b[0;36m<module>\u001b[0;34m\u001b[0m\n\u001b[1;32m      1\u001b[0m \u001b[0;31m# Distribution of availables stations\u001b[0m\u001b[0;34m\u001b[0m\u001b[0;34m\u001b[0m\u001b[0;34m\u001b[0m\u001b[0m\n\u001b[0;32m----> 2\u001b[0;31m \u001b[0m_\u001b[0m \u001b[0;34m=\u001b[0m \u001b[0msns\u001b[0m\u001b[0;34m.\u001b[0m\u001b[0mdistplot\u001b[0m\u001b[0;34m(\u001b[0m\u001b[0mdf\u001b[0m\u001b[0;34m[\u001b[0m\u001b[0;34m\"PARK + activation \"\u001b[0m\u001b[0;34m]\u001b[0m\u001b[0;34m)\u001b[0m\u001b[0;34m\u001b[0m\u001b[0;34m\u001b[0m\u001b[0m\n\u001b[0m",
      "\u001b[0;32m~/anaconda3/lib/python3.7/site-packages/pandas/core/frame.py\u001b[0m in \u001b[0;36m__getitem__\u001b[0;34m(self, key)\u001b[0m\n\u001b[1;32m   2993\u001b[0m             \u001b[0;32mif\u001b[0m \u001b[0mself\u001b[0m\u001b[0;34m.\u001b[0m\u001b[0mcolumns\u001b[0m\u001b[0;34m.\u001b[0m\u001b[0mnlevels\u001b[0m \u001b[0;34m>\u001b[0m \u001b[0;36m1\u001b[0m\u001b[0;34m:\u001b[0m\u001b[0;34m\u001b[0m\u001b[0;34m\u001b[0m\u001b[0m\n\u001b[1;32m   2994\u001b[0m                 \u001b[0;32mreturn\u001b[0m \u001b[0mself\u001b[0m\u001b[0;34m.\u001b[0m\u001b[0m_getitem_multilevel\u001b[0m\u001b[0;34m(\u001b[0m\u001b[0mkey\u001b[0m\u001b[0;34m)\u001b[0m\u001b[0;34m\u001b[0m\u001b[0;34m\u001b[0m\u001b[0m\n\u001b[0;32m-> 2995\u001b[0;31m             \u001b[0mindexer\u001b[0m \u001b[0;34m=\u001b[0m \u001b[0mself\u001b[0m\u001b[0;34m.\u001b[0m\u001b[0mcolumns\u001b[0m\u001b[0;34m.\u001b[0m\u001b[0mget_loc\u001b[0m\u001b[0;34m(\u001b[0m\u001b[0mkey\u001b[0m\u001b[0;34m)\u001b[0m\u001b[0;34m\u001b[0m\u001b[0;34m\u001b[0m\u001b[0m\n\u001b[0m\u001b[1;32m   2996\u001b[0m             \u001b[0;32mif\u001b[0m \u001b[0mis_integer\u001b[0m\u001b[0;34m(\u001b[0m\u001b[0mindexer\u001b[0m\u001b[0;34m)\u001b[0m\u001b[0;34m:\u001b[0m\u001b[0;34m\u001b[0m\u001b[0;34m\u001b[0m\u001b[0m\n\u001b[1;32m   2997\u001b[0m                 \u001b[0mindexer\u001b[0m \u001b[0;34m=\u001b[0m \u001b[0;34m[\u001b[0m\u001b[0mindexer\u001b[0m\u001b[0;34m]\u001b[0m\u001b[0;34m\u001b[0m\u001b[0;34m\u001b[0m\u001b[0m\n",
      "\u001b[0;32m~/anaconda3/lib/python3.7/site-packages/pandas/core/indexes/base.py\u001b[0m in \u001b[0;36mget_loc\u001b[0;34m(self, key, method, tolerance)\u001b[0m\n\u001b[1;32m   2897\u001b[0m                 \u001b[0;32mreturn\u001b[0m \u001b[0mself\u001b[0m\u001b[0;34m.\u001b[0m\u001b[0m_engine\u001b[0m\u001b[0;34m.\u001b[0m\u001b[0mget_loc\u001b[0m\u001b[0;34m(\u001b[0m\u001b[0mkey\u001b[0m\u001b[0;34m)\u001b[0m\u001b[0;34m\u001b[0m\u001b[0;34m\u001b[0m\u001b[0m\n\u001b[1;32m   2898\u001b[0m             \u001b[0;32mexcept\u001b[0m \u001b[0mKeyError\u001b[0m\u001b[0;34m:\u001b[0m\u001b[0;34m\u001b[0m\u001b[0;34m\u001b[0m\u001b[0m\n\u001b[0;32m-> 2899\u001b[0;31m                 \u001b[0;32mreturn\u001b[0m \u001b[0mself\u001b[0m\u001b[0;34m.\u001b[0m\u001b[0m_engine\u001b[0m\u001b[0;34m.\u001b[0m\u001b[0mget_loc\u001b[0m\u001b[0;34m(\u001b[0m\u001b[0mself\u001b[0m\u001b[0;34m.\u001b[0m\u001b[0m_maybe_cast_indexer\u001b[0m\u001b[0;34m(\u001b[0m\u001b[0mkey\u001b[0m\u001b[0;34m)\u001b[0m\u001b[0;34m)\u001b[0m\u001b[0;34m\u001b[0m\u001b[0;34m\u001b[0m\u001b[0m\n\u001b[0m\u001b[1;32m   2900\u001b[0m         \u001b[0mindexer\u001b[0m \u001b[0;34m=\u001b[0m \u001b[0mself\u001b[0m\u001b[0;34m.\u001b[0m\u001b[0mget_indexer\u001b[0m\u001b[0;34m(\u001b[0m\u001b[0;34m[\u001b[0m\u001b[0mkey\u001b[0m\u001b[0;34m]\u001b[0m\u001b[0;34m,\u001b[0m \u001b[0mmethod\u001b[0m\u001b[0;34m=\u001b[0m\u001b[0mmethod\u001b[0m\u001b[0;34m,\u001b[0m \u001b[0mtolerance\u001b[0m\u001b[0;34m=\u001b[0m\u001b[0mtolerance\u001b[0m\u001b[0;34m)\u001b[0m\u001b[0;34m\u001b[0m\u001b[0;34m\u001b[0m\u001b[0m\n\u001b[1;32m   2901\u001b[0m         \u001b[0;32mif\u001b[0m \u001b[0mindexer\u001b[0m\u001b[0;34m.\u001b[0m\u001b[0mndim\u001b[0m \u001b[0;34m>\u001b[0m \u001b[0;36m1\u001b[0m \u001b[0;32mor\u001b[0m \u001b[0mindexer\u001b[0m\u001b[0;34m.\u001b[0m\u001b[0msize\u001b[0m \u001b[0;34m>\u001b[0m \u001b[0;36m1\u001b[0m\u001b[0;34m:\u001b[0m\u001b[0;34m\u001b[0m\u001b[0;34m\u001b[0m\u001b[0m\n",
      "\u001b[0;32mpandas/_libs/index.pyx\u001b[0m in \u001b[0;36mpandas._libs.index.IndexEngine.get_loc\u001b[0;34m()\u001b[0m\n",
      "\u001b[0;32mpandas/_libs/index.pyx\u001b[0m in \u001b[0;36mpandas._libs.index.IndexEngine.get_loc\u001b[0;34m()\u001b[0m\n",
      "\u001b[0;32mpandas/_libs/hashtable_class_helper.pxi\u001b[0m in \u001b[0;36mpandas._libs.hashtable.PyObjectHashTable.get_item\u001b[0;34m()\u001b[0m\n",
      "\u001b[0;32mpandas/_libs/hashtable_class_helper.pxi\u001b[0m in \u001b[0;36mpandas._libs.hashtable.PyObjectHashTable.get_item\u001b[0;34m()\u001b[0m\n",
      "\u001b[0;31mKeyError\u001b[0m: 'PARK + activation '"
     ]
    }
   ],
   "source": [
    "# Distribution of availables stations\n",
    "_ = sns.distplot(df[\"PARK + activation \"])"
   ]
  },
  {
   "cell_type": "markdown",
   "metadata": {},
   "source": [
    "### 5. densityLevel"
   ]
  },
  {
   "cell_type": "code",
   "execution_count": 10,
   "metadata": {},
   "outputs": [
    {
     "data": {
      "image/png": "[encoded data removed]",
      "text/plain": [
       "<Figure size 432x288 with 1 Axes>"
      ]
     },
     "metadata": {
      "needs_background": "light"
     },
     "output_type": "display_data"
    }
   ],
   "source": [
    "# Distribution\n",
    "_ = sns.distplot(df[\"densityLevel\"])"
   ]
  },
  {
   "cell_type": "markdown",
   "metadata": {},
   "source": [
    "### 6. Achat possible en station (CB)"
   ]
  },
  {
   "cell_type": "code",
   "execution_count": 11,
   "metadata": {
    "scrolled": true
   },
   "outputs": [
    {
     "ename": "TypeError",
     "evalue": "unsupported operand type(s) for /: 'str' and 'int'",
     "output_type": "error",
     "traceback": [
      "\u001b[0;31m---------------------------------------------------------------------------\u001b[0m",
      "\u001b[0;31mTypeError\u001b[0m                                 Traceback (most recent call last)",
      "\u001b[0;32m<ipython-input-11-e072bcd9a66a>\u001b[0m in \u001b[0;36m<module>\u001b[0;34m\u001b[0m\n\u001b[1;32m      1\u001b[0m \u001b[0;31m# Distribution\u001b[0m\u001b[0;34m\u001b[0m\u001b[0;34m\u001b[0m\u001b[0;34m\u001b[0m\u001b[0m\n\u001b[0;32m----> 2\u001b[0;31m \u001b[0m_\u001b[0m \u001b[0;34m=\u001b[0m \u001b[0msns\u001b[0m\u001b[0;34m.\u001b[0m\u001b[0mdistplot\u001b[0m\u001b[0;34m(\u001b[0m\u001b[0mdf\u001b[0m\u001b[0;34m[\u001b[0m\u001b[0;34m\"Achat possible en station (CB)\"\u001b[0m\u001b[0;34m]\u001b[0m\u001b[0;34m)\u001b[0m\u001b[0;34m\u001b[0m\u001b[0;34m\u001b[0m\u001b[0m\n\u001b[0m",
      "\u001b[0;32m~/anaconda3/lib/python3.7/site-packages/seaborn/distributions.py\u001b[0m in \u001b[0;36mdistplot\u001b[0;34m(a, bins, hist, kde, rug, fit, hist_kws, kde_kws, rug_kws, fit_kws, color, vertical, norm_hist, axlabel, label, ax)\u001b[0m\n\u001b[1;32m    196\u001b[0m             \u001b[0mline\u001b[0m\u001b[0;34m,\u001b[0m \u001b[0;34m=\u001b[0m \u001b[0max\u001b[0m\u001b[0;34m.\u001b[0m\u001b[0mplot\u001b[0m\u001b[0;34m(\u001b[0m\u001b[0;36m0\u001b[0m\u001b[0;34m,\u001b[0m \u001b[0ma\u001b[0m\u001b[0;34m.\u001b[0m\u001b[0mmean\u001b[0m\u001b[0;34m(\u001b[0m\u001b[0;34m)\u001b[0m\u001b[0;34m)\u001b[0m\u001b[0;34m\u001b[0m\u001b[0;34m\u001b[0m\u001b[0m\n\u001b[1;32m    197\u001b[0m         \u001b[0;32melse\u001b[0m\u001b[0;34m:\u001b[0m\u001b[0;34m\u001b[0m\u001b[0;34m\u001b[0m\u001b[0m\n\u001b[0;32m--> 198\u001b[0;31m             \u001b[0mline\u001b[0m\u001b[0;34m,\u001b[0m \u001b[0;34m=\u001b[0m \u001b[0max\u001b[0m\u001b[0;34m.\u001b[0m\u001b[0mplot\u001b[0m\u001b[0;34m(\u001b[0m\u001b[0ma\u001b[0m\u001b[0;34m.\u001b[0m\u001b[0mmean\u001b[0m\u001b[0;34m(\u001b[0m\u001b[0;34m)\u001b[0m\u001b[0;34m,\u001b[0m \u001b[0;36m0\u001b[0m\u001b[0;34m)\u001b[0m\u001b[0;34m\u001b[0m\u001b[0;34m\u001b[0m\u001b[0m\n\u001b[0m\u001b[1;32m    199\u001b[0m         \u001b[0mcolor\u001b[0m \u001b[0;34m=\u001b[0m \u001b[0mline\u001b[0m\u001b[0;34m.\u001b[0m\u001b[0mget_color\u001b[0m\u001b[0;34m(\u001b[0m\u001b[0;34m)\u001b[0m\u001b[0;34m\u001b[0m\u001b[0;34m\u001b[0m\u001b[0m\n\u001b[1;32m    200\u001b[0m         \u001b[0mline\u001b[0m\u001b[0;34m.\u001b[0m\u001b[0mremove\u001b[0m\u001b[0;34m(\u001b[0m\u001b[0;34m)\u001b[0m\u001b[0;34m\u001b[0m\u001b[0;34m\u001b[0m\u001b[0m\n",
      "\u001b[0;32m~/anaconda3/lib/python3.7/site-packages/numpy/core/_methods.py\u001b[0m in \u001b[0;36m_mean\u001b[0;34m(a, axis, dtype, out, keepdims)\u001b[0m\n\u001b[1;32m    161\u001b[0m             \u001b[0mret\u001b[0m \u001b[0;34m=\u001b[0m \u001b[0mret\u001b[0m\u001b[0;34m.\u001b[0m\u001b[0mdtype\u001b[0m\u001b[0;34m.\u001b[0m\u001b[0mtype\u001b[0m\u001b[0;34m(\u001b[0m\u001b[0mret\u001b[0m \u001b[0;34m/\u001b[0m \u001b[0mrcount\u001b[0m\u001b[0;34m)\u001b[0m\u001b[0;34m\u001b[0m\u001b[0;34m\u001b[0m\u001b[0m\n\u001b[1;32m    162\u001b[0m     \u001b[0;32melse\u001b[0m\u001b[0;34m:\u001b[0m\u001b[0;34m\u001b[0m\u001b[0;34m\u001b[0m\u001b[0m\n\u001b[0;32m--> 163\u001b[0;31m         \u001b[0mret\u001b[0m \u001b[0;34m=\u001b[0m \u001b[0mret\u001b[0m \u001b[0;34m/\u001b[0m \u001b[0mrcount\u001b[0m\u001b[0;34m\u001b[0m\u001b[0;34m\u001b[0m\u001b[0m\n\u001b[0m\u001b[1;32m    164\u001b[0m \u001b[0;34m\u001b[0m\u001b[0m\n\u001b[1;32m    165\u001b[0m     \u001b[0;32mreturn\u001b[0m \u001b[0mret\u001b[0m\u001b[0;34m\u001b[0m\u001b[0;34m\u001b[0m\u001b[0m\n",
      "\u001b[0;31mTypeError\u001b[0m: unsupported operand type(s) for /: 'str' and 'int'"
     ]
    },
    {
     "data": {
      "image/png": "[encoded data removed]",
      "text/plain": [
       "<Figure size 432x288 with 1 Axes>"
      ]
     },
     "metadata": {
      "needs_background": "light"
     },
     "output_type": "display_data"
    }
   ],
   "source": [
    "# Distribution\n",
    "_ = sns.distplot(df[\"Achat possible en station (CB)\"])"
   ]
  },
  {
   "cell_type": "markdown",
   "metadata": {},
   "source": [
    "### 7. Description station"
   ]
  },
  {
   "cell_type": "markdown",
   "metadata": {},
   "source": [
    "### 8. maxBikeOverflow"
   ]
  },
  {
   "cell_type": "code",
   "execution_count": 12,
   "metadata": {},
   "outputs": [
    {
     "data": {
      "image/png": "[encoded data removed]",
      "text/plain": [
       "<Figure size 432x288 with 1 Axes>"
      ]
     },
     "metadata": {
      "needs_background": "light"
     },
     "output_type": "display_data"
    }
   ],
   "source": [
    "# Distribution\n",
    "_ = sns.distplot(df[\"maxBikeOverflow\"])"
   ]
  },
  {
   "cell_type": "markdown",
   "metadata": {},
   "source": [
    "### 9. Etat du Totem"
   ]
  },
  {
   "cell_type": "code",
   "execution_count": 13,
   "metadata": {},
   "outputs": [
    {
     "ename": "TypeError",
     "evalue": "unsupported operand type(s) for /: 'str' and 'int'",
     "output_type": "error",
     "traceback": [
      "\u001b[0;31m---------------------------------------------------------------------------\u001b[0m",
      "\u001b[0;31mTypeError\u001b[0m                                 Traceback (most recent call last)",
      "\u001b[0;32m<ipython-input-13-804d01df4c52>\u001b[0m in \u001b[0;36m<module>\u001b[0;34m\u001b[0m\n\u001b[1;32m      1\u001b[0m \u001b[0;31m# Distribution\u001b[0m\u001b[0;34m\u001b[0m\u001b[0;34m\u001b[0m\u001b[0;34m\u001b[0m\u001b[0m\n\u001b[0;32m----> 2\u001b[0;31m \u001b[0m_\u001b[0m \u001b[0;34m=\u001b[0m \u001b[0msns\u001b[0m\u001b[0;34m.\u001b[0m\u001b[0mbarplot\u001b[0m\u001b[0;34m(\u001b[0m\u001b[0mdf\u001b[0m\u001b[0;34m[\u001b[0m\u001b[0;34m\"Etat du Totem\"\u001b[0m\u001b[0;34m]\u001b[0m\u001b[0;34m)\u001b[0m\u001b[0;34m\u001b[0m\u001b[0;34m\u001b[0m\u001b[0m\n\u001b[0m",
      "\u001b[0;32m~/anaconda3/lib/python3.7/site-packages/seaborn/categorical.py\u001b[0m in \u001b[0;36mbarplot\u001b[0;34m(x, y, hue, data, order, hue_order, estimator, ci, n_boot, units, orient, color, palette, saturation, errcolor, errwidth, capsize, dodge, ax, **kwargs)\u001b[0m\n\u001b[1;32m   3147\u001b[0m                           \u001b[0mestimator\u001b[0m\u001b[0;34m,\u001b[0m \u001b[0mci\u001b[0m\u001b[0;34m,\u001b[0m \u001b[0mn_boot\u001b[0m\u001b[0;34m,\u001b[0m \u001b[0munits\u001b[0m\u001b[0;34m,\u001b[0m\u001b[0;34m\u001b[0m\u001b[0;34m\u001b[0m\u001b[0m\n\u001b[1;32m   3148\u001b[0m                           \u001b[0morient\u001b[0m\u001b[0;34m,\u001b[0m \u001b[0mcolor\u001b[0m\u001b[0;34m,\u001b[0m \u001b[0mpalette\u001b[0m\u001b[0;34m,\u001b[0m \u001b[0msaturation\u001b[0m\u001b[0;34m,\u001b[0m\u001b[0;34m\u001b[0m\u001b[0;34m\u001b[0m\u001b[0m\n\u001b[0;32m-> 3149\u001b[0;31m                           errcolor, errwidth, capsize, dodge)\n\u001b[0m\u001b[1;32m   3150\u001b[0m \u001b[0;34m\u001b[0m\u001b[0m\n\u001b[1;32m   3151\u001b[0m     \u001b[0;32mif\u001b[0m \u001b[0max\u001b[0m \u001b[0;32mis\u001b[0m \u001b[0;32mNone\u001b[0m\u001b[0;34m:\u001b[0m\u001b[0;34m\u001b[0m\u001b[0;34m\u001b[0m\u001b[0m\n",
      "\u001b[0;32m~/anaconda3/lib/python3.7/site-packages/seaborn/categorical.py\u001b[0m in \u001b[0;36m__init__\u001b[0;34m(self, x, y, hue, data, order, hue_order, estimator, ci, n_boot, units, orient, color, palette, saturation, errcolor, errwidth, capsize, dodge)\u001b[0m\n\u001b[1;32m   1607\u001b[0m                                  order, hue_order, units)\n\u001b[1;32m   1608\u001b[0m         \u001b[0mself\u001b[0m\u001b[0;34m.\u001b[0m\u001b[0mestablish_colors\u001b[0m\u001b[0;34m(\u001b[0m\u001b[0mcolor\u001b[0m\u001b[0;34m,\u001b[0m \u001b[0mpalette\u001b[0m\u001b[0;34m,\u001b[0m \u001b[0msaturation\u001b[0m\u001b[0;34m)\u001b[0m\u001b[0;34m\u001b[0m\u001b[0;34m\u001b[0m\u001b[0m\n\u001b[0;32m-> 1609\u001b[0;31m         \u001b[0mself\u001b[0m\u001b[0;34m.\u001b[0m\u001b[0mestimate_statistic\u001b[0m\u001b[0;34m(\u001b[0m\u001b[0mestimator\u001b[0m\u001b[0;34m,\u001b[0m \u001b[0mci\u001b[0m\u001b[0;34m,\u001b[0m \u001b[0mn_boot\u001b[0m\u001b[0;34m)\u001b[0m\u001b[0;34m\u001b[0m\u001b[0;34m\u001b[0m\u001b[0m\n\u001b[0m\u001b[1;32m   1610\u001b[0m \u001b[0;34m\u001b[0m\u001b[0m\n\u001b[1;32m   1611\u001b[0m         \u001b[0mself\u001b[0m\u001b[0;34m.\u001b[0m\u001b[0mdodge\u001b[0m \u001b[0;34m=\u001b[0m \u001b[0mdodge\u001b[0m\u001b[0;34m\u001b[0m\u001b[0;34m\u001b[0m\u001b[0m\n",
      "\u001b[0;32m~/anaconda3/lib/python3.7/site-packages/seaborn/categorical.py\u001b[0m in \u001b[0;36mestimate_statistic\u001b[0;34m(self, estimator, ci, n_boot)\u001b[0m\n\u001b[1;32m   1491\u001b[0m                     \u001b[0mstatistic\u001b[0m\u001b[0;34m.\u001b[0m\u001b[0mappend\u001b[0m\u001b[0;34m(\u001b[0m\u001b[0mnp\u001b[0m\u001b[0;34m.\u001b[0m\u001b[0mnan\u001b[0m\u001b[0;34m)\u001b[0m\u001b[0;34m\u001b[0m\u001b[0;34m\u001b[0m\u001b[0m\n\u001b[1;32m   1492\u001b[0m                 \u001b[0;32melse\u001b[0m\u001b[0;34m:\u001b[0m\u001b[0;34m\u001b[0m\u001b[0;34m\u001b[0m\u001b[0m\n\u001b[0;32m-> 1493\u001b[0;31m                     \u001b[0mstatistic\u001b[0m\u001b[0;34m.\u001b[0m\u001b[0mappend\u001b[0m\u001b[0;34m(\u001b[0m\u001b[0mestimator\u001b[0m\u001b[0;34m(\u001b[0m\u001b[0mstat_data\u001b[0m\u001b[0;34m)\u001b[0m\u001b[0;34m)\u001b[0m\u001b[0;34m\u001b[0m\u001b[0;34m\u001b[0m\u001b[0m\n\u001b[0m\u001b[1;32m   1494\u001b[0m \u001b[0;34m\u001b[0m\u001b[0m\n\u001b[1;32m   1495\u001b[0m                 \u001b[0;31m# Get a confidence interval for this estimate\u001b[0m\u001b[0;34m\u001b[0m\u001b[0;34m\u001b[0m\u001b[0;34m\u001b[0m\u001b[0m\n",
      "\u001b[0;32m<__array_function__ internals>\u001b[0m in \u001b[0;36mmean\u001b[0;34m(*args, **kwargs)\u001b[0m\n",
      "\u001b[0;32m~/anaconda3/lib/python3.7/site-packages/numpy/core/fromnumeric.py\u001b[0m in \u001b[0;36mmean\u001b[0;34m(a, axis, dtype, out, keepdims)\u001b[0m\n\u001b[1;32m   3255\u001b[0m \u001b[0;34m\u001b[0m\u001b[0m\n\u001b[1;32m   3256\u001b[0m     return _methods._mean(a, axis=axis, dtype=dtype,\n\u001b[0;32m-> 3257\u001b[0;31m                           out=out, **kwargs)\n\u001b[0m\u001b[1;32m   3258\u001b[0m \u001b[0;34m\u001b[0m\u001b[0m\n\u001b[1;32m   3259\u001b[0m \u001b[0;34m\u001b[0m\u001b[0m\n",
      "\u001b[0;32m~/anaconda3/lib/python3.7/site-packages/numpy/core/_methods.py\u001b[0m in \u001b[0;36m_mean\u001b[0;34m(a, axis, dtype, out, keepdims)\u001b[0m\n\u001b[1;32m    161\u001b[0m             \u001b[0mret\u001b[0m \u001b[0;34m=\u001b[0m \u001b[0mret\u001b[0m\u001b[0;34m.\u001b[0m\u001b[0mdtype\u001b[0m\u001b[0;34m.\u001b[0m\u001b[0mtype\u001b[0m\u001b[0;34m(\u001b[0m\u001b[0mret\u001b[0m \u001b[0;34m/\u001b[0m \u001b[0mrcount\u001b[0m\u001b[0;34m)\u001b[0m\u001b[0;34m\u001b[0m\u001b[0;34m\u001b[0m\u001b[0m\n\u001b[1;32m    162\u001b[0m     \u001b[0;32melse\u001b[0m\u001b[0;34m:\u001b[0m\u001b[0;34m\u001b[0m\u001b[0;34m\u001b[0m\u001b[0m\n\u001b[0;32m--> 163\u001b[0;31m         \u001b[0mret\u001b[0m \u001b[0;34m=\u001b[0m \u001b[0mret\u001b[0m \u001b[0;34m/\u001b[0m \u001b[0mrcount\u001b[0m\u001b[0;34m\u001b[0m\u001b[0;34m\u001b[0m\u001b[0m\n\u001b[0m\u001b[1;32m    164\u001b[0m \u001b[0;34m\u001b[0m\u001b[0m\n\u001b[1;32m    165\u001b[0m     \u001b[0;32mreturn\u001b[0m \u001b[0mret\u001b[0m\u001b[0;34m\u001b[0m\u001b[0;34m\u001b[0m\u001b[0m\n",
      "\u001b[0;31mTypeError\u001b[0m: unsupported operand type(s) for /: 'str' and 'int'"
     ]
    }
   ],
   "source": [
    "# Distribution\n",
    "_ = sns.barplot(df[\"Etat du Totem\"])"
   ]
  },
  {
   "cell_type": "markdown",
   "metadata": {},
   "source": [
    "### 10. nbFreeDock"
   ]
  },
  {
   "cell_type": "code",
   "execution_count": 14,
   "metadata": {},
   "outputs": [
    {
     "data": {
      "image/png": "[encoded data removed]",
      "text/plain": [
       "<Figure size 432x288 with 1 Axes>"
      ]
     },
     "metadata": {
      "needs_background": "light"
     },
     "output_type": "display_data"
    }
   ],
   "source": [
    "# Distribution\n",
    "_ = sns.distplot(df[\"nbFreeDock\"])"
   ]
  },
  {
   "cell_type": "markdown",
   "metadata": {},
   "source": [
    "### 11. Nombre de vélo mécanique"
   ]
  },
  {
   "cell_type": "code",
   "execution_count": 15,
   "metadata": {},
   "outputs": [
    {
     "data": {
      "image/png": "[encoded data removed]",
      "text/plain": [
       "<Figure size 432x288 with 1 Axes>"
      ]
     },
     "metadata": {
      "needs_background": "light"
     },
     "output_type": "display_data"
    }
   ],
   "source": [
    "# Distribution\n",
    "_ = sns.distplot(df[\"Nombre de vélo mécanique\"])"
   ]
  },
  {
   "cell_type": "markdown",
   "metadata": {},
   "source": [
    "### 12. PARK +"
   ]
  },
  {
   "cell_type": "code",
   "execution_count": 65,
   "metadata": {},
   "outputs": [
    {
     "ename": "TypeError",
     "evalue": "unsupported operand type(s) for /: 'str' and 'int'",
     "output_type": "error",
     "traceback": [
      "\u001b[0;31m---------------------------------------------------------------------------\u001b[0m",
      "\u001b[0;31mTypeError\u001b[0m                                 Traceback (most recent call last)",
      "\u001b[0;32m<ipython-input-65-b04aa16860db>\u001b[0m in \u001b[0;36m<module>\u001b[0;34m\u001b[0m\n\u001b[1;32m      1\u001b[0m \u001b[0;31m# Distribution\u001b[0m\u001b[0;34m\u001b[0m\u001b[0;34m\u001b[0m\u001b[0;34m\u001b[0m\u001b[0m\n\u001b[0;32m----> 2\u001b[0;31m \u001b[0m_\u001b[0m \u001b[0;34m=\u001b[0m \u001b[0msns\u001b[0m\u001b[0;34m.\u001b[0m\u001b[0mdistplot\u001b[0m\u001b[0;34m(\u001b[0m\u001b[0mdf\u001b[0m\u001b[0;34m[\u001b[0m\u001b[0;34m\"PARK +\"\u001b[0m\u001b[0;34m]\u001b[0m\u001b[0;34m)\u001b[0m\u001b[0;34m\u001b[0m\u001b[0;34m\u001b[0m\u001b[0m\n\u001b[0m",
      "\u001b[0;32m~/anaconda3/lib/python3.7/site-packages/seaborn/distributions.py\u001b[0m in \u001b[0;36mdistplot\u001b[0;34m(a, bins, hist, kde, rug, fit, hist_kws, kde_kws, rug_kws, fit_kws, color, vertical, norm_hist, axlabel, label, ax)\u001b[0m\n\u001b[1;32m    196\u001b[0m             \u001b[0mline\u001b[0m\u001b[0;34m,\u001b[0m \u001b[0;34m=\u001b[0m \u001b[0max\u001b[0m\u001b[0;34m.\u001b[0m\u001b[0mplot\u001b[0m\u001b[0;34m(\u001b[0m\u001b[0;36m0\u001b[0m\u001b[0;34m,\u001b[0m \u001b[0ma\u001b[0m\u001b[0;34m.\u001b[0m\u001b[0mmean\u001b[0m\u001b[0;34m(\u001b[0m\u001b[0;34m)\u001b[0m\u001b[0;34m)\u001b[0m\u001b[0;34m\u001b[0m\u001b[0;34m\u001b[0m\u001b[0m\n\u001b[1;32m    197\u001b[0m         \u001b[0;32melse\u001b[0m\u001b[0;34m:\u001b[0m\u001b[0;34m\u001b[0m\u001b[0;34m\u001b[0m\u001b[0m\n\u001b[0;32m--> 198\u001b[0;31m             \u001b[0mline\u001b[0m\u001b[0;34m,\u001b[0m \u001b[0;34m=\u001b[0m \u001b[0max\u001b[0m\u001b[0;34m.\u001b[0m\u001b[0mplot\u001b[0m\u001b[0;34m(\u001b[0m\u001b[0ma\u001b[0m\u001b[0;34m.\u001b[0m\u001b[0mmean\u001b[0m\u001b[0;34m(\u001b[0m\u001b[0;34m)\u001b[0m\u001b[0;34m,\u001b[0m \u001b[0;36m0\u001b[0m\u001b[0;34m)\u001b[0m\u001b[0;34m\u001b[0m\u001b[0;34m\u001b[0m\u001b[0m\n\u001b[0m\u001b[1;32m    199\u001b[0m         \u001b[0mcolor\u001b[0m \u001b[0;34m=\u001b[0m \u001b[0mline\u001b[0m\u001b[0;34m.\u001b[0m\u001b[0mget_color\u001b[0m\u001b[0;34m(\u001b[0m\u001b[0;34m)\u001b[0m\u001b[0;34m\u001b[0m\u001b[0;34m\u001b[0m\u001b[0m\n\u001b[1;32m    200\u001b[0m         \u001b[0mline\u001b[0m\u001b[0;34m.\u001b[0m\u001b[0mremove\u001b[0m\u001b[0;34m(\u001b[0m\u001b[0;34m)\u001b[0m\u001b[0;34m\u001b[0m\u001b[0;34m\u001b[0m\u001b[0m\n",
      "\u001b[0;32m~/anaconda3/lib/python3.7/site-packages/numpy/core/_methods.py\u001b[0m in \u001b[0;36m_mean\u001b[0;34m(a, axis, dtype, out, keepdims)\u001b[0m\n\u001b[1;32m    161\u001b[0m             \u001b[0mret\u001b[0m \u001b[0;34m=\u001b[0m \u001b[0mret\u001b[0m\u001b[0;34m.\u001b[0m\u001b[0mdtype\u001b[0m\u001b[0;34m.\u001b[0m\u001b[0mtype\u001b[0m\u001b[0;34m(\u001b[0m\u001b[0mret\u001b[0m \u001b[0;34m/\u001b[0m \u001b[0mrcount\u001b[0m\u001b[0;34m)\u001b[0m\u001b[0;34m\u001b[0m\u001b[0;34m\u001b[0m\u001b[0m\n\u001b[1;32m    162\u001b[0m     \u001b[0;32melse\u001b[0m\u001b[0;34m:\u001b[0m\u001b[0;34m\u001b[0m\u001b[0;34m\u001b[0m\u001b[0m\n\u001b[0;32m--> 163\u001b[0;31m         \u001b[0mret\u001b[0m \u001b[0;34m=\u001b[0m \u001b[0mret\u001b[0m \u001b[0;34m/\u001b[0m \u001b[0mrcount\u001b[0m\u001b[0;34m\u001b[0m\u001b[0;34m\u001b[0m\u001b[0m\n\u001b[0m\u001b[1;32m    164\u001b[0m \u001b[0;34m\u001b[0m\u001b[0m\n\u001b[1;32m    165\u001b[0m     \u001b[0;32mreturn\u001b[0m \u001b[0mret\u001b[0m\u001b[0;34m\u001b[0m\u001b[0;34m\u001b[0m\u001b[0m\n",
      "\u001b[0;31mTypeError\u001b[0m: unsupported operand type(s) for /: 'str' and 'int'"
     ]
    },
    {
     "data": {
      "image/png": "[encoded data removed]",
      "text/plain": [
       "<Figure size 432x288 with 1 Axes>"
      ]
     },
     "metadata": {
      "needs_background": "light"
     },
     "output_type": "display_data"
    }
   ],
   "source": [
    "# Distribution\n",
    "_ = sns.distplot(df[\"PARK +\"])"
   ]
  },
  {
   "cell_type": "markdown",
   "metadata": {},
   "source": [
    "### 13. nbDock"
   ]
  },
  {
   "cell_type": "code",
   "execution_count": 16,
   "metadata": {},
   "outputs": [
    {
     "data": {
      "image/png": "[encoded data removed]",
      "text/plain": [
       "<Figure size 432x288 with 1 Axes>"
      ]
     },
     "metadata": {
      "needs_background": "light"
     },
     "output_type": "display_data"
    }
   ],
   "source": [
    "# Distribution\n",
    "_ = sns.distplot(df[\"nbDock\"])"
   ]
  },
  {
   "cell_type": "markdown",
   "metadata": {},
   "source": [
    "### 14. Nombre vélo électrique"
   ]
  },
  {
   "cell_type": "code",
   "execution_count": 17,
   "metadata": {},
   "outputs": [
    {
     "data": {
      "image/png": "[encoded data removed]",
      "text/plain": [
       "<Figure size 432x288 with 1 Axes>"
      ]
     },
     "metadata": {
      "needs_background": "light"
     },
     "output_type": "display_data"
    }
   ],
   "source": [
    "# Distribution\n",
    "_ = sns.distplot(df[\"Nombre vélo électrique\"])"
   ]
  },
  {
   "cell_type": "markdown",
   "metadata": {},
   "source": [
    "### 15. Nombre vélo en PARK+"
   ]
  },
  {
   "cell_type": "code",
   "execution_count": 18,
   "metadata": {},
   "outputs": [
    {
     "data": {
      "image/png": "[encoded data removed]",
      "text/plain": [
       "<Figure size 432x288 with 1 Axes>"
      ]
     },
     "metadata": {
      "needs_background": "light"
     },
     "output_type": "display_data"
    }
   ],
   "source": [
    "# Distribution\n",
    "_ = sns.distplot(df[\"Nombre vélo en PARK+\"])"
   ]
  },
  {
   "cell_type": "markdown",
   "metadata": {},
   "source": [
    "### 16. Code de la station"
   ]
  },
  {
   "cell_type": "code",
   "execution_count": 19,
   "metadata": {},
   "outputs": [
    {
     "data": {
      "image/png": "[encoded data removed]",
      "text/plain": [
       "<Figure size 432x288 with 1 Axes>"
      ]
     },
     "metadata": {
      "needs_background": "light"
     },
     "output_type": "display_data"
    }
   ],
   "source": [
    "# Distribution\n",
    "_ = sns.distplot(df[\"Code de la station\"])"
   ]
  },
  {
   "cell_type": "markdown",
   "metadata": {},
   "source": [
    "### 17. Nom de la station"
   ]
  },
  {
   "cell_type": "code",
   "execution_count": 20,
   "metadata": {},
   "outputs": [
    {
     "ename": "TypeError",
     "evalue": "unsupported operand type(s) for /: 'str' and 'int'",
     "output_type": "error",
     "traceback": [
      "\u001b[0;31m---------------------------------------------------------------------------\u001b[0m",
      "\u001b[0;31mTypeError\u001b[0m                                 Traceback (most recent call last)",
      "\u001b[0;32m<ipython-input-20-fd86c70a40a7>\u001b[0m in \u001b[0;36m<module>\u001b[0;34m\u001b[0m\n\u001b[1;32m      1\u001b[0m \u001b[0;31m# Distribution\u001b[0m\u001b[0;34m\u001b[0m\u001b[0;34m\u001b[0m\u001b[0;34m\u001b[0m\u001b[0m\n\u001b[0;32m----> 2\u001b[0;31m \u001b[0m_\u001b[0m \u001b[0;34m=\u001b[0m \u001b[0msns\u001b[0m\u001b[0;34m.\u001b[0m\u001b[0mdistplot\u001b[0m\u001b[0;34m(\u001b[0m\u001b[0mdf\u001b[0m\u001b[0;34m[\u001b[0m\u001b[0;34m\"Nom de la station\"\u001b[0m\u001b[0;34m]\u001b[0m\u001b[0;34m)\u001b[0m\u001b[0;34m\u001b[0m\u001b[0;34m\u001b[0m\u001b[0m\n\u001b[0m",
      "\u001b[0;32m~/anaconda3/lib/python3.7/site-packages/seaborn/distributions.py\u001b[0m in \u001b[0;36mdistplot\u001b[0;34m(a, bins, hist, kde, rug, fit, hist_kws, kde_kws, rug_kws, fit_kws, color, vertical, norm_hist, axlabel, label, ax)\u001b[0m\n\u001b[1;32m    196\u001b[0m             \u001b[0mline\u001b[0m\u001b[0;34m,\u001b[0m \u001b[0;34m=\u001b[0m \u001b[0max\u001b[0m\u001b[0;34m.\u001b[0m\u001b[0mplot\u001b[0m\u001b[0;34m(\u001b[0m\u001b[0;36m0\u001b[0m\u001b[0;34m,\u001b[0m \u001b[0ma\u001b[0m\u001b[0;34m.\u001b[0m\u001b[0mmean\u001b[0m\u001b[0;34m(\u001b[0m\u001b[0;34m)\u001b[0m\u001b[0;34m)\u001b[0m\u001b[0;34m\u001b[0m\u001b[0;34m\u001b[0m\u001b[0m\n\u001b[1;32m    197\u001b[0m         \u001b[0;32melse\u001b[0m\u001b[0;34m:\u001b[0m\u001b[0;34m\u001b[0m\u001b[0;34m\u001b[0m\u001b[0m\n\u001b[0;32m--> 198\u001b[0;31m             \u001b[0mline\u001b[0m\u001b[0;34m,\u001b[0m \u001b[0;34m=\u001b[0m \u001b[0max\u001b[0m\u001b[0;34m.\u001b[0m\u001b[0mplot\u001b[0m\u001b[0;34m(\u001b[0m\u001b[0ma\u001b[0m\u001b[0;34m.\u001b[0m\u001b[0mmean\u001b[0m\u001b[0;34m(\u001b[0m\u001b[0;34m)\u001b[0m\u001b[0;34m,\u001b[0m \u001b[0;36m0\u001b[0m\u001b[0;34m)\u001b[0m\u001b[0;34m\u001b[0m\u001b[0;34m\u001b[0m\u001b[0m\n\u001b[0m\u001b[1;32m    199\u001b[0m         \u001b[0mcolor\u001b[0m \u001b[0;34m=\u001b[0m \u001b[0mline\u001b[0m\u001b[0;34m.\u001b[0m\u001b[0mget_color\u001b[0m\u001b[0;34m(\u001b[0m\u001b[0;34m)\u001b[0m\u001b[0;34m\u001b[0m\u001b[0;34m\u001b[0m\u001b[0m\n\u001b[1;32m    200\u001b[0m         \u001b[0mline\u001b[0m\u001b[0;34m.\u001b[0m\u001b[0mremove\u001b[0m\u001b[0;34m(\u001b[0m\u001b[0;34m)\u001b[0m\u001b[0;34m\u001b[0m\u001b[0;34m\u001b[0m\u001b[0m\n",
      "\u001b[0;32m~/anaconda3/lib/python3.7/site-packages/numpy/core/_methods.py\u001b[0m in \u001b[0;36m_mean\u001b[0;34m(a, axis, dtype, out, keepdims)\u001b[0m\n\u001b[1;32m    161\u001b[0m             \u001b[0mret\u001b[0m \u001b[0;34m=\u001b[0m \u001b[0mret\u001b[0m\u001b[0;34m.\u001b[0m\u001b[0mdtype\u001b[0m\u001b[0;34m.\u001b[0m\u001b[0mtype\u001b[0m\u001b[0;34m(\u001b[0m\u001b[0mret\u001b[0m \u001b[0;34m/\u001b[0m \u001b[0mrcount\u001b[0m\u001b[0;34m)\u001b[0m\u001b[0;34m\u001b[0m\u001b[0;34m\u001b[0m\u001b[0m\n\u001b[1;32m    162\u001b[0m     \u001b[0;32melse\u001b[0m\u001b[0;34m:\u001b[0m\u001b[0;34m\u001b[0m\u001b[0;34m\u001b[0m\u001b[0m\n\u001b[0;32m--> 163\u001b[0;31m         \u001b[0mret\u001b[0m \u001b[0;34m=\u001b[0m \u001b[0mret\u001b[0m \u001b[0;34m/\u001b[0m \u001b[0mrcount\u001b[0m\u001b[0;34m\u001b[0m\u001b[0;34m\u001b[0m\u001b[0m\n\u001b[0m\u001b[1;32m    164\u001b[0m \u001b[0;34m\u001b[0m\u001b[0m\n\u001b[1;32m    165\u001b[0m     \u001b[0;32mreturn\u001b[0m \u001b[0mret\u001b[0m\u001b[0;34m\u001b[0m\u001b[0;34m\u001b[0m\u001b[0m\n",
      "\u001b[0;31mTypeError\u001b[0m: unsupported operand type(s) for /: 'str' and 'int'"
     ]
    },
    {
     "data": {
      "image/png": "[encoded data removed]",
      "text/plain": [
       "<Figure size 432x288 with 1 Axes>"
      ]
     },
     "metadata": {
      "needs_background": "light"
     },
     "output_type": "display_data"
    }
   ],
   "source": [
    "# Distribution\n",
    "_ = sns.distplot(df[\"Nom de la station\"])"
   ]
  },
  {
   "cell_type": "markdown",
   "metadata": {},
   "source": [
    "### 18. Etat des stations"
   ]
  },
  {
   "cell_type": "code",
   "execution_count": 71,
   "metadata": {},
   "outputs": [
    {
     "ename": "TypeError",
     "evalue": "unsupported operand type(s) for /: 'str' and 'int'",
     "output_type": "error",
     "traceback": [
      "\u001b[0;31m---------------------------------------------------------------------------\u001b[0m",
      "\u001b[0;31mTypeError\u001b[0m                                 Traceback (most recent call last)",
      "\u001b[0;32m<ipython-input-71-d6be05c7dedd>\u001b[0m in \u001b[0;36m<module>\u001b[0;34m\u001b[0m\n\u001b[1;32m      1\u001b[0m \u001b[0;31m# Distribution\u001b[0m\u001b[0;34m\u001b[0m\u001b[0;34m\u001b[0m\u001b[0;34m\u001b[0m\u001b[0m\n\u001b[0;32m----> 2\u001b[0;31m \u001b[0m_\u001b[0m \u001b[0;34m=\u001b[0m \u001b[0msns\u001b[0m\u001b[0;34m.\u001b[0m\u001b[0mdistplot\u001b[0m\u001b[0;34m(\u001b[0m\u001b[0mdf\u001b[0m\u001b[0;34m[\u001b[0m\u001b[0;34m\"Etat des stations\"\u001b[0m\u001b[0;34m]\u001b[0m\u001b[0;34m)\u001b[0m\u001b[0;34m\u001b[0m\u001b[0;34m\u001b[0m\u001b[0m\n\u001b[0m",
      "\u001b[0;32m~/anaconda3/lib/python3.7/site-packages/seaborn/distributions.py\u001b[0m in \u001b[0;36mdistplot\u001b[0;34m(a, bins, hist, kde, rug, fit, hist_kws, kde_kws, rug_kws, fit_kws, color, vertical, norm_hist, axlabel, label, ax)\u001b[0m\n\u001b[1;32m    196\u001b[0m             \u001b[0mline\u001b[0m\u001b[0;34m,\u001b[0m \u001b[0;34m=\u001b[0m \u001b[0max\u001b[0m\u001b[0;34m.\u001b[0m\u001b[0mplot\u001b[0m\u001b[0;34m(\u001b[0m\u001b[0;36m0\u001b[0m\u001b[0;34m,\u001b[0m \u001b[0ma\u001b[0m\u001b[0;34m.\u001b[0m\u001b[0mmean\u001b[0m\u001b[0;34m(\u001b[0m\u001b[0;34m)\u001b[0m\u001b[0;34m)\u001b[0m\u001b[0;34m\u001b[0m\u001b[0;34m\u001b[0m\u001b[0m\n\u001b[1;32m    197\u001b[0m         \u001b[0;32melse\u001b[0m\u001b[0;34m:\u001b[0m\u001b[0;34m\u001b[0m\u001b[0;34m\u001b[0m\u001b[0m\n\u001b[0;32m--> 198\u001b[0;31m             \u001b[0mline\u001b[0m\u001b[0;34m,\u001b[0m \u001b[0;34m=\u001b[0m \u001b[0max\u001b[0m\u001b[0;34m.\u001b[0m\u001b[0mplot\u001b[0m\u001b[0;34m(\u001b[0m\u001b[0ma\u001b[0m\u001b[0;34m.\u001b[0m\u001b[0mmean\u001b[0m\u001b[0;34m(\u001b[0m\u001b[0;34m)\u001b[0m\u001b[0;34m,\u001b[0m \u001b[0;36m0\u001b[0m\u001b[0;34m)\u001b[0m\u001b[0;34m\u001b[0m\u001b[0;34m\u001b[0m\u001b[0m\n\u001b[0m\u001b[1;32m    199\u001b[0m         \u001b[0mcolor\u001b[0m \u001b[0;34m=\u001b[0m \u001b[0mline\u001b[0m\u001b[0;34m.\u001b[0m\u001b[0mget_color\u001b[0m\u001b[0;34m(\u001b[0m\u001b[0;34m)\u001b[0m\u001b[0;34m\u001b[0m\u001b[0;34m\u001b[0m\u001b[0m\n\u001b[1;32m    200\u001b[0m         \u001b[0mline\u001b[0m\u001b[0;34m.\u001b[0m\u001b[0mremove\u001b[0m\u001b[0;34m(\u001b[0m\u001b[0;34m)\u001b[0m\u001b[0;34m\u001b[0m\u001b[0;34m\u001b[0m\u001b[0m\n",
      "\u001b[0;32m~/anaconda3/lib/python3.7/site-packages/numpy/core/_methods.py\u001b[0m in \u001b[0;36m_mean\u001b[0;34m(a, axis, dtype, out, keepdims)\u001b[0m\n\u001b[1;32m    161\u001b[0m             \u001b[0mret\u001b[0m \u001b[0;34m=\u001b[0m \u001b[0mret\u001b[0m\u001b[0;34m.\u001b[0m\u001b[0mdtype\u001b[0m\u001b[0;34m.\u001b[0m\u001b[0mtype\u001b[0m\u001b[0;34m(\u001b[0m\u001b[0mret\u001b[0m \u001b[0;34m/\u001b[0m \u001b[0mrcount\u001b[0m\u001b[0;34m)\u001b[0m\u001b[0;34m\u001b[0m\u001b[0;34m\u001b[0m\u001b[0m\n\u001b[1;32m    162\u001b[0m     \u001b[0;32melse\u001b[0m\u001b[0;34m:\u001b[0m\u001b[0;34m\u001b[0m\u001b[0;34m\u001b[0m\u001b[0m\n\u001b[0;32m--> 163\u001b[0;31m         \u001b[0mret\u001b[0m \u001b[0;34m=\u001b[0m \u001b[0mret\u001b[0m \u001b[0;34m/\u001b[0m \u001b[0mrcount\u001b[0m\u001b[0;34m\u001b[0m\u001b[0;34m\u001b[0m\u001b[0m\n\u001b[0m\u001b[1;32m    164\u001b[0m \u001b[0;34m\u001b[0m\u001b[0m\n\u001b[1;32m    165\u001b[0m     \u001b[0;32mreturn\u001b[0m \u001b[0mret\u001b[0m\u001b[0;34m\u001b[0m\u001b[0;34m\u001b[0m\u001b[0m\n",
      "\u001b[0;31mTypeError\u001b[0m: unsupported operand type(s) for /: 'str' and 'int'"
     ]
    },
    {
     "data": {
      "image/png": "[encoded data removed]",
      "text/plain": [
       "<Figure size 432x288 with 1 Axes>"
      ]
     },
     "metadata": {
      "needs_background": "light"
     },
     "output_type": "display_data"
    }
   ],
   "source": [
    "# Distribution\n",
    "_ = sns.distplot(df[\"Etat des stations\"])"
   ]
  },
  {
   "cell_type": "markdown",
   "metadata": {},
   "source": [
    "### 19. Type de stations"
   ]
  },
  {
   "cell_type": "code",
   "execution_count": 72,
   "metadata": {},
   "outputs": [
    {
     "ename": "TypeError",
     "evalue": "unsupported operand type(s) for /: 'str' and 'int'",
     "output_type": "error",
     "traceback": [
      "\u001b[0;31m---------------------------------------------------------------------------\u001b[0m",
      "\u001b[0;31mTypeError\u001b[0m                                 Traceback (most recent call last)",
      "\u001b[0;32m<ipython-input-72-4f5cbff65e17>\u001b[0m in \u001b[0;36m<module>\u001b[0;34m\u001b[0m\n\u001b[1;32m      1\u001b[0m \u001b[0;31m# Distribution\u001b[0m\u001b[0;34m\u001b[0m\u001b[0;34m\u001b[0m\u001b[0;34m\u001b[0m\u001b[0m\n\u001b[0;32m----> 2\u001b[0;31m \u001b[0m_\u001b[0m \u001b[0;34m=\u001b[0m \u001b[0msns\u001b[0m\u001b[0;34m.\u001b[0m\u001b[0mdistplot\u001b[0m\u001b[0;34m(\u001b[0m\u001b[0mdf\u001b[0m\u001b[0;34m[\u001b[0m\u001b[0;34m\"Type de stations\"\u001b[0m\u001b[0;34m]\u001b[0m\u001b[0;34m)\u001b[0m\u001b[0;34m\u001b[0m\u001b[0;34m\u001b[0m\u001b[0m\n\u001b[0m",
      "\u001b[0;32m~/anaconda3/lib/python3.7/site-packages/seaborn/distributions.py\u001b[0m in \u001b[0;36mdistplot\u001b[0;34m(a, bins, hist, kde, rug, fit, hist_kws, kde_kws, rug_kws, fit_kws, color, vertical, norm_hist, axlabel, label, ax)\u001b[0m\n\u001b[1;32m    196\u001b[0m             \u001b[0mline\u001b[0m\u001b[0;34m,\u001b[0m \u001b[0;34m=\u001b[0m \u001b[0max\u001b[0m\u001b[0;34m.\u001b[0m\u001b[0mplot\u001b[0m\u001b[0;34m(\u001b[0m\u001b[0;36m0\u001b[0m\u001b[0;34m,\u001b[0m \u001b[0ma\u001b[0m\u001b[0;34m.\u001b[0m\u001b[0mmean\u001b[0m\u001b[0;34m(\u001b[0m\u001b[0;34m)\u001b[0m\u001b[0;34m)\u001b[0m\u001b[0;34m\u001b[0m\u001b[0;34m\u001b[0m\u001b[0m\n\u001b[1;32m    197\u001b[0m         \u001b[0;32melse\u001b[0m\u001b[0;34m:\u001b[0m\u001b[0;34m\u001b[0m\u001b[0;34m\u001b[0m\u001b[0m\n\u001b[0;32m--> 198\u001b[0;31m             \u001b[0mline\u001b[0m\u001b[0;34m,\u001b[0m \u001b[0;34m=\u001b[0m \u001b[0max\u001b[0m\u001b[0;34m.\u001b[0m\u001b[0mplot\u001b[0m\u001b[0;34m(\u001b[0m\u001b[0ma\u001b[0m\u001b[0;34m.\u001b[0m\u001b[0mmean\u001b[0m\u001b[0;34m(\u001b[0m\u001b[0;34m)\u001b[0m\u001b[0;34m,\u001b[0m \u001b[0;36m0\u001b[0m\u001b[0;34m)\u001b[0m\u001b[0;34m\u001b[0m\u001b[0;34m\u001b[0m\u001b[0m\n\u001b[0m\u001b[1;32m    199\u001b[0m         \u001b[0mcolor\u001b[0m \u001b[0;34m=\u001b[0m \u001b[0mline\u001b[0m\u001b[0;34m.\u001b[0m\u001b[0mget_color\u001b[0m\u001b[0;34m(\u001b[0m\u001b[0;34m)\u001b[0m\u001b[0;34m\u001b[0m\u001b[0;34m\u001b[0m\u001b[0m\n\u001b[1;32m    200\u001b[0m         \u001b[0mline\u001b[0m\u001b[0;34m.\u001b[0m\u001b[0mremove\u001b[0m\u001b[0;34m(\u001b[0m\u001b[0;34m)\u001b[0m\u001b[0;34m\u001b[0m\u001b[0;34m\u001b[0m\u001b[0m\n",
      "\u001b[0;32m~/anaconda3/lib/python3.7/site-packages/numpy/core/_methods.py\u001b[0m in \u001b[0;36m_mean\u001b[0;34m(a, axis, dtype, out, keepdims)\u001b[0m\n\u001b[1;32m    161\u001b[0m             \u001b[0mret\u001b[0m \u001b[0;34m=\u001b[0m \u001b[0mret\u001b[0m\u001b[0;34m.\u001b[0m\u001b[0mdtype\u001b[0m\u001b[0;34m.\u001b[0m\u001b[0mtype\u001b[0m\u001b[0;34m(\u001b[0m\u001b[0mret\u001b[0m \u001b[0;34m/\u001b[0m \u001b[0mrcount\u001b[0m\u001b[0;34m)\u001b[0m\u001b[0;34m\u001b[0m\u001b[0;34m\u001b[0m\u001b[0m\n\u001b[1;32m    162\u001b[0m     \u001b[0;32melse\u001b[0m\u001b[0;34m:\u001b[0m\u001b[0;34m\u001b[0m\u001b[0;34m\u001b[0m\u001b[0m\n\u001b[0;32m--> 163\u001b[0;31m         \u001b[0mret\u001b[0m \u001b[0;34m=\u001b[0m \u001b[0mret\u001b[0m \u001b[0;34m/\u001b[0m \u001b[0mrcount\u001b[0m\u001b[0;34m\u001b[0m\u001b[0;34m\u001b[0m\u001b[0m\n\u001b[0m\u001b[1;32m    164\u001b[0m \u001b[0;34m\u001b[0m\u001b[0m\n\u001b[1;32m    165\u001b[0m     \u001b[0;32mreturn\u001b[0m \u001b[0mret\u001b[0m\u001b[0;34m\u001b[0m\u001b[0;34m\u001b[0m\u001b[0m\n",
      "\u001b[0;31mTypeError\u001b[0m: unsupported operand type(s) for /: 'str' and 'int'"
     ]
    },
    {
     "data": {
      "image/png": "[encoded data removed]",
      "text/plain": [
       "<Figure size 432x288 with 1 Axes>"
      ]
     },
     "metadata": {
      "needs_background": "light"
     },
     "output_type": "display_data"
    }
   ],
   "source": [
    "# Distribution\n",
    "_ = sns.distplot(df[\"Type de stations\"])"
   ]
  },
  {
   "cell_type": "markdown",
   "metadata": {},
   "source": [
    "### 20. geo"
   ]
  },
  {
   "cell_type": "code",
   "execution_count": null,
   "metadata": {},
   "outputs": [],
   "source": [
    "# Distribution\n",
    "_ = sns.distplot(df[\"PARK +\"])"
   ]
  },
  {
   "cell_type": "markdown",
   "metadata": {},
   "source": [
    "### 21. duedate"
   ]
  },
  {
   "cell_type": "code",
   "execution_count": null,
   "metadata": {},
   "outputs": [],
   "source": [
    "# Distribution\n",
    "_ = sns.distplot(df[\"PARK +\"])"
   ]
  },
  {
   "cell_type": "code",
   "execution_count": 537,
   "metadata": {
    "scrolled": true
   },
   "outputs": [
    {
     "name": "stderr",
     "output_type": "stream",
     "text": [
      "C:\\Users\\alexi\\Anaconda3\\lib\\site-packages\\pandas\\core\\ops.py:1649: FutureWarning: elementwise comparison failed; returning scalar instead, but in the future will perform elementwise comparison\n",
      "  result = method(y)\n"
     ]
    },
    {
     "data": {
      "image/png": "[encoded data removed]",
      "text/plain": [
       "<Figure size 720x720 with 1 Axes>"
      ]
     },
     "metadata": {
      "needs_background": "light"
     },
     "output_type": "display_data"
    }
   ],
   "source": [
    "# Visualisation of age\n",
    "\n",
    "fig, ax = plt.subplots(figsize=(10,10))\n",
    "sns.distplot(df['age'],ax=ax,axlabel='all',hist=False)\n",
    "sns.distplot(df[df['class']=='1']['age'],ax=ax,axlabel='fraud',color='red',hist=False)\n",
    "sns.distplot(df[df['class']=='0']['age'],ax=ax,axlabel='fraud',color='green',hist=False)\n",
    "plt.show()"
   ]
  },
  {
   "cell_type": "markdown",
   "metadata": {},
   "source": [
    "#####  Impact of age on fraud: \n",
    "\n",
    "In red, the fraud age distribution, in green no fraud, in blue fraud and no fraud.\n",
    "\n",
    "Age does not seem to be correlated with fraud. Some figures seem to be overrepresented. A clue would be that fraud with quick signup and purchase have the same infos, including age."
   ]
  },
  {
   "cell_type": "markdown",
   "metadata": {},
   "source": [
    "#### 2 - Purchase value analysis"
   ]
  },
  {
   "cell_type": "code",
   "execution_count": 538,
   "metadata": {
    "scrolled": true
   },
   "outputs": [
    {
     "data": {
      "image/png": "[encoded data removed]",
      "text/plain": [
       "<Figure size 720x720 with 1 Axes>"
      ]
     },
     "metadata": {
      "needs_background": "light"
     },
     "output_type": "display_data"
    }
   ],
   "source": [
    "# Visualisation of purchase value for a fraud\n",
    "fig, ax = plt.subplots(figsize=(10,10))\n",
    "sns.distplot(df[df['class']==1]['purchase_value'],ax=ax,axlabel='fraud',color='red')\n",
    "sns.distplot(df[df['class']==0]['purchase_value'],ax=ax,axlabel='fraud',color='green')\n",
    "plt.show()"
   ]
  },
  {
   "cell_type": "markdown",
   "metadata": {},
   "source": [
    "We see here that purchase amounts are not that interesting to understand the risk of fraud"
   ]
  },
  {
   "cell_type": "markdown",
   "metadata": {},
   "source": [
    "#### 3 - Country analysis"
   ]
  },
  {
   "cell_type": "markdown",
   "metadata": {},
   "source": [
    "#### 4  - Time Analysis"
   ]
  },
  {
   "cell_type": "code",
   "execution_count": 280,
   "metadata": {
    "scrolled": true
   },
   "outputs": [
    {
     "data": {
      "image/png": "[encoded data removed]",
      "text/plain": [
       "<Figure size 720x360 with 1 Axes>"
      ]
     },
     "metadata": {
      "needs_background": "light"
     },
     "output_type": "display_data"
    }
   ],
   "source": [
    "# dist1 is the second with class = 1, dist2 is with class ) 0\n",
    "\n",
    "dist1 = pd.DataFrame(df[df['class']==1][['time_between','class']]).sort_values(by='time_between')\n",
    "dist2 = pd.DataFrame(df[df['class']==0][['time_between','class']]).sort_values(by='time_between')\n",
    "\n",
    "# Creation of a plot\n",
    "\n",
    "fig, axis = plt.subplots(figsize=(10,5))\n",
    "sns.distplot(dist1['time_between'],ax=axis,hist=True,color=\"red\",kde=False)\n",
    "sns.distplot(dist2['time_between'],ax=axis,hist=True,color=\"green\",kde=False)\n",
    "\n",
    "plt.show()\n"
   ]
  },
  {
   "cell_type": "code",
   "execution_count": 281,
   "metadata": {},
   "outputs": [
    {
     "data": {
      "image/png": "[encoded data removed]",
      "text/plain": [
       "<Figure size 720x720 with 1 Axes>"
      ]
     },
     "metadata": {
      "needs_background": "light"
     },
     "output_type": "display_data"
    }
   ],
   "source": [
    "# dist1 is the second with class = 1, dist2 is with class ) 0\n",
    "\n",
    "dist1 = pd.DataFrame(df[df['class']==1][['time_between','class']]).sort_values(by='time_between')\n",
    "dist2 = pd.DataFrame(df[df['class']==0][['time_between','class']]).sort_values(by='time_between')\n",
    "\n",
    "# Creation of a plot\n",
    "\n",
    "fig, axis = plt.subplots(figsize=(10,10))\n",
    "sns.distplot(dist1['time_between'],ax=axis,hist=False,color=\"red\",kde=True)\n",
    "sns.distplot(dist2['time_between'],ax=axis,hist=False,color=\"green\",kde=True)\n",
    "plt.show()\n"
   ]
  },
  {
   "cell_type": "code",
   "execution_count": null,
   "metadata": {},
   "outputs": [],
   "source": []
  },
  {
   "cell_type": "markdown",
   "metadata": {},
   "source": [
    "### Data Analysis:\n",
    "\n",
    "Global comments: no missing values other the lines. 1393 lines, 21 columns.\n",
    "\n",
    "Detail analysis:\n",
    "- \"Nombre de bornes disponibles\" : bewteen 0 et 68, mean at 21, std at 15.\n",
    "- \"Nombre vélo en PARK+\" : overwhelming majority at 0, but some values at 1 and 2. We can infer they are mistakes: people try PARK+, not knowing it does not work. Probably used for \"gestion de flote\".\n",
    "- \"Nombres de bornes en station\": between 0 and 73, mean at 26, std at 16.\n",
    "- \"PARK + activation\" : 100% of \"no\". This feature was the possibility to link bikes between them when docks are not available, but it was not implemented in the end.\n",
    "- \"densityLevel\" : binary, 0 ou 1.\n",
    "- \"Achat possible en station (CB)\" : \"yes\" (55%) / \"no\" (45%).\n",
    "- \"Description station\" : includes information already elsewhere, like name, coordonates...\n",
    "- \"maxBikeOverflow\" : ?\n",
    "- \"Etat du Totem\" : yes (98%) /no (2%). We can infer it is whether it works.\n",
    "- \"nbFreeDock\": number of availiable docks.\n",
    "- \"Nombre de vélo mécanique\" : number of regular bikes at the station.\n",
    "- \"PARK +\": 3 stations have the tag \"yes\", all the others \"no\".\n",
    "- \"nbDock\": number of docks total.\n",
    "- \"Nombre vélo électrique\": number of electric bikes at the station\n",
    "- \"Nombre vélo en PARK+.1\": same column as \"\"Nombre vélo en PARK+\".\n",
    "- \"Code de la station\": the id of the station, transparent.\n",
    "- \"Nom de la station\": name of the station, transparent.\n",
    "- \"Etat des stations\": Operative (96%), Work in progress (3%), Close (1%).\n",
    "- \"Type de stations\" : yes (91%), no (9%).\n",
    "- \"geo\" : GPS coordinates. All are differents, which is logical. \n",
    "- \"duedate\" : we can infer it is the deadline to make the station work during initial works."
   ]
  },
  {
   "cell_type": "markdown",
   "metadata": {},
   "source": [
    "Column classification:\n",
    "- Station\n",
    "- Velo\n",
    "- Docks"
   ]
  },
  {
   "cell_type": "markdown",
   "metadata": {},
   "source": [
    "We can delete:\n",
    "- Nom de la station : the station exists in \"Code de la station\"\n",
    "- Station description : the description is already present in other fileds\n",
    "- Park+ Activation : 100% of no, so no info\n",
    "- duedate : évolue au cours du temps : est-ce qu'il faut l'évaluer? Etudier l'évolution au court  du temps\n",
    "- \"Nombre vélo en PARK+.1\": the data already exists in \"Nombre vélo en PARK+\""
   ]
  },
  {
   "cell_type": "code",
   "execution_count": null,
   "metadata": {},
   "outputs": [],
   "source": [
    "corrélation:\n",
    "    Etat Station/ Nombre de bornes disponibles/ Etat du totem /\n",
    "    Etat du Totem"
   ]
  },
  {
   "cell_type": "markdown",
   "metadata": {},
   "source": [
    "A creuser:\n",
    "Type de station no: pas de bornes, doc, work in process\n",
    "Type de station yes: il y a des bornes"
   ]
  },
  {
   "cell_type": "markdown",
   "metadata": {},
   "source": [
    "## Mix analysis"
   ]
  },
  {
   "cell_type": "code",
   "execution_count": null,
   "metadata": {},
   "outputs": [],
   "source": []
  },
  {
   "cell_type": "code",
   "execution_count": null,
   "metadata": {},
   "outputs": [],
   "source": []
  },
  {
   "cell_type": "code",
   "execution_count": null,
   "metadata": {},
   "outputs": [],
   "source": []
  },
  {
   "cell_type": "code",
   "execution_count": null,
   "metadata": {},
   "outputs": [],
   "source": []
  }
 ],
 "metadata": {
  "kernelspec": {
   "display_name": "Python 3",
   "language": "python",
   "name": "python3"
  },
  "language_info": {
   "codemirror_mode": {
    "name": "ipython",
    "version": 3
   },
   "file_extension": ".py",
   "mimetype": "text/x-python",
   "name": "python",
   "nbconvert_exporter": "python",
   "pygments_lexer": "ipython3",
   "version": "3.7.5"
  }
 },
 "nbformat": 4,
 "nbformat_minor": 2
}
