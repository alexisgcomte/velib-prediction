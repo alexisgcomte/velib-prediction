{
 "cells": [
  {
   "cell_type": "markdown",
   "metadata": {},
   "source": [
    "# 1. Holt-Winter ETS model - Detailed"
   ]
  },
  {
   "cell_type": "markdown",
   "metadata": {},
   "source": [
    "### We are here trying the Holt-Winter ETS model for forecast"
   ]
  },
  {
   "cell_type": "code",
   "execution_count": 1,
   "metadata": {},
   "outputs": [],
   "source": [
    "# List of all Parameters\n",
    "\n",
    "# Timestamp of when we want to start the prediction\n",
    "target_start = \"9:00:00\"\n",
    "\n",
    "# n-1 minutes before the target date and n min after\n",
    "time_variation = 30"
   ]
  },
  {
   "cell_type": "markdown",
   "metadata": {},
   "source": [
    "## I. Loading libraries and the sample dataset"
   ]
  },
  {
   "cell_type": "code",
   "execution_count": 2,
   "metadata": {},
   "outputs": [],
   "source": [
    "# Library Import\n",
    "\n",
    "import numpy as np\n",
    "import pandas as pd\n",
    "import matplotlib.pyplot as plt\n",
    "import seaborn as sns\n",
    "import time\n",
    "\n",
    "from statsmodels.tsa.api import ExponentialSmoothing\n",
    "from math import sqrt\n",
    "from sklearn.metrics import mean_squared_error"
   ]
  },
  {
   "cell_type": "code",
   "execution_count": 3,
   "metadata": {
    "scrolled": true
   },
   "outputs": [
    {
     "data": {
      "text/html": [
       "<div>\n",
       "<style scoped>\n",
       "    .dataframe tbody tr th:only-of-type {\n",
       "        vertical-align: middle;\n",
       "    }\n",
       "\n",
       "    .dataframe tbody tr th {\n",
       "        vertical-align: top;\n",
       "    }\n",
       "\n",
       "    .dataframe thead th {\n",
       "        text-align: right;\n",
       "    }\n",
       "</style>\n",
       "<table border=\"1\" class=\"dataframe\">\n",
       "  <thead>\n",
       "    <tr style=\"text-align: right;\">\n",
       "      <th></th>\n",
       "      <th>Unnamed: 0</th>\n",
       "      <th>availiable_docks</th>\n",
       "      <th>date</th>\n",
       "      <th>weekday</th>\n",
       "      <th>hour</th>\n",
       "    </tr>\n",
       "  </thead>\n",
       "  <tbody>\n",
       "    <tr>\n",
       "      <td>0</td>\n",
       "      <td>0</td>\n",
       "      <td>8</td>\n",
       "      <td>2020-01-15 10:17:00</td>\n",
       "      <td>Wednesday</td>\n",
       "      <td>10</td>\n",
       "    </tr>\n",
       "    <tr>\n",
       "      <td>1</td>\n",
       "      <td>1</td>\n",
       "      <td>8</td>\n",
       "      <td>2020-01-15 10:18:00</td>\n",
       "      <td>Wednesday</td>\n",
       "      <td>10</td>\n",
       "    </tr>\n",
       "    <tr>\n",
       "      <td>2</td>\n",
       "      <td>2</td>\n",
       "      <td>7</td>\n",
       "      <td>2020-01-15 10:19:00</td>\n",
       "      <td>Wednesday</td>\n",
       "      <td>10</td>\n",
       "    </tr>\n",
       "    <tr>\n",
       "      <td>3</td>\n",
       "      <td>3</td>\n",
       "      <td>8</td>\n",
       "      <td>2020-01-15 10:20:00</td>\n",
       "      <td>Wednesday</td>\n",
       "      <td>10</td>\n",
       "    </tr>\n",
       "    <tr>\n",
       "      <td>4</td>\n",
       "      <td>4</td>\n",
       "      <td>8</td>\n",
       "      <td>2020-01-15 10:21:00</td>\n",
       "      <td>Wednesday</td>\n",
       "      <td>10</td>\n",
       "    </tr>\n",
       "  </tbody>\n",
       "</table>\n",
       "</div>"
      ],
      "text/plain": [
       "   Unnamed: 0  availiable_docks                 date    weekday  hour\n",
       "0           0                 8  2020-01-15 10:17:00  Wednesday    10\n",
       "1           1                 8  2020-01-15 10:18:00  Wednesday    10\n",
       "2           2                 7  2020-01-15 10:19:00  Wednesday    10\n",
       "3           3                 8  2020-01-15 10:20:00  Wednesday    10\n",
       "4           4                 8  2020-01-15 10:21:00  Wednesday    10"
      ]
     },
     "execution_count": 3,
     "metadata": {},
     "output_type": "execute_result"
    }
   ],
   "source": [
    "# Loading from github the dataset. It is an extract of the madeleine station only\n",
    "\n",
    "df_station = pd.read_csv(\"https://raw.githubusercontent.com/alexisgcomte/velib-prediction/master/3.%20Modeling%20Research/datasets/madeleine_weekday.csv\")\n",
    "df_station.head()"
   ]
  },
  {
   "cell_type": "markdown",
   "metadata": {},
   "source": [
    "## II. Preprocessing of the data"
   ]
  },
  {
   "cell_type": "markdown",
   "metadata": {},
   "source": [
    "### A. Restraining the dataset over a time periode"
   ]
  },
  {
   "cell_type": "code",
   "execution_count": 4,
   "metadata": {},
   "outputs": [
    {
     "data": {
      "text/html": [
       "<div>\n",
       "<style scoped>\n",
       "    .dataframe tbody tr th:only-of-type {\n",
       "        vertical-align: middle;\n",
       "    }\n",
       "\n",
       "    .dataframe tbody tr th {\n",
       "        vertical-align: top;\n",
       "    }\n",
       "\n",
       "    .dataframe thead th {\n",
       "        text-align: right;\n",
       "    }\n",
       "</style>\n",
       "<table border=\"1\" class=\"dataframe\">\n",
       "  <thead>\n",
       "    <tr style=\"text-align: right;\">\n",
       "      <th></th>\n",
       "      <th>availiable_docks</th>\n",
       "      <th>date</th>\n",
       "      <th>weekday</th>\n",
       "      <th>hour</th>\n",
       "      <th>day</th>\n",
       "    </tr>\n",
       "  </thead>\n",
       "  <tbody>\n",
       "    <tr>\n",
       "      <td>0</td>\n",
       "      <td>8</td>\n",
       "      <td>2020-01-15 10:17:00</td>\n",
       "      <td>Wednesday</td>\n",
       "      <td>10</td>\n",
       "      <td>2020-01-15</td>\n",
       "    </tr>\n",
       "    <tr>\n",
       "      <td>1</td>\n",
       "      <td>8</td>\n",
       "      <td>2020-01-15 10:18:00</td>\n",
       "      <td>Wednesday</td>\n",
       "      <td>10</td>\n",
       "      <td>2020-01-15</td>\n",
       "    </tr>\n",
       "    <tr>\n",
       "      <td>2</td>\n",
       "      <td>7</td>\n",
       "      <td>2020-01-15 10:19:00</td>\n",
       "      <td>Wednesday</td>\n",
       "      <td>10</td>\n",
       "      <td>2020-01-15</td>\n",
       "    </tr>\n",
       "    <tr>\n",
       "      <td>3</td>\n",
       "      <td>8</td>\n",
       "      <td>2020-01-15 10:20:00</td>\n",
       "      <td>Wednesday</td>\n",
       "      <td>10</td>\n",
       "      <td>2020-01-15</td>\n",
       "    </tr>\n",
       "    <tr>\n",
       "      <td>4</td>\n",
       "      <td>8</td>\n",
       "      <td>2020-01-15 10:21:00</td>\n",
       "      <td>Wednesday</td>\n",
       "      <td>10</td>\n",
       "      <td>2020-01-15</td>\n",
       "    </tr>\n",
       "  </tbody>\n",
       "</table>\n",
       "</div>"
      ],
      "text/plain": [
       "   availiable_docks                date    weekday  hour         day\n",
       "0                 8 2020-01-15 10:17:00  Wednesday    10  2020-01-15\n",
       "1                 8 2020-01-15 10:18:00  Wednesday    10  2020-01-15\n",
       "2                 7 2020-01-15 10:19:00  Wednesday    10  2020-01-15\n",
       "3                 8 2020-01-15 10:20:00  Wednesday    10  2020-01-15\n",
       "4                 8 2020-01-15 10:21:00  Wednesday    10  2020-01-15"
      ]
     },
     "execution_count": 4,
     "metadata": {},
     "output_type": "execute_result"
    }
   ],
   "source": [
    "# Removing first not useless column\n",
    "df_station.pop(\"Unnamed: 0\")\n",
    "\n",
    "# Adding day and minute\n",
    "df_station[\"day\"] = df_station.date.apply(lambda x: x[:10])\n",
    "\n",
    "# Converting to datetime the number of availiable docks\n",
    "df_station['date'] = pd.to_datetime(df_station['date'])\n",
    "\n",
    "df_station.head()"
   ]
  },
  {
   "cell_type": "code",
   "execution_count": 5,
   "metadata": {},
   "outputs": [
    {
     "name": "stdout",
     "output_type": "stream",
     "text": [
      "list of days: ['2020-01-16' '2020-01-17' '2020-01-20' '2020-01-21' '2020-01-22'\n",
      " '2020-01-23' '2020-01-24' '2020-01-27' '2020-01-28' '2020-01-29']\n"
     ]
    }
   ],
   "source": [
    "# Variable declaration\n",
    "\n",
    "# list the different days. Removing 2020_01_15 for lack of data.\n",
    "day_list = df_station.day.unique()\n",
    "\n",
    "#removing first day (incomplete data) and last day (only midnight)\n",
    "day_list = day_list[1:-1]\n",
    "\n",
    "print(\"list of days:\", day_list)"
   ]
  },
  {
   "cell_type": "code",
   "execution_count": 6,
   "metadata": {},
   "outputs": [],
   "source": [
    "# Creation of time bounds\n",
    "lower_time_bound = str(pd.Timestamp(target_start) - pd.Timedelta(minutes=time_variation))[-8:]\n",
    "upper_time_bound = str(pd.Timestamp(target_start) + pd.Timedelta(minutes=time_variation+1))[-8:]"
   ]
  },
  {
   "cell_type": "code",
   "execution_count": 7,
   "metadata": {},
   "outputs": [
    {
     "data": {
      "text/html": [
       "<div>\n",
       "<style scoped>\n",
       "    .dataframe tbody tr th:only-of-type {\n",
       "        vertical-align: middle;\n",
       "    }\n",
       "\n",
       "    .dataframe tbody tr th {\n",
       "        vertical-align: top;\n",
       "    }\n",
       "\n",
       "    .dataframe thead th {\n",
       "        text-align: right;\n",
       "    }\n",
       "</style>\n",
       "<table border=\"1\" class=\"dataframe\">\n",
       "  <thead>\n",
       "    <tr style=\"text-align: right;\">\n",
       "      <th></th>\n",
       "      <th>availiable_docks</th>\n",
       "      <th>date</th>\n",
       "      <th>weekday</th>\n",
       "      <th>hour</th>\n",
       "      <th>day</th>\n",
       "    </tr>\n",
       "  </thead>\n",
       "  <tbody>\n",
       "    <tr>\n",
       "      <td>0</td>\n",
       "      <td>6</td>\n",
       "      <td>2020-01-16 09:01:00</td>\n",
       "      <td>Thursday</td>\n",
       "      <td>9</td>\n",
       "      <td>2020-01-16</td>\n",
       "    </tr>\n",
       "    <tr>\n",
       "      <td>1</td>\n",
       "      <td>6</td>\n",
       "      <td>2020-01-16 09:02:00</td>\n",
       "      <td>Thursday</td>\n",
       "      <td>9</td>\n",
       "      <td>2020-01-16</td>\n",
       "    </tr>\n",
       "    <tr>\n",
       "      <td>2</td>\n",
       "      <td>6</td>\n",
       "      <td>2020-01-16 09:03:00</td>\n",
       "      <td>Thursday</td>\n",
       "      <td>9</td>\n",
       "      <td>2020-01-16</td>\n",
       "    </tr>\n",
       "    <tr>\n",
       "      <td>3</td>\n",
       "      <td>6</td>\n",
       "      <td>2020-01-16 09:04:00</td>\n",
       "      <td>Thursday</td>\n",
       "      <td>9</td>\n",
       "      <td>2020-01-16</td>\n",
       "    </tr>\n",
       "    <tr>\n",
       "      <td>4</td>\n",
       "      <td>6</td>\n",
       "      <td>2020-01-16 09:05:00</td>\n",
       "      <td>Thursday</td>\n",
       "      <td>9</td>\n",
       "      <td>2020-01-16</td>\n",
       "    </tr>\n",
       "  </tbody>\n",
       "</table>\n",
       "</div>"
      ],
      "text/plain": [
       "   availiable_docks                date   weekday hour         day\n",
       "0                 6 2020-01-16 09:01:00  Thursday    9  2020-01-16\n",
       "1                 6 2020-01-16 09:02:00  Thursday    9  2020-01-16\n",
       "2                 6 2020-01-16 09:03:00  Thursday    9  2020-01-16\n",
       "3                 6 2020-01-16 09:04:00  Thursday    9  2020-01-16\n",
       "4                 6 2020-01-16 09:05:00  Thursday    9  2020-01-16"
      ]
     },
     "execution_count": 7,
     "metadata": {},
     "output_type": "execute_result"
    }
   ],
   "source": [
    "# proper consolidation\n",
    "df_conso = pd.DataFrame(columns=df_station.columns)\n",
    "for i in range(len(day_list)-1):\n",
    "    \n",
    "    # The 30 min after the time, the day before\n",
    "    \n",
    "    day_lower = day_list[i]\n",
    "    df_day_lower = df_station[df_station[\"day\"] == day_lower]\n",
    "    df_day_lower = df_day_lower[(df_day_lower[\"date\"] > \"{} {}\".format(day_lower, target_start))\n",
    "                & (df_day_lower[\"date\"] < \"{} {}\".format(day_lower,upper_time_bound))]\n",
    "    \n",
    "    \n",
    "    # The 30 min before the time, the day \n",
    "    \n",
    "    \n",
    "    day_upper = day_list[i+1]\n",
    "    df_day_upper = df_station[df_station[\"day\"] == day_upper]\n",
    "    df_day_upper = df_day_upper[(df_day_upper[\"date\"] > \"{} {}\".format(day_upper, lower_time_bound))\n",
    "                & (df_day_upper[\"date\"] <= \"{} {}\".format(day_upper,target_start))]\n",
    "    \n",
    "    df_conso = pd.concat([df_conso, df_day_lower, df_day_upper])\n",
    "    \n",
    "\n",
    "df_conso = df_conso.reset_index(drop=\"True\")\n",
    "\n",
    "# Converting to int the number of availiable docks\n",
    "df_conso[\"availiable_docks\"] = df_conso[\"availiable_docks\"].astype(int)\n",
    "df_conso.head()"
   ]
  },
  {
   "cell_type": "markdown",
   "metadata": {},
   "source": [
    "### B. Creating the good format dataset"
   ]
  },
  {
   "cell_type": "code",
   "execution_count": 8,
   "metadata": {},
   "outputs": [
    {
     "name": "stdout",
     "output_type": "stream",
     "text": [
      "Sample: [6 6 6 6 6 6 5 6 6 6]\n"
     ]
    }
   ],
   "source": [
    "# Creating time_serie\n",
    "time_serie = np.array(df_conso[\"availiable_docks\"])\n",
    "print(\"Sample:\",time_serie[0:10])"
   ]
  },
  {
   "cell_type": "code",
   "execution_count": 9,
   "metadata": {},
   "outputs": [
    {
     "data": {
      "image/png": "[encoded data removed]",
      "text/plain": [
       "<Figure size 432x288 with 1 Axes>"
      ]
     },
     "metadata": {
      "needs_background": "light"
     },
     "output_type": "display_data"
    }
   ],
   "source": [
    "_ = sns.lineplot(data=df_conso, x=df_conso.index, y=\"availiable_docks\")"
   ]
  },
  {
   "cell_type": "markdown",
   "metadata": {},
   "source": [
    "### C. Train/Test Preprocessing"
   ]
  },
  {
   "cell_type": "code",
   "execution_count": 10,
   "metadata": {
    "scrolled": false
   },
   "outputs": [
    {
     "name": "stdout",
     "output_type": "stream",
     "text": [
      "Split train/test ration: 0.89\n",
      "Length of dataset: 540\n",
      "--------------\n",
      "Length of train: 480\n",
      "ratio train vs time variation: 8.0\n",
      "Length of test: 60\n",
      "ratio test vs time variation: 1.0\n",
      "--------------\n",
      "Check: 0\n"
     ]
    }
   ],
   "source": [
    "# Doing a slit of aust between train and test\n",
    "split_ratio = 1- 1/(len(time_serie)/(time_variation*2))\n",
    "train = time_serie[0:int(round(len(time_serie)*split_ratio,0))]\n",
    "test = time_serie[int(round(len(time_serie)*split_ratio,0)):]\n",
    "print(\"Split train/test ration:\",round(split_ratio,2))\n",
    "print(\"Length of dataset:\", len(time_serie))\n",
    "print(\"--------------\")\n",
    "print(\"Length of train:\", len(train))\n",
    "print(\"ratio train vs time variation:\", len(train)/(time_variation*2))\n",
    "print(\"Length of test:\", len(test))\n",
    "print(\"ratio test vs time variation:\", len(test)/(time_variation*2))\n",
    "print(\"--------------\")\n",
    "print(\"Check:\", len(time_serie)-len(train)-len(test))"
   ]
  },
  {
   "cell_type": "markdown",
   "metadata": {},
   "source": [
    "## III. Grid-searching the best ETS parameters"
   ]
  },
  {
   "cell_type": "markdown",
   "metadata": {},
   "source": [
    "### A. Function definitions for proper grid-search"
   ]
  },
  {
   "cell_type": "markdown",
   "metadata": {},
   "source": [
    "Code heavily inspired from Jason Brownlee"
   ]
  },
  {
   "cell_type": "code",
   "execution_count": 11,
   "metadata": {},
   "outputs": [],
   "source": [
    "# This will be our performance indicator\n",
    "def measure_rmse(actual, predicted):\n",
    "    return sqrt(mean_squared_error(actual, predicted))\n",
    "\n",
    "# create a set of exponential smoothing configs to try\n",
    "def exp_smoothing_configs(seasonal=[None]):\n",
    "    models = list()\n",
    "    # define config lists\n",
    "    t_params = ['add', 'mul', 'additive', None]\n",
    "    d_params = [True, False]\n",
    "    s_params = ['add', 'mul', 'additive', None]\n",
    "    p_params = seasonal\n",
    "    b_params = [True, False]\n",
    "    r_params = [True, False]\n",
    "    # create config instances\n",
    "    for t in t_params:\n",
    "        for d in d_params:\n",
    "            for s in s_params:\n",
    "                for p in p_params:\n",
    "                    for b in b_params:\n",
    "                        for r in r_params:\n",
    "                            cfg = [t,d,s,p,b,r]\n",
    "                            models.append(cfg)\n",
    "    return models\n",
    "\n",
    "# one-step Holt Winters Exponential Smoothing forecast\n",
    "def exp_smoothing_forecast_grid_search(train, test, configurations):\n",
    "    best_config = \"\"\n",
    "    best_rmse = 99999\n",
    "    for i in range(len(configurations)):\n",
    "        try:\n",
    "            t,d,s,p,b,r = configurations[i]\n",
    "            \n",
    "            # define model\n",
    "            model = ExponentialSmoothing(train, trend=t, damped=d, seasonal=s, seasonal_periods=p).fit(optimized=True,use_boxcox=b,remove_bias=r)\n",
    "           \n",
    "            # predict n values, the length of test arry\n",
    "            pred = model.predict(start=len(train)+1,end=len(test)+len(train))\n",
    "            temp_indicator = measure_rmse(test,pred)\n",
    "            if temp_indicator < best_rmse:\n",
    "                best_rmse = temp_indicator\n",
    "                best_config = configurations[i]\n",
    "        except:\n",
    "            pass\n",
    "    print(\"best configuration:\", best_config)\n",
    "    print(\"rmse associated:\", best_rmse)\n",
    "    return(best_config, best_rmse)"
   ]
  },
  {
   "cell_type": "code",
   "execution_count": 12,
   "metadata": {},
   "outputs": [
    {
     "data": {
      "text/plain": [
       "[['add', True, 'add', 60, True, True],\n",
       " ['add', True, 'add', 60, True, False],\n",
       " ['add', True, 'add', 60, False, True],\n",
       " ['add', True, 'add', 60, False, False],\n",
       " ['add', True, 'mul', 60, True, True]]"
      ]
     },
     "execution_count": 12,
     "metadata": {},
     "output_type": "execute_result"
    }
   ],
   "source": [
    "# Creating list of configuration possible\n",
    "cfg_list = exp_smoothing_configs(seasonal=[time_variation*2])\n",
    "\n",
    "# Sample\n",
    "cfg_list[:5]"
   ]
  },
  {
   "cell_type": "markdown",
   "metadata": {},
   "source": [
    "### B. Finding the best parameters over one periode"
   ]
  },
  {
   "cell_type": "code",
   "execution_count": null,
   "metadata": {},
   "outputs": [
    {
     "name": "stderr",
     "output_type": "stream",
     "text": [
      "/home/exalis/anaconda3/lib/python3.7/site-packages/statsmodels/tsa/holtwinters.py:712: ConvergenceWarning: Optimization failed to converge. Check mle_retvals.\n",
      "  ConvergenceWarning)\n",
      "/home/exalis/anaconda3/lib/python3.7/site-packages/statsmodels/tsa/holtwinters.py:712: ConvergenceWarning: Optimization failed to converge. Check mle_retvals.\n",
      "  ConvergenceWarning)\n",
      "/home/exalis/anaconda3/lib/python3.7/site-packages/statsmodels/tsa/holtwinters.py:712: ConvergenceWarning: Optimization failed to converge. Check mle_retvals.\n",
      "  ConvergenceWarning)\n",
      "/home/exalis/anaconda3/lib/python3.7/site-packages/statsmodels/tsa/holtwinters.py:712: ConvergenceWarning: Optimization failed to converge. Check mle_retvals.\n",
      "  ConvergenceWarning)\n",
      "/home/exalis/anaconda3/lib/python3.7/site-packages/statsmodels/tsa/holtwinters.py:712: ConvergenceWarning: Optimization failed to converge. Check mle_retvals.\n",
      "  ConvergenceWarning)\n",
      "/home/exalis/anaconda3/lib/python3.7/site-packages/statsmodels/tsa/holtwinters.py:712: ConvergenceWarning: Optimization failed to converge. Check mle_retvals.\n",
      "  ConvergenceWarning)\n",
      "/home/exalis/anaconda3/lib/python3.7/site-packages/statsmodels/tsa/holtwinters.py:712: ConvergenceWarning: Optimization failed to converge. Check mle_retvals.\n",
      "  ConvergenceWarning)\n"
     ]
    }
   ],
   "source": [
    "best_parameters, best_rmse = exp_smoothing_forecast_grid_search(train, test, cfg_list)"
   ]
  },
  {
   "cell_type": "code",
   "execution_count": null,
   "metadata": {
    "scrolled": true
   },
   "outputs": [],
   "source": [
    "print(\"Best parameters:\",best_parameters)\n",
    "print(\"Best RMSE:\", round(best_rmse,2))"
   ]
  },
  {
   "cell_type": "code",
   "execution_count": null,
   "metadata": {},
   "outputs": [],
   "source": [
    "# Loading the best parameters found befor\n",
    "t,d,s,p,b,r = best_parameters\n",
    "\n",
    "# Creating the model on full time serie\n",
    "model = ExponentialSmoothing(train, trend=t, damped=d, seasonal=s, seasonal_periods=p).fit(optimized=True,use_boxcox=b,remove_bias=r)\n",
    "\n",
    "# Saving the prediction for further use\n",
    "pred_first_run = model.predict(len(train)+1,len(train)+len(test))"
   ]
  },
  {
   "cell_type": "markdown",
   "metadata": {},
   "source": [
    "### C. Training on full time serie to optimize before prediction"
   ]
  },
  {
   "cell_type": "code",
   "execution_count": null,
   "metadata": {},
   "outputs": [],
   "source": [
    "# Creating the model on full time serie, using best parameters\n",
    "model = ExponentialSmoothing(time_serie, trend=t, damped=d, seasonal=s, seasonal_periods=p).fit(optimized=True,use_boxcox=b,remove_bias=r)\n",
    "\n",
    "# predicting on all time serie for global RMSE\n",
    "pred_model = model.predict(1,end=len(time_serie))\n",
    "print(\"Optmised RMSE:\", measure_rmse(time_serie,pred_model))"
   ]
  },
  {
   "cell_type": "markdown",
   "metadata": {},
   "source": [
    "## IV - Making the prediction up to the time variation and creating  assessment dataframe"
   ]
  },
  {
   "cell_type": "code",
   "execution_count": null,
   "metadata": {
    "scrolled": true
   },
   "outputs": [],
   "source": [
    "# Prediction the dataset + time variation\n",
    "final_prediction = model.predict(start=(len(time_serie)+1), end=(len(time_serie)+time_variation))\n",
    "\n",
    "# Creating a dataframe for assessement\n",
    "df_assessement = pd.DataFrame(columns=[\"actual\",\"forecast_first_run\",\"forecast_optimized\",\"forecast_optimized_round\"])\n",
    "# Setting actual at the last known value\n",
    "df_assessement.actual = (np.concatenate((time_serie, (np.zeros(time_variation)+time_serie[-1:])), axis = 0))\n",
    "# Setting forecast at time_serie for the past and the final prediction for the futur\n",
    "df_assessement.forecast_first_run = (np.concatenate((train, pred_first_run, (np.zeros(time_variation)+pred_first_run[-1:])), axis = 0))\n",
    "df_assessement.forecast_optimized = (np.concatenate((time_serie, final_prediction), axis = 0))\n",
    "df_assessement.forecast_optimized_round = df_assessement.forecast_optimized.apply(lambda x:round(x,0))\n",
    "df_assessement[\"date\"] = df_conso[\"date\"]\n",
    "df_assessement.head()"
   ]
  },
  {
   "cell_type": "code",
   "execution_count": null,
   "metadata": {
    "scrolled": true
   },
   "outputs": [],
   "source": [
    "# Making a synthetic dataset for easier visualisation\n",
    "\n",
    "df_assessement_small = df_assessement[-time_variation*2:]\n",
    "start_date = pd.Timestamp(np.array(df_assessement_small[\"date\"])[0])\n",
    "end_date = start_date + pd.Timedelta(minutes=time_variation*2-1)\n",
    "\n",
    "print(\"Start time:\",start_date)\n",
    "print(\"End time:\", end_date)\n",
    "\n",
    "index_date = pd.date_range(start=start_date, end=end_date, freq=\"T\")\n",
    "df_assessement_small.index = index_date\n",
    "df_assessement_small.pop(\"date\")\n",
    "df_assessement_small[\"day_before\"] = np.array(df_assessement[-time_variation*4:-time_variation*2][\"actual\"])\n",
    "df_assessement_small.head()"
   ]
  },
  {
   "cell_type": "markdown",
   "metadata": {},
   "source": [
    "## V - Graphic Prediction"
   ]
  },
  {
   "cell_type": "markdown",
   "metadata": {},
   "source": [
    "### A. Graphic Prepration"
   ]
  },
  {
   "cell_type": "code",
   "execution_count": null,
   "metadata": {},
   "outputs": [],
   "source": [
    "# Function that return the minimum and maximum value of a dataframe\n",
    "\n",
    "def upper_lower_bounds(dataframe):\n",
    "    min_value = 999\n",
    "    max_value= 0\n",
    "    for i in dataframe.columns:\n",
    "        temp_list = np.array(dataframe[i])\n",
    "        temp_list = temp_list[temp_list >= 0]\n",
    "        min_temp = np.amin(temp_list)\n",
    "        max_temp = np.amax(temp_list)\n",
    "        if min_temp < min_value:\n",
    "            min_value=min_temp\n",
    "        if max_temp > max_value:\n",
    "            max_value = max_temp\n",
    "    return(max_value, min_value)"
   ]
  },
  {
   "cell_type": "code",
   "execution_count": null,
   "metadata": {},
   "outputs": [],
   "source": [
    "# Calculating lower and upper bounds for ulterior use\n",
    "\n",
    "lower_bound, upper_bound = upper_lower_bounds(df_assessement_small)"
   ]
  },
  {
   "cell_type": "markdown",
   "metadata": {},
   "source": [
    "### B. Full Prediction"
   ]
  },
  {
   "cell_type": "code",
   "execution_count": null,
   "metadata": {
    "scrolled": true
   },
   "outputs": [],
   "source": [
    "# Graphic visualisation of the prediction\n",
    "\n",
    "#Removing actual data on projection time for better visualisation\n",
    "df_assessement.actual[-time_variation:] = None\n",
    "\n",
    "fig, axis = plt.subplots(figsize=(15,5))\n",
    "sns.lineplot(x=df_assessement.index, y=\"forecast_optimized\",data=df_assessement, color=\"blue\")\n",
    "sns.lineplot(x=df_assessement.index, y=\"forecast_optimized_round\",data=df_assessement, color=\"cyan\")\n",
    "sns.lineplot(x=df_assessement.index, y=\"forecast_first_run\",data=df_assessement, color=\"red\")\n",
    "sns.lineplot(x=df_assessement.index, y=\"actual\",data=df_assessement, color=\"green\")\n",
    "\n",
    "plt.show()"
   ]
  },
  {
   "cell_type": "markdown",
   "metadata": {},
   "source": [
    "### C. Synthetic visualisation of results"
   ]
  },
  {
   "cell_type": "code",
   "execution_count": null,
   "metadata": {
    "scrolled": false
   },
   "outputs": [],
   "source": [
    "# Setting prediction boundary\n",
    "\n",
    "\n",
    "#Removing actual data on projection time for better visualisation\n",
    "df_assessement_small.actual[-time_variation:] = None\n",
    "\n",
    "# Graphic visualisation of the prediction\n",
    "fig, ax = plt.subplots(figsize=(15,5))\n",
    "ax = sns.lineplot(x=df_assessement_small.index, y=\"forecast_optimized\",data=df_assessement_small, color=\"blue\",label=\"Forecast\")\n",
    "ax = sns.lineplot(x=df_assessement_small.index, y=\"forecast_optimized_round\",data=df_assessement_small, color=\"cyan\",label=\"Quantized Forecast\")\n",
    "ax = sns.lineplot(x=df_assessement_small.index, y=\"day_before\",data=df_assessement_small, color=\"#003300\",label=\"Yesterday\")\n",
    "ax = sns.lineplot(x=df_assessement_small.index, y=\"actual\",data=df_assessement_small, color=\"green\",label=\"Today\")\n",
    "\n",
    "\n",
    "x1, y1 = [df_assessement_small.index[time_variation]-1, df_assessement_small.index[time_variation]-1], [lower_bound, upper_bound]\n",
    "ax = plt.plot(x1, y1, linestyle=\"dashdot\", color=\"red\")\n",
    "\n",
    "\n",
    "plt.show()"
   ]
  },
  {
   "cell_type": "code",
   "execution_count": null,
   "metadata": {},
   "outputs": [],
   "source": []
  }
 ],
 "metadata": {
  "kernelspec": {
   "display_name": "Python 3",
   "language": "python",
   "name": "python3"
  },
  "language_info": {
   "codemirror_mode": {
    "name": "ipython",
    "version": 3
   },
   "file_extension": ".py",
   "mimetype": "text/x-python",
   "name": "python",
   "nbconvert_exporter": "python",
   "pygments_lexer": "ipython3",
   "version": "3.7.4"
  }
 },
 "nbformat": 4,
 "nbformat_minor": 2
}
