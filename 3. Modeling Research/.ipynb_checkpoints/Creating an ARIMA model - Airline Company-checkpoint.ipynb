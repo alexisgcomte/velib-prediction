{
 "cells": [
  {
   "cell_type": "code",
   "execution_count": 1,
   "metadata": {},
   "outputs": [],
   "source": [
    "# Importing the librairies\n",
    "\n",
    "import pandas as pd\n",
    "from pmdarima import auto_arima\n",
    "from matplotlib import pyplot as plt\n",
    "from math import sqrt\n",
    "from sklearn.metrics import mean_squared_error"
   ]
  },
  {
   "cell_type": "code",
   "execution_count": 2,
   "metadata": {},
   "outputs": [],
   "source": [
    "# loading the dataset\n",
    "\n",
    "df = pd.read_csv('/home/exalis/GitHub/velib-prediction/velib-prediction/3. Modeling Research/datasets/international-airline-passengers.csv', sep =\";\")"
   ]
  },
  {
   "cell_type": "code",
   "execution_count": 3,
   "metadata": {},
   "outputs": [
    {
     "data": {
      "text/plain": [
       "(144, 2)"
      ]
     },
     "execution_count": 3,
     "metadata": {},
     "output_type": "execute_result"
    }
   ],
   "source": [
    "df.shape"
   ]
  },
  {
   "cell_type": "code",
   "execution_count": 4,
   "metadata": {},
   "outputs": [
    {
     "data": {
      "text/html": [
       "<div>\n",
       "<style scoped>\n",
       "    .dataframe tbody tr th:only-of-type {\n",
       "        vertical-align: middle;\n",
       "    }\n",
       "\n",
       "    .dataframe tbody tr th {\n",
       "        vertical-align: top;\n",
       "    }\n",
       "\n",
       "    .dataframe thead th {\n",
       "        text-align: right;\n",
       "    }\n",
       "</style>\n",
       "<table border=\"1\" class=\"dataframe\">\n",
       "  <thead>\n",
       "    <tr style=\"text-align: right;\">\n",
       "      <th></th>\n",
       "      <th>Month</th>\n",
       "      <th>Passengers</th>\n",
       "    </tr>\n",
       "  </thead>\n",
       "  <tbody>\n",
       "    <tr>\n",
       "      <th>0</th>\n",
       "      <td>1949-01</td>\n",
       "      <td>112</td>\n",
       "    </tr>\n",
       "    <tr>\n",
       "      <th>1</th>\n",
       "      <td>1949-02</td>\n",
       "      <td>118</td>\n",
       "    </tr>\n",
       "    <tr>\n",
       "      <th>2</th>\n",
       "      <td>1949-03</td>\n",
       "      <td>132</td>\n",
       "    </tr>\n",
       "    <tr>\n",
       "      <th>3</th>\n",
       "      <td>1949-04</td>\n",
       "      <td>129</td>\n",
       "    </tr>\n",
       "    <tr>\n",
       "      <th>4</th>\n",
       "      <td>1949-05</td>\n",
       "      <td>121</td>\n",
       "    </tr>\n",
       "  </tbody>\n",
       "</table>\n",
       "</div>"
      ],
      "text/plain": [
       "     Month  Passengers\n",
       "0  1949-01         112\n",
       "1  1949-02         118\n",
       "2  1949-03         132\n",
       "3  1949-04         129\n",
       "4  1949-05         121"
      ]
     },
     "execution_count": 4,
     "metadata": {},
     "output_type": "execute_result"
    }
   ],
   "source": [
    "df.head()"
   ]
  },
  {
   "cell_type": "code",
   "execution_count": 6,
   "metadata": {},
   "outputs": [
    {
     "name": "stderr",
     "output_type": "stream",
     "text": [
      "/home/exalis/anaconda3/lib/python3.7/site-packages/pandas/core/frame.py:4117: SettingWithCopyWarning: \n",
      "A value is trying to be set on a copy of a slice from a DataFrame\n",
      "\n",
      "See the caveats in the documentation: http://pandas.pydata.org/pandas-docs/stable/user_guide/indexing.html#returning-a-view-versus-a-copy\n",
      "  errors=errors,\n"
     ]
    },
    {
     "data": {
      "text/plain": [
       "<matplotlib.axes._subplots.AxesSubplot at 0x7f17b36aff50>"
      ]
     },
     "execution_count": 6,
     "metadata": {},
     "output_type": "execute_result"
    },
    {
     "data": {
      "image/png": "[encoded data removed]",
      "text/plain": [
       "<Figure size 432x288 with 1 Axes>"
      ]
     },
     "metadata": {
      "needs_background": "light"
     },
     "output_type": "display_data"
    }
   ],
   "source": [
    "#divide into train and validation set\n",
    "train = df[:int(0.7*(len(df)))]\n",
    "test = df[int(0.7*(len(df))):]\n",
    "\n",
    "#preprocessing (since arima takes univariate series as input)\n",
    "train_viz = train\n",
    "test_viz = test\n",
    "\n",
    "train_viz.drop('Month',axis=1,inplace=True)\n",
    "test_viz.drop('Month',axis=1,inplace=True)\n",
    "\n",
    "#plotting the data\n",
    "train_viz['Passengers'].plot()\n",
    "test_viz['Passengers'].plot()"
   ]
  },
  {
   "cell_type": "code",
   "execution_count": 7,
   "metadata": {},
   "outputs": [
    {
     "name": "stdout",
     "output_type": "stream",
     "text": [
      "Fit ARIMA: order=(2, 1, 2) seasonal_order=(0, 0, 0, 1); AIC=886.147, BIC=901.718, Fit time=0.477 seconds\n",
      "Fit ARIMA: order=(0, 1, 0) seasonal_order=(0, 0, 0, 1); AIC=909.769, BIC=914.959, Fit time=0.014 seconds\n",
      "Fit ARIMA: order=(1, 1, 0) seasonal_order=(0, 0, 0, 1); AIC=907.370, BIC=915.155, Fit time=0.073 seconds\n",
      "Fit ARIMA: order=(0, 1, 1) seasonal_order=(0, 0, 0, 1); AIC=904.979, BIC=912.764, Fit time=0.100 seconds\n",
      "Fit ARIMA: order=(0, 1, 0) seasonal_order=(0, 0, 0, 1); AIC=908.785, BIC=911.380, Fit time=0.012 seconds\n",
      "Fit ARIMA: order=(1, 1, 2) seasonal_order=(0, 0, 0, 1); AIC=884.966, BIC=897.942, Fit time=0.324 seconds\n",
      "Near non-invertible roots for order (1, 1, 2)(0, 0, 0, 1); setting score to inf (at least one inverse root too close to the border of the unit circle: 1.000)\n",
      "Fit ARIMA: order=(2, 1, 1) seasonal_order=(0, 0, 0, 1); AIC=884.152, BIC=897.128, Fit time=0.302 seconds\n",
      "Near non-invertible roots for order (2, 1, 1)(0, 0, 0, 1); setting score to inf (at least one inverse root too close to the border of the unit circle: 1.000)\n",
      "Fit ARIMA: order=(3, 1, 2) seasonal_order=(0, 0, 0, 1); AIC=882.263, BIC=900.429, Fit time=0.308 seconds\n",
      "Near non-invertible roots for order (3, 1, 2)(0, 0, 0, 1); setting score to inf (at least one inverse root too close to the border of the unit circle: 0.999)\n",
      "Fit ARIMA: order=(2, 1, 3) seasonal_order=(0, 0, 0, 1); AIC=885.874, BIC=904.040, Fit time=0.477 seconds\n",
      "Near non-invertible roots for order (2, 1, 3)(0, 0, 0, 1); setting score to inf (at least one inverse root too close to the border of the unit circle: 1.000)\n",
      "Fit ARIMA: order=(1, 1, 1) seasonal_order=(0, 0, 0, 1); AIC=900.136, BIC=910.517, Fit time=0.100 seconds\n",
      "Fit ARIMA: order=(1, 1, 3) seasonal_order=(0, 0, 0, 1); AIC=886.831, BIC=902.402, Fit time=0.365 seconds\n",
      "Near non-invertible roots for order (1, 1, 3)(0, 0, 0, 1); setting score to inf (at least one inverse root too close to the border of the unit circle: 1.000)\n",
      "Fit ARIMA: order=(3, 1, 1) seasonal_order=(0, 0, 0, 1); AIC=885.632, BIC=901.203, Fit time=0.376 seconds\n",
      "Near non-invertible roots for order (3, 1, 1)(0, 0, 0, 1); setting score to inf (at least one inverse root too close to the border of the unit circle: 1.000)\n",
      "Fit ARIMA: order=(3, 1, 3) seasonal_order=(0, 0, 0, 1); AIC=873.583, BIC=894.344, Fit time=0.465 seconds\n",
      "Near non-invertible roots for order (3, 1, 3)(0, 0, 0, 1); setting score to inf (at least one inverse root too close to the border of the unit circle: 1.000)\n",
      "Total fit time: 3.410 seconds\n"
     ]
    }
   ],
   "source": [
    "# Initializing, training and fitting the model\n",
    "\n",
    "model = auto_arima(train, trace=True, error_action='ignore', suppress_warnings=True)\n",
    "model.fit(train)\n",
    "\n",
    "# Creating forecast data\n",
    "\n",
    "forecast = model.predict(n_periods=len(test))\n",
    "forecast = pd.DataFrame(forecast,index = test.index,columns=['Prediction'])"
   ]
  },
  {
   "cell_type": "code",
   "execution_count": 8,
   "metadata": {
    "scrolled": false
   },
   "outputs": [
    {
     "data": {
      "image/png": "[encoded data removed]",
      "text/plain": [
       "<Figure size 432x288 with 1 Axes>"
      ]
     },
     "metadata": {
      "needs_background": "light"
     },
     "output_type": "display_data"
    }
   ],
   "source": [
    "# Plotting the predictions vs test data\n",
    "\n",
    "plt.plot(train, label='Train')\n",
    "plt.plot(test, label='Test')\n",
    "plt.plot(forecast, label='Prediction')\n",
    "plt.show()"
   ]
  },
  {
   "cell_type": "code",
   "execution_count": 9,
   "metadata": {},
   "outputs": [
    {
     "name": "stdout",
     "output_type": "stream",
     "text": [
      "67.43792820231941\n"
     ]
    }
   ],
   "source": [
    "# Calculating the RMSE for metrics\n",
    "\n",
    "rmse = sqrt(mean_squared_error(test,forecast))\n",
    "print(rmse)"
   ]
  }
 ],
 "metadata": {
  "kernelspec": {
   "display_name": "Python 3",
   "language": "python",
   "name": "python3"
  },
  "language_info": {
   "codemirror_mode": {
    "name": "ipython",
    "version": 3
   },
   "file_extension": ".py",
   "mimetype": "text/x-python",
   "name": "python",
   "nbconvert_exporter": "python",
   "pygments_lexer": "ipython3",
   "version": "3.7.5"
  }
 },
 "nbformat": 4,
 "nbformat_minor": 2
}
