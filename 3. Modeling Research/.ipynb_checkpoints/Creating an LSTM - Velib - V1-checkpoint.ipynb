{
 "cells": [
  {
   "cell_type": "markdown",
   "metadata": {},
   "source": [
    "https://github.com/jinfagang/LSTM_learn/blob/master/lstm_airline_predict.py"
   ]
  },
  {
   "cell_type": "code",
   "execution_count": 194,
   "metadata": {},
   "outputs": [],
   "source": [
    "import pandas as pd\n",
    "import numpy as np\n",
    "import matplotlib.pyplot as plt\n",
    "import seaborn as sns\n",
    "from sklearn.preprocessing import MinMaxScaler\n",
    "from keras.models import Sequential\n",
    "from keras.layers import LSTM, Dense, Activation\n",
    "import math"
   ]
  },
  {
   "cell_type": "markdown",
   "metadata": {},
   "source": [
    "# Loading Dataset"
   ]
  },
  {
   "cell_type": "code",
   "execution_count": 2,
   "metadata": {},
   "outputs": [],
   "source": [
    "# Loading dataset\n",
    "\n",
    "df_total = pd.read_csv(\"/home/exalis/VELIB-DATA/SIMPLE DATASET/Simple_Dataset_2020_01_27 & Station.csv\")"
   ]
  },
  {
   "cell_type": "code",
   "execution_count": 6,
   "metadata": {
    "scrolled": true
   },
   "outputs": [
    {
     "data": {
      "text/html": [
       "<div>\n",
       "<style scoped>\n",
       "    .dataframe tbody tr th:only-of-type {\n",
       "        vertical-align: middle;\n",
       "    }\n",
       "\n",
       "    .dataframe tbody tr th {\n",
       "        vertical-align: top;\n",
       "    }\n",
       "\n",
       "    .dataframe thead th {\n",
       "        text-align: right;\n",
       "    }\n",
       "</style>\n",
       "<table border=\"1\" class=\"dataframe\">\n",
       "  <thead>\n",
       "    <tr style=\"text-align: right;\">\n",
       "      <th></th>\n",
       "      <th>Unnamed: 0</th>\n",
       "      <th>availiable_docks</th>\n",
       "      <th>date</th>\n",
       "      <th>station_name</th>\n",
       "    </tr>\n",
       "  </thead>\n",
       "  <tbody>\n",
       "    <tr>\n",
       "      <th>0</th>\n",
       "      <td>0</td>\n",
       "      <td>33</td>\n",
       "      <td>2020-01-15 10:17:00</td>\n",
       "      <td>Benjamin Godard - Victor Hugo</td>\n",
       "    </tr>\n",
       "    <tr>\n",
       "      <th>1</th>\n",
       "      <td>1</td>\n",
       "      <td>53</td>\n",
       "      <td>2020-01-15 10:17:00</td>\n",
       "      <td>André Mazet - Saint-André des Arts</td>\n",
       "    </tr>\n",
       "    <tr>\n",
       "      <th>2</th>\n",
       "      <td>2</td>\n",
       "      <td>19</td>\n",
       "      <td>2020-01-15 10:17:00</td>\n",
       "      <td>Toudouze - Clauzel</td>\n",
       "    </tr>\n",
       "    <tr>\n",
       "      <th>3</th>\n",
       "      <td>3</td>\n",
       "      <td>19</td>\n",
       "      <td>2020-01-15 10:17:00</td>\n",
       "      <td>Charonne - Robert et Sonia Delauney</td>\n",
       "    </tr>\n",
       "    <tr>\n",
       "      <th>4</th>\n",
       "      <td>4</td>\n",
       "      <td>27</td>\n",
       "      <td>2020-01-15 10:17:00</td>\n",
       "      <td>Mairie du 12ème</td>\n",
       "    </tr>\n",
       "  </tbody>\n",
       "</table>\n",
       "</div>"
      ],
      "text/plain": [
       "   Unnamed: 0  availiable_docks                 date  \\\n",
       "0           0                33  2020-01-15 10:17:00   \n",
       "1           1                53  2020-01-15 10:17:00   \n",
       "2           2                19  2020-01-15 10:17:00   \n",
       "3           3                19  2020-01-15 10:17:00   \n",
       "4           4                27  2020-01-15 10:17:00   \n",
       "\n",
       "                          station_name  \n",
       "0        Benjamin Godard - Victor Hugo  \n",
       "1   André Mazet - Saint-André des Arts  \n",
       "2                   Toudouze - Clauzel  \n",
       "3  Charonne - Robert et Sonia Delauney  \n",
       "4                      Mairie du 12ème  "
      ]
     },
     "execution_count": 6,
     "metadata": {},
     "output_type": "execute_result"
    }
   ],
   "source": [
    "df_total.head()"
   ]
  },
  {
   "cell_type": "code",
   "execution_count": 7,
   "metadata": {},
   "outputs": [],
   "source": [
    "# Taking only station \"Godot de Mauroy - Madeleine\"\n",
    "df_case = df_total[df_total[\"station_name\"]==\"Godot de Mauroy - Madeleine\"]"
   ]
  },
  {
   "cell_type": "code",
   "execution_count": 8,
   "metadata": {},
   "outputs": [
    {
     "data": {
      "text/html": [
       "<div>\n",
       "<style scoped>\n",
       "    .dataframe tbody tr th:only-of-type {\n",
       "        vertical-align: middle;\n",
       "    }\n",
       "\n",
       "    .dataframe tbody tr th {\n",
       "        vertical-align: top;\n",
       "    }\n",
       "\n",
       "    .dataframe thead th {\n",
       "        text-align: right;\n",
       "    }\n",
       "</style>\n",
       "<table border=\"1\" class=\"dataframe\">\n",
       "  <thead>\n",
       "    <tr style=\"text-align: right;\">\n",
       "      <th></th>\n",
       "      <th>Unnamed: 0</th>\n",
       "      <th>availiable_docks</th>\n",
       "      <th>date</th>\n",
       "      <th>station_name</th>\n",
       "    </tr>\n",
       "  </thead>\n",
       "  <tbody>\n",
       "    <tr>\n",
       "      <th>979</th>\n",
       "      <td>979</td>\n",
       "      <td>8</td>\n",
       "      <td>2020-01-15 10:17:00</td>\n",
       "      <td>Godot de Mauroy - Madeleine</td>\n",
       "    </tr>\n",
       "    <tr>\n",
       "      <th>2372</th>\n",
       "      <td>2372</td>\n",
       "      <td>8</td>\n",
       "      <td>2020-01-15 10:18:00</td>\n",
       "      <td>Godot de Mauroy - Madeleine</td>\n",
       "    </tr>\n",
       "    <tr>\n",
       "      <th>3765</th>\n",
       "      <td>3765</td>\n",
       "      <td>7</td>\n",
       "      <td>2020-01-15 10:19:00</td>\n",
       "      <td>Godot de Mauroy - Madeleine</td>\n",
       "    </tr>\n",
       "    <tr>\n",
       "      <th>5158</th>\n",
       "      <td>5158</td>\n",
       "      <td>8</td>\n",
       "      <td>2020-01-15 10:20:00</td>\n",
       "      <td>Godot de Mauroy - Madeleine</td>\n",
       "    </tr>\n",
       "    <tr>\n",
       "      <th>6551</th>\n",
       "      <td>6551</td>\n",
       "      <td>8</td>\n",
       "      <td>2020-01-15 10:21:00</td>\n",
       "      <td>Godot de Mauroy - Madeleine</td>\n",
       "    </tr>\n",
       "  </tbody>\n",
       "</table>\n",
       "</div>"
      ],
      "text/plain": [
       "      Unnamed: 0  availiable_docks                 date  \\\n",
       "979          979                 8  2020-01-15 10:17:00   \n",
       "2372        2372                 8  2020-01-15 10:18:00   \n",
       "3765        3765                 7  2020-01-15 10:19:00   \n",
       "5158        5158                 8  2020-01-15 10:20:00   \n",
       "6551        6551                 8  2020-01-15 10:21:00   \n",
       "\n",
       "                     station_name  \n",
       "979   Godot de Mauroy - Madeleine  \n",
       "2372  Godot de Mauroy - Madeleine  \n",
       "3765  Godot de Mauroy - Madeleine  \n",
       "5158  Godot de Mauroy - Madeleine  \n",
       "6551  Godot de Mauroy - Madeleine  "
      ]
     },
     "execution_count": 8,
     "metadata": {},
     "output_type": "execute_result"
    }
   ],
   "source": [
    "df_case.head()"
   ]
  },
  {
   "cell_type": "code",
   "execution_count": 9,
   "metadata": {},
   "outputs": [
    {
     "data": {
      "text/plain": [
       "(16200, 4)"
      ]
     },
     "execution_count": 9,
     "metadata": {},
     "output_type": "execute_result"
    }
   ],
   "source": [
    "df_case.shape"
   ]
  },
  {
   "cell_type": "code",
   "execution_count": 10,
   "metadata": {},
   "outputs": [],
   "source": [
    "# Saving time for later\n",
    "save_time = df_case.date"
   ]
  },
  {
   "cell_type": "code",
   "execution_count": 11,
   "metadata": {},
   "outputs": [],
   "source": [
    "# Removing Month column : months are in the right order\n",
    "df = df_case[\"availiable_docks\"]"
   ]
  },
  {
   "cell_type": "code",
   "execution_count": 12,
   "metadata": {},
   "outputs": [
    {
     "data": {
      "text/plain": [
       "979     8\n",
       "2372    8\n",
       "3765    7\n",
       "5158    8\n",
       "6551    8\n",
       "Name: availiable_docks, dtype: int64"
      ]
     },
     "execution_count": 12,
     "metadata": {},
     "output_type": "execute_result"
    }
   ],
   "source": [
    "df.head()"
   ]
  },
  {
   "cell_type": "code",
   "execution_count": 13,
   "metadata": {},
   "outputs": [
    {
     "data": {
      "text/plain": [
       "(16200,)"
      ]
     },
     "execution_count": 13,
     "metadata": {},
     "output_type": "execute_result"
    }
   ],
   "source": [
    "df.shape"
   ]
  },
  {
   "cell_type": "markdown",
   "metadata": {},
   "source": [
    "# Preprocessing"
   ]
  },
  {
   "cell_type": "code",
   "execution_count": 14,
   "metadata": {},
   "outputs": [],
   "source": [
    "# Creation of variables\n",
    "\n",
    "#Number of previous data\n",
    "sequence_length=30\n",
    "\n",
    "# repartition of the split\n",
    "split=0.7"
   ]
  },
  {
   "cell_type": "code",
   "execution_count": 15,
   "metadata": {
    "scrolled": true
   },
   "outputs": [
    {
     "name": "stdout",
     "output_type": "stream",
     "text": [
      "[ 8.  8.  7. ... 18. 18. 18.]\n"
     ]
    }
   ],
   "source": [
    "# Creating an array out of the dataset\n",
    "\n",
    "df_array = np.array(df).astype(float)\n",
    "print(df_array)"
   ]
  },
  {
   "cell_type": "code",
   "execution_count": 16,
   "metadata": {},
   "outputs": [
    {
     "name": "stdout",
     "output_type": "stream",
     "text": [
      "[[ 8.  8.  7. ... 18. 18. 18.]]\n"
     ]
    }
   ],
   "source": [
    "temp = df_array.reshape(1, -1)\n",
    "print(temp)"
   ]
  },
  {
   "cell_type": "code",
   "execution_count": 17,
   "metadata": {},
   "outputs": [],
   "source": [
    "# Preprocessing the data : using the MixMaxScaler from scikit learn\n",
    "# Are other ones possibles?\n",
    "\n",
    "scaler = MinMaxScaler()\n",
    "df_array = scaler.fit_transform(df_array.reshape(-1, 1))"
   ]
  },
  {
   "cell_type": "code",
   "execution_count": 18,
   "metadata": {},
   "outputs": [
    {
     "data": {
      "text/plain": [
       "array([[0.38095238],\n",
       "       [0.38095238],\n",
       "       [0.33333333],\n",
       "       ...,\n",
       "       [0.85714286],\n",
       "       [0.85714286],\n",
       "       [0.85714286]])"
      ]
     },
     "execution_count": 18,
     "metadata": {},
     "output_type": "execute_result"
    }
   ],
   "source": []
  },
  {
   "cell_type": "code",
   "execution_count": 19,
   "metadata": {},
   "outputs": [],
   "source": [
    "# creating data\n",
    "\n",
    "data = []\n",
    "for i in range(len(df_array) - sequence_length - 1):\n",
    "    data.append(df_array[i: i + sequence_length + 1])"
   ]
  },
  {
   "cell_type": "markdown",
   "metadata": {},
   "source": [
    "The idea of the sequence is to create sequences of 10 from the original dataset. It includes 10 values + 1. From 144 lines, there will be 133 arrays of 11 elements"
   ]
  },
  {
   "cell_type": "code",
   "execution_count": 21,
   "metadata": {},
   "outputs": [],
   "source": [
    "reshaped_data = np.array(data).astype('float64')"
   ]
  },
  {
   "cell_type": "code",
   "execution_count": 22,
   "metadata": {},
   "outputs": [
    {
     "data": {
      "text/plain": [
       "array([[0.38095238],\n",
       "       [0.38095238],\n",
       "       [0.33333333],\n",
       "       [0.38095238],\n",
       "       [0.38095238],\n",
       "       [0.47619048],\n",
       "       [0.52380952],\n",
       "       [0.57142857],\n",
       "       [0.57142857],\n",
       "       [0.76190476],\n",
       "       [0.80952381],\n",
       "       [0.85714286],\n",
       "       [0.85714286],\n",
       "       [0.85714286],\n",
       "       [0.85714286],\n",
       "       [0.85714286],\n",
       "       [0.85714286],\n",
       "       [0.85714286],\n",
       "       [0.80952381],\n",
       "       [0.80952381],\n",
       "       [0.80952381],\n",
       "       [0.80952381],\n",
       "       [0.80952381],\n",
       "       [0.80952381],\n",
       "       [0.80952381],\n",
       "       [0.76190476],\n",
       "       [0.76190476],\n",
       "       [0.71428571],\n",
       "       [0.76190476],\n",
       "       [0.76190476],\n",
       "       [0.71428571]])"
      ]
     },
     "execution_count": 22,
     "metadata": {},
     "output_type": "execute_result"
    }
   ],
   "source": [
    "reshaped_data[0]"
   ]
  },
  {
   "cell_type": "code",
   "execution_count": 23,
   "metadata": {},
   "outputs": [
    {
     "data": {
      "text/plain": [
       "(16169, 31, 1)"
      ]
     },
     "execution_count": 23,
     "metadata": {},
     "output_type": "execute_result"
    }
   ],
   "source": [
    "reshaped_data.shape"
   ]
  },
  {
   "cell_type": "code",
   "execution_count": 24,
   "metadata": {},
   "outputs": [
    {
     "data": {
      "text/plain": [
       "(16169, 31, 1)"
      ]
     },
     "execution_count": 24,
     "metadata": {},
     "output_type": "execute_result"
    }
   ],
   "source": [
    "reshaped_data.shape"
   ]
  },
  {
   "cell_type": "code",
   "execution_count": 56,
   "metadata": {},
   "outputs": [
    {
     "data": {
      "text/plain": [
       "(16200,)"
      ]
     },
     "execution_count": 56,
     "metadata": {},
     "output_type": "execute_result"
    }
   ],
   "source": [
    "save_time.shape"
   ]
  },
  {
   "cell_type": "code",
   "execution_count": 25,
   "metadata": {},
   "outputs": [
    {
     "data": {
      "text/plain": [
       "(16169,)"
      ]
     },
     "execution_count": 25,
     "metadata": {},
     "output_type": "execute_result"
    }
   ],
   "source": [
    "# There is less time possible :\n",
    "save_time_2 = save_time[:-(sequence_length+1)]\n",
    "save_time_2.shape"
   ]
  },
  {
   "cell_type": "code",
   "execution_count": 26,
   "metadata": {},
   "outputs": [],
   "source": [
    "#Not using it for further use with date\n",
    "#np.random.shuffle(reshaped_data)\n",
    "# 对x进行统一归一化，而y则不归一化\n",
    "x = reshaped_data[:, :-1]\n",
    "y = reshaped_data[:, -1]\n",
    "# La dernière donnée est scpée\n",
    "split_boundary = int(reshaped_data.shape[0] * split)\n",
    "train_x = x[: split_boundary]\n",
    "test_x = x[split_boundary:]\n",
    "\n",
    "train_y = y[: split_boundary]\n",
    "test_y = y[split_boundary:]\n",
    "\n",
    "train_time = save_time_2[: split_boundary]\n",
    "test_time = save_time_2[split_boundary:]"
   ]
  },
  {
   "cell_type": "markdown",
   "metadata": {},
   "source": [
    "Here, the different array are sufflted. X is the 10 first arrays, y, the last one.\n",
    "Train is created by take the 0.8 * number of arrays,  test with the others."
   ]
  },
  {
   "cell_type": "markdown",
   "metadata": {},
   "source": [
    "## Checking train shape"
   ]
  },
  {
   "cell_type": "code",
   "execution_count": 28,
   "metadata": {},
   "outputs": [
    {
     "data": {
      "text/plain": [
       "(11318,)"
      ]
     },
     "execution_count": 28,
     "metadata": {},
     "output_type": "execute_result"
    }
   ],
   "source": [
    "train_time.shape"
   ]
  },
  {
   "cell_type": "code",
   "execution_count": 29,
   "metadata": {},
   "outputs": [
    {
     "data": {
      "text/plain": [
       "(11318, 30, 1)"
      ]
     },
     "execution_count": 29,
     "metadata": {},
     "output_type": "execute_result"
    }
   ],
   "source": [
    "train_x.shape"
   ]
  },
  {
   "cell_type": "code",
   "execution_count": 30,
   "metadata": {},
   "outputs": [
    {
     "data": {
      "text/plain": [
       "(11318, 1)"
      ]
     },
     "execution_count": 30,
     "metadata": {},
     "output_type": "execute_result"
    }
   ],
   "source": [
    "train_y.shape"
   ]
  },
  {
   "cell_type": "markdown",
   "metadata": {},
   "source": [
    "## Checking test shape"
   ]
  },
  {
   "cell_type": "code",
   "execution_count": 31,
   "metadata": {},
   "outputs": [
    {
     "data": {
      "text/plain": [
       "(4851, 30, 1)"
      ]
     },
     "execution_count": 31,
     "metadata": {},
     "output_type": "execute_result"
    }
   ],
   "source": [
    "test_x.shape"
   ]
  },
  {
   "cell_type": "code",
   "execution_count": 32,
   "metadata": {},
   "outputs": [
    {
     "data": {
      "text/plain": [
       "(4851,)"
      ]
     },
     "execution_count": 32,
     "metadata": {},
     "output_type": "execute_result"
    }
   ],
   "source": [
    "test_time.shape"
   ]
  },
  {
   "cell_type": "code",
   "execution_count": 33,
   "metadata": {
    "scrolled": true
   },
   "outputs": [
    {
     "data": {
      "text/plain": [
       "(4851, 1)"
      ]
     },
     "execution_count": 33,
     "metadata": {},
     "output_type": "execute_result"
    }
   ],
   "source": [
    "test_y.shape"
   ]
  },
  {
   "cell_type": "markdown",
   "metadata": {},
   "source": [
    "# Building the model"
   ]
  },
  {
   "cell_type": "code",
   "execution_count": 34,
   "metadata": {},
   "outputs": [
    {
     "name": "stdout",
     "output_type": "stream",
     "text": [
      "[<keras.layers.recurrent.LSTM object at 0x7efe508cfc10>]\n"
     ]
    },
    {
     "name": "stderr",
     "output_type": "stream",
     "text": [
      "/home/exalis/anaconda3/lib/python3.7/site-packages/ipykernel_launcher.py:2: UserWarning: The `input_dim` and `input_length` arguments in recurrent layers are deprecated. Use `input_shape` instead.\n",
      "  \n",
      "/home/exalis/anaconda3/lib/python3.7/site-packages/ipykernel_launcher.py:2: UserWarning: Update your `LSTM` call to the Keras 2 API: `LSTM(return_sequences=True, input_shape=(None, 1), units=50)`\n",
      "  \n"
     ]
    }
   ],
   "source": [
    "model = Sequential()\n",
    "model.add(LSTM(input_dim=1, output_dim=50, return_sequences=True))\n",
    "print(model.layers)"
   ]
  },
  {
   "cell_type": "code",
   "execution_count": 35,
   "metadata": {},
   "outputs": [
    {
     "name": "stderr",
     "output_type": "stream",
     "text": [
      "/home/exalis/anaconda3/lib/python3.7/site-packages/ipykernel_launcher.py:2: UserWarning: Update your `Dense` call to the Keras 2 API: `Dense(units=1)`\n",
      "  \n"
     ]
    }
   ],
   "source": [
    "model.add(LSTM(100, return_sequences=False))\n",
    "model.add(Dense(output_dim=1))\n",
    "model.add(Activation('linear'))"
   ]
  },
  {
   "cell_type": "code",
   "execution_count": 36,
   "metadata": {},
   "outputs": [],
   "source": [
    "model.compile(loss='mse', optimizer='rmsprop')"
   ]
  },
  {
   "cell_type": "markdown",
   "metadata": {},
   "source": [
    "# Training the model"
   ]
  },
  {
   "cell_type": "code",
   "execution_count": 37,
   "metadata": {},
   "outputs": [
    {
     "name": "stderr",
     "output_type": "stream",
     "text": [
      "/home/exalis/anaconda3/lib/python3.7/site-packages/ipykernel_launcher.py:1: UserWarning: The `nb_epoch` argument in `fit` has been renamed `epochs`.\n",
      "  \"\"\"Entry point for launching an IPython kernel.\n"
     ]
    },
    {
     "name": "stdout",
     "output_type": "stream",
     "text": [
      "Train on 10186 samples, validate on 1132 samples\n",
      "Epoch 1/30\n",
      "10186/10186 [==============================] - 4s 352us/step - loss: 0.0498 - val_loss: 0.0762\n",
      "Epoch 2/30\n",
      "10186/10186 [==============================] - 3s 293us/step - loss: 0.0147 - val_loss: 0.0152\n",
      "Epoch 3/30\n",
      "10186/10186 [==============================] - 3s 285us/step - loss: 0.0109 - val_loss: 0.0106\n",
      "Epoch 4/30\n",
      "10186/10186 [==============================] - 3s 284us/step - loss: 0.0091 - val_loss: 0.0115\n",
      "Epoch 5/30\n",
      "10186/10186 [==============================] - 3s 288us/step - loss: 0.0079 - val_loss: 0.0092\n",
      "Epoch 6/30\n",
      "10186/10186 [==============================] - 3s 288us/step - loss: 0.0073 - val_loss: 0.0057\n",
      "Epoch 7/30\n",
      "10186/10186 [==============================] - 3s 285us/step - loss: 0.0064 - val_loss: 0.0094\n",
      "Epoch 8/30\n",
      "10186/10186 [==============================] - 3s 299us/step - loss: 0.0057 - val_loss: 0.0056\n",
      "Epoch 9/30\n",
      "10186/10186 [==============================] - 3s 307us/step - loss: 0.0052 - val_loss: 0.0056\n",
      "Epoch 10/30\n",
      "10186/10186 [==============================] - 3s 301us/step - loss: 0.0044 - val_loss: 0.0052\n",
      "Epoch 11/30\n",
      "10186/10186 [==============================] - 3s 291us/step - loss: 0.0044 - val_loss: 0.0058\n",
      "Epoch 12/30\n",
      "10186/10186 [==============================] - 3s 287us/step - loss: 0.0039 - val_loss: 0.0033\n",
      "Epoch 13/30\n",
      "10186/10186 [==============================] - 3s 286us/step - loss: 0.0037 - val_loss: 0.0068\n",
      "Epoch 14/30\n",
      "10186/10186 [==============================] - 3s 280us/step - loss: 0.0036 - val_loss: 0.0041\n",
      "Epoch 15/30\n",
      "10186/10186 [==============================] - 3s 283us/step - loss: 0.0033 - val_loss: 0.0028\n",
      "Epoch 16/30\n",
      "10186/10186 [==============================] - 3s 283us/step - loss: 0.0030 - val_loss: 0.0042\n",
      "Epoch 17/30\n",
      "10186/10186 [==============================] - 3s 292us/step - loss: 0.0029 - val_loss: 0.0034\n",
      "Epoch 18/30\n",
      "10186/10186 [==============================] - 3s 286us/step - loss: 0.0030 - val_loss: 0.0041\n",
      "Epoch 19/30\n",
      "10186/10186 [==============================] - 3s 288us/step - loss: 0.0029 - val_loss: 0.0028\n",
      "Epoch 20/30\n",
      "10186/10186 [==============================] - 3s 284us/step - loss: 0.0025 - val_loss: 0.0036\n",
      "Epoch 21/30\n",
      "10186/10186 [==============================] - 3s 297us/step - loss: 0.0027 - val_loss: 0.0036\n",
      "Epoch 22/30\n",
      "10186/10186 [==============================] - 3s 289us/step - loss: 0.0025 - val_loss: 0.0037\n",
      "Epoch 23/30\n",
      "10186/10186 [==============================] - 3s 286us/step - loss: 0.0025 - val_loss: 0.0025\n",
      "Epoch 24/30\n",
      "10186/10186 [==============================] - 3s 297us/step - loss: 0.0022 - val_loss: 0.0022\n",
      "Epoch 25/30\n",
      "10186/10186 [==============================] - 3s 284us/step - loss: 0.0024 - val_loss: 0.0027\n",
      "Epoch 26/30\n",
      "10186/10186 [==============================] - 3s 285us/step - loss: 0.0021 - val_loss: 0.0022\n",
      "Epoch 27/30\n",
      "10186/10186 [==============================] - 3s 283us/step - loss: 0.0022 - val_loss: 0.0023\n",
      "Epoch 28/30\n",
      "10186/10186 [==============================] - 3s 286us/step - loss: 0.0021 - val_loss: 0.0024\n",
      "Epoch 29/30\n",
      "10186/10186 [==============================] - 3s 281us/step - loss: 0.0020 - val_loss: 0.0027\n",
      "Epoch 30/30\n",
      "10186/10186 [==============================] - 3s 281us/step - loss: 0.0020 - val_loss: 0.0019\n"
     ]
    },
    {
     "data": {
      "text/plain": [
       "<keras.callbacks.callbacks.History at 0x7efe30106b10>"
      ]
     },
     "execution_count": 37,
     "metadata": {},
     "output_type": "execute_result"
    }
   ],
   "source": [
    "model.fit(train_x, train_y, batch_size=512, nb_epoch=30, validation_split=0.1)"
   ]
  },
  {
   "cell_type": "code",
   "execution_count": 38,
   "metadata": {},
   "outputs": [],
   "source": [
    "predict = model.predict(test_x)\n",
    "predict = np.reshape(predict, (predict.size, ))"
   ]
  },
  {
   "cell_type": "markdown",
   "metadata": {},
   "source": [
    "# Making the data understandable"
   ]
  },
  {
   "cell_type": "code",
   "execution_count": 183,
   "metadata": {},
   "outputs": [],
   "source": [
    "# Creating a panda dataframe for the understanding\n",
    "results = pd.DataFrame(columns=[\"date\",\"predict\",\"test_y\"])"
   ]
  },
  {
   "cell_type": "code",
   "execution_count": 184,
   "metadata": {},
   "outputs": [],
   "source": [
    "# Adding the data\n",
    "results.date = test_time\n",
    "results.predict = predict\n",
    "results.test_y = test_y"
   ]
  },
  {
   "cell_type": "code",
   "execution_count": 185,
   "metadata": {},
   "outputs": [
    {
     "data": {
      "text/html": [
       "<div>\n",
       "<style scoped>\n",
       "    .dataframe tbody tr th:only-of-type {\n",
       "        vertical-align: middle;\n",
       "    }\n",
       "\n",
       "    .dataframe tbody tr th {\n",
       "        vertical-align: top;\n",
       "    }\n",
       "\n",
       "    .dataframe thead th {\n",
       "        text-align: right;\n",
       "    }\n",
       "</style>\n",
       "<table border=\"1\" class=\"dataframe\">\n",
       "  <thead>\n",
       "    <tr style=\"text-align: right;\">\n",
       "      <th></th>\n",
       "      <th>date</th>\n",
       "      <th>predict</th>\n",
       "      <th>test_y</th>\n",
       "    </tr>\n",
       "  </thead>\n",
       "  <tbody>\n",
       "    <tr>\n",
       "      <th>15733894</th>\n",
       "      <td>2020-01-23 12:58:00</td>\n",
       "      <td>0.313098</td>\n",
       "      <td>0.333333</td>\n",
       "    </tr>\n",
       "    <tr>\n",
       "      <th>15735288</th>\n",
       "      <td>2020-01-23 12:59:00</td>\n",
       "      <td>0.314415</td>\n",
       "      <td>0.285714</td>\n",
       "    </tr>\n",
       "    <tr>\n",
       "      <th>15736682</th>\n",
       "      <td>2020-01-23 13:00:00</td>\n",
       "      <td>0.293979</td>\n",
       "      <td>0.333333</td>\n",
       "    </tr>\n",
       "    <tr>\n",
       "      <th>15738076</th>\n",
       "      <td>2020-01-23 13:01:00</td>\n",
       "      <td>0.292758</td>\n",
       "      <td>0.333333</td>\n",
       "    </tr>\n",
       "    <tr>\n",
       "      <th>15739470</th>\n",
       "      <td>2020-01-23 13:02:00</td>\n",
       "      <td>0.301813</td>\n",
       "      <td>0.285714</td>\n",
       "    </tr>\n",
       "  </tbody>\n",
       "</table>\n",
       "</div>"
      ],
      "text/plain": [
       "                         date   predict    test_y\n",
       "15733894  2020-01-23 12:58:00  0.313098  0.333333\n",
       "15735288  2020-01-23 12:59:00  0.314415  0.285714\n",
       "15736682  2020-01-23 13:00:00  0.293979  0.333333\n",
       "15738076  2020-01-23 13:01:00  0.292758  0.333333\n",
       "15739470  2020-01-23 13:02:00  0.301813  0.285714"
      ]
     },
     "execution_count": 185,
     "metadata": {},
     "output_type": "execute_result"
    }
   ],
   "source": [
    "results.head()"
   ]
  },
  {
   "cell_type": "code",
   "execution_count": 197,
   "metadata": {},
   "outputs": [],
   "source": [
    "# Inversing the data to show the real number of free stations\n",
    "\n",
    "results[\"predict_value\"] = scaler.inverse_transform(np.array(results[\"predict\"]).reshape(-1, 1))\n",
    "results[\"test_y_value\"] = scaler.inverse_transform(np.array(results[\"test_y\"]).reshape(-1, 1))\n",
    "results[\"predict_value_round\"] = results[\"predict_value\"].apply(lambda x: round(x,0))\n",
    "results[\"predict_value_trunc\"] = results[\"predict_value\"].apply(lambda x: math.trunc(x))\n",
    "results[\"difference_value_round\"] = results[\"predict_value_round\"] - results[\"test_y_value\"]\n",
    "results[\"difference_value_trunc\"] = results[\"predict_value_trunc\"] - results[\"test_y_value\"]"
   ]
  },
  {
   "cell_type": "code",
   "execution_count": null,
   "metadata": {},
   "outputs": [],
   "source": [
    "math.trunc"
   ]
  },
  {
   "cell_type": "code",
   "execution_count": 187,
   "metadata": {},
   "outputs": [
    {
     "data": {
      "text/html": [
       "<div>\n",
       "<style scoped>\n",
       "    .dataframe tbody tr th:only-of-type {\n",
       "        vertical-align: middle;\n",
       "    }\n",
       "\n",
       "    .dataframe tbody tr th {\n",
       "        vertical-align: top;\n",
       "    }\n",
       "\n",
       "    .dataframe thead th {\n",
       "        text-align: right;\n",
       "    }\n",
       "</style>\n",
       "<table border=\"1\" class=\"dataframe\">\n",
       "  <thead>\n",
       "    <tr style=\"text-align: right;\">\n",
       "      <th></th>\n",
       "      <th>date</th>\n",
       "      <th>predict</th>\n",
       "      <th>test_y</th>\n",
       "      <th>predict_value</th>\n",
       "      <th>test_y_value</th>\n",
       "      <th>predict_value_round</th>\n",
       "      <th>difference_value</th>\n",
       "    </tr>\n",
       "  </thead>\n",
       "  <tbody>\n",
       "    <tr>\n",
       "      <th>15733894</th>\n",
       "      <td>2020-01-23 12:58:00</td>\n",
       "      <td>0.313098</td>\n",
       "      <td>0.333333</td>\n",
       "      <td>6.575059</td>\n",
       "      <td>7.0</td>\n",
       "      <td>7.0</td>\n",
       "      <td>0.0</td>\n",
       "    </tr>\n",
       "    <tr>\n",
       "      <th>15735288</th>\n",
       "      <td>2020-01-23 12:59:00</td>\n",
       "      <td>0.314415</td>\n",
       "      <td>0.285714</td>\n",
       "      <td>6.602710</td>\n",
       "      <td>6.0</td>\n",
       "      <td>7.0</td>\n",
       "      <td>1.0</td>\n",
       "    </tr>\n",
       "    <tr>\n",
       "      <th>15736682</th>\n",
       "      <td>2020-01-23 13:00:00</td>\n",
       "      <td>0.293979</td>\n",
       "      <td>0.333333</td>\n",
       "      <td>6.173565</td>\n",
       "      <td>7.0</td>\n",
       "      <td>6.0</td>\n",
       "      <td>-1.0</td>\n",
       "    </tr>\n",
       "    <tr>\n",
       "      <th>15738076</th>\n",
       "      <td>2020-01-23 13:01:00</td>\n",
       "      <td>0.292758</td>\n",
       "      <td>0.333333</td>\n",
       "      <td>6.147920</td>\n",
       "      <td>7.0</td>\n",
       "      <td>6.0</td>\n",
       "      <td>-1.0</td>\n",
       "    </tr>\n",
       "    <tr>\n",
       "      <th>15739470</th>\n",
       "      <td>2020-01-23 13:02:00</td>\n",
       "      <td>0.301813</td>\n",
       "      <td>0.285714</td>\n",
       "      <td>6.338074</td>\n",
       "      <td>6.0</td>\n",
       "      <td>6.0</td>\n",
       "      <td>0.0</td>\n",
       "    </tr>\n",
       "  </tbody>\n",
       "</table>\n",
       "</div>"
      ],
      "text/plain": [
       "                         date   predict    test_y  predict_value  \\\n",
       "15733894  2020-01-23 12:58:00  0.313098  0.333333       6.575059   \n",
       "15735288  2020-01-23 12:59:00  0.314415  0.285714       6.602710   \n",
       "15736682  2020-01-23 13:00:00  0.293979  0.333333       6.173565   \n",
       "15738076  2020-01-23 13:01:00  0.292758  0.333333       6.147920   \n",
       "15739470  2020-01-23 13:02:00  0.301813  0.285714       6.338074   \n",
       "\n",
       "          test_y_value  predict_value_round  difference_value  \n",
       "15733894           7.0                  7.0               0.0  \n",
       "15735288           6.0                  7.0               1.0  \n",
       "15736682           7.0                  6.0              -1.0  \n",
       "15738076           7.0                  6.0              -1.0  \n",
       "15739470           6.0                  6.0               0.0  "
      ]
     },
     "execution_count": 187,
     "metadata": {},
     "output_type": "execute_result"
    }
   ],
   "source": [
    "results.head()"
   ]
  },
  {
   "cell_type": "markdown",
   "metadata": {},
   "source": [
    "# Visualisation"
   ]
  },
  {
   "cell_type": "code",
   "execution_count": 210,
   "metadata": {},
   "outputs": [
    {
     "name": "stdout",
     "output_type": "stream",
     "text": [
      "Début :\n",
      "17197594    2020-01-24 07:08:00\n",
      "Name: date, dtype: object\n",
      "Fin :\n",
      "17405301    2020-01-24 09:37:00\n",
      "Name: date, dtype: object\n"
     ]
    }
   ],
   "source": [
    "debut = 1050\n",
    "fin = debut + 150\n",
    "\n",
    "results_test = results[debut:fin]\n",
    "print(\"Début :\")\n",
    "print(results_test[\"date\"][:1])\n",
    "print(\"Fin :\")\n",
    "print(results_test[\"date\"][-1:])"
   ]
  },
  {
   "cell_type": "code",
   "execution_count": 211,
   "metadata": {},
   "outputs": [
    {
     "name": "stdout",
     "output_type": "stream",
     "text": [
      "Début :\n",
      "17197594    2020-01-24 07:08:00\n",
      "Name: date, dtype: object\n",
      "Fin :\n",
      "18589820    2020-01-24 23:47:00\n",
      "Name: date, dtype: object\n"
     ]
    }
   ],
   "source": [
    "debut = 1050\n",
    "fin = debut + 1000\n",
    "\n",
    "results_test = results[debut:fin]\n",
    "print(\"Début :\")\n",
    "print(results_test[\"date\"][:1])\n",
    "print(\"Fin :\")\n",
    "print(results_test[\"date\"][-1:])"
   ]
  },
  {
   "cell_type": "code",
   "execution_count": 212,
   "metadata": {},
   "outputs": [
    {
     "data": {
      "image/png": "[encoded data removed]",
      "text/plain": [
       "<Figure size 1440x720 with 1 Axes>"
      ]
     },
     "metadata": {
      "needs_background": "light"
     },
     "output_type": "display_data"
    }
   ],
   "source": [
    "# Visualisation\n",
    "fig, axis = plt.subplots(figsize=(20,10))\n",
    "_ = sns.lineplot(x=\"date\", y=\"test_y_value\", data=results_test,color=\"green\")\n",
    "_ = sns.lineplot(x=\"date\", y=\"predict_value_round\", data=results_test,color=\"blue\")\n",
    "_ = sns.lineplot(x=\"date\", y=\"predict_value_trunc\", data=results_test,color=\"violet\")\n",
    "_ = sns.lineplot(x=\"date\", y=\"difference_value_round\", data=results_test,color=\"red\")\n",
    "_ = sns.lineplot(x=\"date\", y=\"difference_value_trunc\", data=results_test,color=\"orange\")\n",
    "#plt.grid(b=None, which='major', axis='x')\n",
    "#axis.set_xticklabels(axis.get_xticklabels(),rotation=90)\n",
    "plt.show()"
   ]
  },
  {
   "cell_type": "code",
   "execution_count": null,
   "metadata": {},
   "outputs": [],
   "source": []
  },
  {
   "cell_type": "code",
   "execution_count": 215,
   "metadata": {},
   "outputs": [
    {
     "data": {
      "text/plain": [
       "<matplotlib.legend.Legend at 0x7efe0c342610>"
      ]
     },
     "execution_count": 215,
     "metadata": {},
     "output_type": "execute_result"
    },
    {
     "data": {
      "image/png": "[encoded data removed]",
      "text/plain": [
       "<Figure size 1080x720 with 1 Axes>"
      ]
     },
     "metadata": {
      "needs_background": "light"
     },
     "output_type": "display_data"
    }
   ],
   "source": [
    "# Simpler and cleaner plot\n",
    "fig = plt.figure(figsize=(15, 10))\n",
    "plt.plot(predict[1050:2050], 'r:')\n",
    "plt.plot(test_y[1050:2050], 'g-')\n",
    "plt.legend(['predict', 'true'])"
   ]
  },
  {
   "cell_type": "code",
   "execution_count": null,
   "metadata": {},
   "outputs": [],
   "source": []
  },
  {
   "cell_type": "markdown",
   "metadata": {},
   "source": [
    "# ORIGINAL CODE\n",
    "\n",
    "import pandas as pd\n",
    "import numpy as np\n",
    "import matplotlib.pyplot as plt\n",
    "from sklearn.preprocessing import MinMaxScaler\n",
    "from keras.models import Sequential\n",
    "from keras.layers import LSTM, Dense, Activation\n",
    "\n",
    "\n",
    "def load_data(file_name, sequence_length=10, split=0.8):\n",
    "    df = pd.read_csv(file_name, sep=';', usecols=[1])\n",
    "    data_all = np.array(df).astype(float)\n",
    "    scaler = MinMaxScaler()\n",
    "    data_all = scaler.fit_transform(data_all)\n",
    "    data = []\n",
    "    for i in range(len(data_all) - sequence_length - 1):\n",
    "        data.append(data_all[i: i + sequence_length + 1])\n",
    "    reshaped_data = np.array(data).astype('float64')\n",
    "    np.random.shuffle(reshaped_data)\n",
    "    # 对x进行统一归一化，而y则不归一化\n",
    "    # TRAD Normaliser uniformément x tandis que y n'est pas normalisé\n",
    "    x = reshaped_data[:, :-1]\n",
    "    y = reshaped_data[:, -1]\n",
    "    split_boundary = int(reshaped_data.shape[0] * split)\n",
    "    train_x = x[: split_boundary]\n",
    "    test_x = x[split_boundary:]\n",
    "\n",
    "    train_y = y[: split_boundary]\n",
    "    test_y = y[split_boundary:]\n",
    "\n",
    "    return train_x, train_y, test_x, test_y, scaler\n",
    "\n",
    "\n",
    "def build_model():\n",
    "    # input_dim是输入的train_x的最后一个维度，train_x的维度为(n_samples, time_steps, input_dim)\n",
    "    model = Sequential()\n",
    "    model.add(LSTM(input_dim=1, output_dim=50, return_sequences=True))\n",
    "    print(model.layers)\n",
    "    model.add(LSTM(100, return_sequences=False))\n",
    "    model.add(Dense(output_dim=1))\n",
    "    model.add(Activation('linear'))\n",
    "\n",
    "    model.compile(loss='mse', optimizer='rmsprop')\n",
    "    return model\n",
    "\n",
    "\n",
    "def train_model(train_x, train_y, test_x, test_y):\n",
    "    model = build_model()\n",
    "\n",
    "    try:\n",
    "        model.fit(train_x, train_y, batch_size=512, nb_epoch=30, validation_split=0.1)\n",
    "        predict = model.predict(test_x)\n",
    "        predict = np.reshape(predict, (predict.size, ))\n",
    "    except KeyboardInterrupt:\n",
    "        print(predict)\n",
    "        print(test_y)\n",
    "    print(predict)\n",
    "    print(test_y)\n",
    "    try:\n",
    "        fig = plt.figure(1)\n",
    "        plt.plot(predict, 'r:')\n",
    "        plt.plot(test_y, 'g-')\n",
    "        plt.legend(['predict', 'true'])\n",
    "    except Exception as e:\n",
    "        print(e)\n",
    "    return predict, test_y\n",
    "\n",
    "\n",
    "if __name__ == '__main__':\n",
    "    train_x, train_y, test_x, test_y, scaler = load_data('international-airline-passengers.csv')\n",
    "    train_x = np.reshape(train_x, (train_x.shape[0], train_x.shape[1], 1))\n",
    "    test_x = np.reshape(test_x, (test_x.shape[0], test_x.shape[1], 1))\n",
    "    predict_y, test_y = train_model(train_x, train_y, test_x, test_y)\n",
    "    predict_y = scaler.inverse_transform([[i] for i in predict_y])\n",
    "    test_y = scaler.inverse_transform(test_y)\n",
    "    fig2 = plt.figure(2)\n",
    "    plt.plot(predict_y, 'g:')\n",
    "    plt.plot(test_y, 'r-')\n",
    "    plt.show()"
   ]
  }
 ],
 "metadata": {
  "kernelspec": {
   "display_name": "Python 3",
   "language": "python",
   "name": "python3"
  },
  "language_info": {
   "codemirror_mode": {
    "name": "ipython",
    "version": 3
   },
   "file_extension": ".py",
   "mimetype": "text/x-python",
   "name": "python",
   "nbconvert_exporter": "python",
   "pygments_lexer": "ipython3",
   "version": "3.7.5"
  }
 },
 "nbformat": 4,
 "nbformat_minor": 2
}
