{
 "cells": [
  {
   "cell_type": "code",
   "execution_count": 3,
   "metadata": {},
   "outputs": [],
   "source": [
    "import os\n",
    "import numpy as np\n",
    "import pandas as pd\n",
    "import matplotlib.pyplot as plt\n",
    "import seaborn as sns\n",
    "\n",
    "from statsmodels.tsa.api import ExponentialSmoothing\n",
    "from math import sqrt\n",
    "from sklearn.metrics import mean_squared_error"
   ]
  },
  {
   "cell_type": "markdown",
   "metadata": {},
   "source": [
    "# Preprocessing"
   ]
  },
  {
   "cell_type": "code",
   "execution_count": 4,
   "metadata": {},
   "outputs": [],
   "source": [
    "# Loading from github\n",
    "df_case = pd.read_csv(\"https://raw.githubusercontent.com/alexisgcomte/velib-prediction/master/3.%20Modeling%20Research/datasets/madeleine_weekday.csv\")"
   ]
  },
  {
   "cell_type": "code",
   "execution_count": 49,
   "metadata": {},
   "outputs": [],
   "source": [
    "# Adding day and minute data\n",
    "\n",
    "df_case[\"day\"] = df_case.date.apply(lambda x: str(pd.Timestamp(x).month) +\"-\"+ str(pd.Timestamp(x).day))\n",
    "df_case[\"minute\"] = df_case.date.apply(lambda x: (pd.Timestamp(x).minute))"
   ]
  },
  {
   "cell_type": "code",
   "execution_count": 124,
   "metadata": {},
   "outputs": [
    {
     "data": {
      "text/html": [
       "<div>\n",
       "<style scoped>\n",
       "    .dataframe tbody tr th:only-of-type {\n",
       "        vertical-align: middle;\n",
       "    }\n",
       "\n",
       "    .dataframe tbody tr th {\n",
       "        vertical-align: top;\n",
       "    }\n",
       "\n",
       "    .dataframe thead th {\n",
       "        text-align: right;\n",
       "    }\n",
       "</style>\n",
       "<table border=\"1\" class=\"dataframe\">\n",
       "  <thead>\n",
       "    <tr style=\"text-align: right;\">\n",
       "      <th></th>\n",
       "      <th>Unnamed: 0</th>\n",
       "      <th>availiable_docks</th>\n",
       "      <th>date</th>\n",
       "      <th>weekday</th>\n",
       "      <th>hour</th>\n",
       "      <th>day</th>\n",
       "      <th>minute</th>\n",
       "    </tr>\n",
       "  </thead>\n",
       "  <tbody>\n",
       "    <tr>\n",
       "      <td>0</td>\n",
       "      <td>0</td>\n",
       "      <td>8</td>\n",
       "      <td>2020-01-15 10:17:00</td>\n",
       "      <td>Wednesday</td>\n",
       "      <td>10</td>\n",
       "      <td>1-15</td>\n",
       "      <td>17</td>\n",
       "    </tr>\n",
       "    <tr>\n",
       "      <td>1</td>\n",
       "      <td>1</td>\n",
       "      <td>8</td>\n",
       "      <td>2020-01-15 10:18:00</td>\n",
       "      <td>Wednesday</td>\n",
       "      <td>10</td>\n",
       "      <td>1-15</td>\n",
       "      <td>18</td>\n",
       "    </tr>\n",
       "    <tr>\n",
       "      <td>2</td>\n",
       "      <td>2</td>\n",
       "      <td>7</td>\n",
       "      <td>2020-01-15 10:19:00</td>\n",
       "      <td>Wednesday</td>\n",
       "      <td>10</td>\n",
       "      <td>1-15</td>\n",
       "      <td>19</td>\n",
       "    </tr>\n",
       "    <tr>\n",
       "      <td>3</td>\n",
       "      <td>3</td>\n",
       "      <td>8</td>\n",
       "      <td>2020-01-15 10:20:00</td>\n",
       "      <td>Wednesday</td>\n",
       "      <td>10</td>\n",
       "      <td>1-15</td>\n",
       "      <td>20</td>\n",
       "    </tr>\n",
       "    <tr>\n",
       "      <td>4</td>\n",
       "      <td>4</td>\n",
       "      <td>8</td>\n",
       "      <td>2020-01-15 10:21:00</td>\n",
       "      <td>Wednesday</td>\n",
       "      <td>10</td>\n",
       "      <td>1-15</td>\n",
       "      <td>21</td>\n",
       "    </tr>\n",
       "  </tbody>\n",
       "</table>\n",
       "</div>"
      ],
      "text/plain": [
       "   Unnamed: 0  availiable_docks                 date    weekday  hour   day  \\\n",
       "0           0                 8  2020-01-15 10:17:00  Wednesday    10  1-15   \n",
       "1           1                 8  2020-01-15 10:18:00  Wednesday    10  1-15   \n",
       "2           2                 7  2020-01-15 10:19:00  Wednesday    10  1-15   \n",
       "3           3                 8  2020-01-15 10:20:00  Wednesday    10  1-15   \n",
       "4           4                 8  2020-01-15 10:21:00  Wednesday    10  1-15   \n",
       "\n",
       "   minute  \n",
       "0      17  \n",
       "1      18  \n",
       "2      19  \n",
       "3      20  \n",
       "4      21  "
      ]
     },
     "execution_count": 124,
     "metadata": {},
     "output_type": "execute_result"
    }
   ],
   "source": [
    "df_case.head()"
   ]
  },
  {
   "cell_type": "code",
   "execution_count": 125,
   "metadata": {},
   "outputs": [],
   "source": [
    "# Pipe for having 30 min before an hour and 30 min after\n",
    "\n",
    "# variable\n",
    "start_hour = 8\n",
    "minute_around = 30\n",
    "day_list = df_case.day.unique()"
   ]
  },
  {
   "cell_type": "code",
   "execution_count": 157,
   "metadata": {
    "scrolled": true
   },
   "outputs": [],
   "source": [
    "df_conso = pd.DataFrame(columns=df_case.columns)\n",
    "for i in day_list:\n",
    "    df_temp_lower = df_case[(df_case[\"day\"] == i) & (df_case[\"hour\"] == (start_hour-1)) & (df_case[\"minute\"] > minute_around)]\n",
    "    df_temp_upper = df_case[(df_case[\"day\"] == i) & (df_case[\"hour\"] == start_hour) & (df_case[\"minute\"] <= minute_around)]\n",
    "    df_temp = pd.concat([df_temp_lower, df_temp_upper])\n",
    "    df_conso = pd.concat([df_conso, df_temp])\n",
    "df_conso = df_conso.reset_index(drop=\"True\")"
   ]
  },
  {
   "cell_type": "code",
   "execution_count": 158,
   "metadata": {},
   "outputs": [
    {
     "data": {
      "text/html": [
       "<div>\n",
       "<style scoped>\n",
       "    .dataframe tbody tr th:only-of-type {\n",
       "        vertical-align: middle;\n",
       "    }\n",
       "\n",
       "    .dataframe tbody tr th {\n",
       "        vertical-align: top;\n",
       "    }\n",
       "\n",
       "    .dataframe thead th {\n",
       "        text-align: right;\n",
       "    }\n",
       "</style>\n",
       "<table border=\"1\" class=\"dataframe\">\n",
       "  <thead>\n",
       "    <tr style=\"text-align: right;\">\n",
       "      <th></th>\n",
       "      <th>Unnamed: 0</th>\n",
       "      <th>availiable_docks</th>\n",
       "      <th>date</th>\n",
       "      <th>weekday</th>\n",
       "      <th>hour</th>\n",
       "      <th>day</th>\n",
       "      <th>minute</th>\n",
       "    </tr>\n",
       "  </thead>\n",
       "  <tbody>\n",
       "    <tr>\n",
       "      <td>0</td>\n",
       "      <td>1191</td>\n",
       "      <td>18</td>\n",
       "      <td>2020-01-16 07:31:00</td>\n",
       "      <td>Thursday</td>\n",
       "      <td>7</td>\n",
       "      <td>1-16</td>\n",
       "      <td>31</td>\n",
       "    </tr>\n",
       "    <tr>\n",
       "      <td>1</td>\n",
       "      <td>1192</td>\n",
       "      <td>18</td>\n",
       "      <td>2020-01-16 07:32:00</td>\n",
       "      <td>Thursday</td>\n",
       "      <td>7</td>\n",
       "      <td>1-16</td>\n",
       "      <td>32</td>\n",
       "    </tr>\n",
       "    <tr>\n",
       "      <td>2</td>\n",
       "      <td>1193</td>\n",
       "      <td>18</td>\n",
       "      <td>2020-01-16 07:33:00</td>\n",
       "      <td>Thursday</td>\n",
       "      <td>7</td>\n",
       "      <td>1-16</td>\n",
       "      <td>33</td>\n",
       "    </tr>\n",
       "    <tr>\n",
       "      <td>3</td>\n",
       "      <td>1194</td>\n",
       "      <td>18</td>\n",
       "      <td>2020-01-16 07:34:00</td>\n",
       "      <td>Thursday</td>\n",
       "      <td>7</td>\n",
       "      <td>1-16</td>\n",
       "      <td>34</td>\n",
       "    </tr>\n",
       "    <tr>\n",
       "      <td>4</td>\n",
       "      <td>1195</td>\n",
       "      <td>18</td>\n",
       "      <td>2020-01-16 07:35:00</td>\n",
       "      <td>Thursday</td>\n",
       "      <td>7</td>\n",
       "      <td>1-16</td>\n",
       "      <td>35</td>\n",
       "    </tr>\n",
       "  </tbody>\n",
       "</table>\n",
       "</div>"
      ],
      "text/plain": [
       "  Unnamed: 0 availiable_docks                 date   weekday hour   day minute\n",
       "0       1191               18  2020-01-16 07:31:00  Thursday    7  1-16     31\n",
       "1       1192               18  2020-01-16 07:32:00  Thursday    7  1-16     32\n",
       "2       1193               18  2020-01-16 07:33:00  Thursday    7  1-16     33\n",
       "3       1194               18  2020-01-16 07:34:00  Thursday    7  1-16     34\n",
       "4       1195               18  2020-01-16 07:35:00  Thursday    7  1-16     35"
      ]
     },
     "execution_count": 158,
     "metadata": {},
     "output_type": "execute_result"
    }
   ],
   "source": [
    "df_conso.head()"
   ]
  },
  {
   "cell_type": "markdown",
   "metadata": {},
   "source": [
    "# Second processing pipeline"
   ]
  },
  {
   "cell_type": "code",
   "execution_count": 159,
   "metadata": {},
   "outputs": [],
   "source": [
    "df_cycle = df_conso[[\"availiable_docks\", \"date\"]]"
   ]
  },
  {
   "cell_type": "code",
   "execution_count": 186,
   "metadata": {},
   "outputs": [
    {
     "name": "stderr",
     "output_type": "stream",
     "text": [
      "/home/exalis/anaconda3/lib/python3.7/site-packages/ipykernel_launcher.py:1: SettingWithCopyWarning: \n",
      "A value is trying to be set on a copy of a slice from a DataFrame.\n",
      "Try using .loc[row_indexer,col_indexer] = value instead\n",
      "\n",
      "See the caveats in the documentation: http://pandas.pydata.org/pandas-docs/stable/user_guide/indexing.html#returning-a-view-versus-a-copy\n",
      "  \"\"\"Entry point for launching an IPython kernel.\n"
     ]
    }
   ],
   "source": [
    "df_cycle[\"availiable_docks\"] = df_cycle[\"availiable_docks\"].astype(int)"
   ]
  },
  {
   "cell_type": "code",
   "execution_count": 187,
   "metadata": {
    "scrolled": true
   },
   "outputs": [
    {
     "name": "stdout",
     "output_type": "stream",
     "text": [
      "<class 'pandas.core.frame.DataFrame'>\n",
      "RangeIndex: 600 entries, 0 to 599\n",
      "Data columns (total 2 columns):\n",
      "availiable_docks    600 non-null int64\n",
      "date                600 non-null object\n",
      "dtypes: int64(1), object(1)\n",
      "memory usage: 9.5+ KB\n"
     ]
    }
   ],
   "source": [
    "df_cycle.info()"
   ]
  },
  {
   "cell_type": "code",
   "execution_count": 188,
   "metadata": {},
   "outputs": [],
   "source": [
    "# Saving time for later\n",
    "save_time = df_cycle.date"
   ]
  },
  {
   "cell_type": "code",
   "execution_count": 189,
   "metadata": {},
   "outputs": [],
   "source": [
    "# Removing all useless columns\n",
    "dataset = np.array(df_cycle[\"availiable_docks\"])"
   ]
  },
  {
   "cell_type": "code",
   "execution_count": 190,
   "metadata": {
    "scrolled": true
   },
   "outputs": [
    {
     "data": {
      "text/plain": [
       "array([18, 18, 18, 18, 18, 18, 18, 18, 18, 18])"
      ]
     },
     "execution_count": 190,
     "metadata": {},
     "output_type": "execute_result"
    }
   ],
   "source": [
    "dataset[0:10]"
   ]
  },
  {
   "cell_type": "code",
   "execution_count": 191,
   "metadata": {},
   "outputs": [
    {
     "data": {
      "image/png": "[encoded data removed]",
      "text/plain": [
       "<Figure size 432x288 with 1 Axes>"
      ]
     },
     "metadata": {
      "needs_background": "light"
     },
     "output_type": "display_data"
    }
   ],
   "source": [
    "_ = sns.lineplot(data=df_cycle, x=df_cycle.index, y=\"availiable_docks\")"
   ]
  },
  {
   "cell_type": "code",
   "execution_count": 192,
   "metadata": {},
   "outputs": [],
   "source": [
    "# Variable definition\n",
    "split_ratio = 9/10"
   ]
  },
  {
   "cell_type": "code",
   "execution_count": 193,
   "metadata": {
    "scrolled": true
   },
   "outputs": [],
   "source": [
    "# Doing a slit of aust between train and test\n",
    "train = dataset[0:int(round(len(dataset)*split_ratio,0))]\n",
    "test = dataset[int(round(len(dataset)*split_ratio,0)):]"
   ]
  },
  {
   "cell_type": "code",
   "execution_count": 194,
   "metadata": {},
   "outputs": [
    {
     "name": "stdout",
     "output_type": "stream",
     "text": [
      "Length of dataset: 600\n",
      "Length of train: 540\n",
      "Length of test: 60\n",
      "Check: 0\n"
     ]
    }
   ],
   "source": [
    "print(\"Length of dataset:\", len(dataset))\n",
    "print(\"Length of train:\", len(train))\n",
    "print(\"Length of test:\", len(test))\n",
    "print(\"Check:\", len(dataset)-len(train)-len(test))"
   ]
  },
  {
   "cell_type": "markdown",
   "metadata": {},
   "source": [
    "# Modelling"
   ]
  },
  {
   "cell_type": "code",
   "execution_count": 195,
   "metadata": {},
   "outputs": [],
   "source": [
    "def measure_rmse(actual, predicted):\n",
    "    return sqrt(mean_squared_error(actual, predicted))"
   ]
  },
  {
   "cell_type": "code",
   "execution_count": 196,
   "metadata": {},
   "outputs": [],
   "source": [
    "# OK\n",
    "# create a set of exponential smoothing configs to try\n",
    "def exp_smoothing_configs(seasonal=[None]):\n",
    "    models = list()\n",
    "    # define config lists\n",
    "    t_params = ['add', 'mul', 'additive', None]\n",
    "    d_params = [True, False]\n",
    "    s_params = ['add', 'mul', 'additive', None]\n",
    "    p_params = seasonal\n",
    "    b_params = [True, False]\n",
    "    r_params = [True, False]\n",
    "    # create config instances\n",
    "    for t in t_params:\n",
    "        for d in d_params:\n",
    "            for s in s_params:\n",
    "                for p in p_params:\n",
    "                    for b in b_params:\n",
    "                        for r in r_params:\n",
    "                            cfg = [t,d,s,p,b,r]\n",
    "                            models.append(cfg)\n",
    "    return models"
   ]
  },
  {
   "cell_type": "code",
   "execution_count": 197,
   "metadata": {},
   "outputs": [
    {
     "data": {
      "text/plain": [
       "[['add', True, 'add', 60, True, True],\n",
       " ['add', True, 'add', 60, True, False],\n",
       " ['add', True, 'add', 60, False, True],\n",
       " ['add', True, 'add', 60, False, False],\n",
       " ['add', True, 'mul', 60, True, True]]"
      ]
     },
     "execution_count": 197,
     "metadata": {},
     "output_type": "execute_result"
    }
   ],
   "source": [
    "# Creating list of configuration possible\n",
    "cfg_list = exp_smoothing_configs(seasonal=[60])\n",
    "\n",
    "# Sample\n",
    "cfg_list[:5]"
   ]
  },
  {
   "cell_type": "code",
   "execution_count": 198,
   "metadata": {},
   "outputs": [],
   "source": [
    "# one-step Holt Winters Exponential Smoothing forecast\n",
    "def exp_smoothing_forecast_grid_search(train, test, configurations):\n",
    "    best_config = \"\"\n",
    "    best_rmse = 99999\n",
    "    for i in range(len(configurations)):\n",
    "        try:\n",
    "            t,d,s,p,b,r = configurations[i]\n",
    "            # define model\n",
    "            model = ExponentialSmoothing(train, trend=t, damped=d, seasonal=s, seasonal_periods=p).fit(optimized=True,use_boxcox=b,remove_bias=r)\n",
    "            # fit model\n",
    "            # make one step forecast\n",
    "            pred = model.predict(start=len(train)+1,end=len(test)+len(train))\n",
    "            temp_indicator = measure_rmse(test,pred)\n",
    "            if temp_indicator < best_rmse:\n",
    "                best_rmse = temp_indicator\n",
    "                best_config = configurations[i]\n",
    "        except:\n",
    "            pass\n",
    "    print(best_config)\n",
    "    print(best_rmse)\n",
    "    return(best_config)"
   ]
  },
  {
   "cell_type": "code",
   "execution_count": 199,
   "metadata": {},
   "outputs": [
    {
     "name": "stderr",
     "output_type": "stream",
     "text": [
      "/home/exalis/anaconda3/lib/python3.7/site-packages/statsmodels/tsa/holtwinters.py:712: ConvergenceWarning: Optimization failed to converge. Check mle_retvals.\n",
      "  ConvergenceWarning)\n",
      "/home/exalis/anaconda3/lib/python3.7/site-packages/statsmodels/tsa/holtwinters.py:712: ConvergenceWarning: Optimization failed to converge. Check mle_retvals.\n",
      "  ConvergenceWarning)\n",
      "/home/exalis/anaconda3/lib/python3.7/site-packages/statsmodels/tsa/holtwinters.py:712: ConvergenceWarning: Optimization failed to converge. Check mle_retvals.\n",
      "  ConvergenceWarning)\n",
      "/home/exalis/anaconda3/lib/python3.7/site-packages/statsmodels/tsa/holtwinters.py:712: ConvergenceWarning: Optimization failed to converge. Check mle_retvals.\n",
      "  ConvergenceWarning)\n",
      "/home/exalis/anaconda3/lib/python3.7/site-packages/statsmodels/tsa/holtwinters.py:712: ConvergenceWarning: Optimization failed to converge. Check mle_retvals.\n",
      "  ConvergenceWarning)\n",
      "/home/exalis/anaconda3/lib/python3.7/site-packages/statsmodels/tsa/holtwinters.py:712: ConvergenceWarning: Optimization failed to converge. Check mle_retvals.\n",
      "  ConvergenceWarning)\n",
      "/home/exalis/anaconda3/lib/python3.7/site-packages/statsmodels/tsa/holtwinters.py:712: ConvergenceWarning: Optimization failed to converge. Check mle_retvals.\n",
      "  ConvergenceWarning)\n",
      "/home/exalis/anaconda3/lib/python3.7/site-packages/statsmodels/tsa/holtwinters.py:712: ConvergenceWarning: Optimization failed to converge. Check mle_retvals.\n",
      "  ConvergenceWarning)\n",
      "/home/exalis/anaconda3/lib/python3.7/site-packages/statsmodels/tsa/holtwinters.py:712: ConvergenceWarning: Optimization failed to converge. Check mle_retvals.\n",
      "  ConvergenceWarning)\n",
      "/home/exalis/anaconda3/lib/python3.7/site-packages/statsmodels/tsa/holtwinters.py:712: ConvergenceWarning: Optimization failed to converge. Check mle_retvals.\n",
      "  ConvergenceWarning)\n",
      "/home/exalis/anaconda3/lib/python3.7/site-packages/statsmodels/tsa/holtwinters.py:712: ConvergenceWarning: Optimization failed to converge. Check mle_retvals.\n",
      "  ConvergenceWarning)\n",
      "/home/exalis/anaconda3/lib/python3.7/site-packages/statsmodels/tsa/holtwinters.py:712: ConvergenceWarning: Optimization failed to converge. Check mle_retvals.\n",
      "  ConvergenceWarning)\n",
      "/home/exalis/anaconda3/lib/python3.7/site-packages/statsmodels/tsa/holtwinters.py:712: ConvergenceWarning: Optimization failed to converge. Check mle_retvals.\n",
      "  ConvergenceWarning)\n",
      "/home/exalis/anaconda3/lib/python3.7/site-packages/statsmodels/tsa/holtwinters.py:712: ConvergenceWarning: Optimization failed to converge. Check mle_retvals.\n",
      "  ConvergenceWarning)\n",
      "/home/exalis/anaconda3/lib/python3.7/site-packages/statsmodels/tsa/holtwinters.py:712: ConvergenceWarning: Optimization failed to converge. Check mle_retvals.\n",
      "  ConvergenceWarning)\n",
      "/home/exalis/anaconda3/lib/python3.7/site-packages/statsmodels/tsa/holtwinters.py:712: ConvergenceWarning: Optimization failed to converge. Check mle_retvals.\n",
      "  ConvergenceWarning)\n",
      "/home/exalis/anaconda3/lib/python3.7/site-packages/statsmodels/tsa/holtwinters.py:712: ConvergenceWarning: Optimization failed to converge. Check mle_retvals.\n",
      "  ConvergenceWarning)\n",
      "/home/exalis/anaconda3/lib/python3.7/site-packages/statsmodels/tsa/holtwinters.py:881: RuntimeWarning: overflow encountered in multiply\n",
      "  (alphac * trended(lvls[i - 1], dampen(b[i - 1], phi)))\n",
      "/home/exalis/anaconda3/lib/python3.7/site-packages/statsmodels/tsa/holtwinters.py:886: RuntimeWarning: overflow encountered in multiply\n",
      "  (gamma * trended(lvls[i - 1], dampen(b[i - 1], phi))) + \\\n",
      "/home/exalis/anaconda3/lib/python3.7/site-packages/statsmodels/tsa/holtwinters.py:883: RuntimeWarning: invalid value encountered in true_divide\n",
      "  b[i] = (beta * detrend(lvls[i], lvls[i - 1])) + \\\n",
      "/home/exalis/anaconda3/lib/python3.7/site-packages/statsmodels/tsa/holtwinters.py:894: RuntimeWarning: overflow encountered in multiply\n",
      "  trend = trended(lvls, b)\n",
      "/home/exalis/anaconda3/lib/python3.7/site-packages/statsmodels/tsa/holtwinters.py:916: RuntimeWarning: invalid value encountered in true_divide\n",
      "  slope = detrend(trend[:nobs], level)\n",
      "/home/exalis/anaconda3/lib/python3.7/site-packages/statsmodels/tsa/holtwinters.py:918: RuntimeWarning: invalid value encountered in subtract\n",
      "  season = (fitted - inv_boxcox(trend, lamda))[:nobs]\n",
      "/home/exalis/anaconda3/lib/python3.7/site-packages/statsmodels/tsa/holtwinters.py:712: ConvergenceWarning: Optimization failed to converge. Check mle_retvals.\n",
      "  ConvergenceWarning)\n",
      "/home/exalis/anaconda3/lib/python3.7/site-packages/statsmodels/tsa/holtwinters.py:881: RuntimeWarning: overflow encountered in multiply\n",
      "  (alphac * trended(lvls[i - 1], dampen(b[i - 1], phi)))\n",
      "/home/exalis/anaconda3/lib/python3.7/site-packages/statsmodels/tsa/holtwinters.py:886: RuntimeWarning: overflow encountered in multiply\n",
      "  (gamma * trended(lvls[i - 1], dampen(b[i - 1], phi))) + \\\n",
      "/home/exalis/anaconda3/lib/python3.7/site-packages/statsmodels/tsa/holtwinters.py:883: RuntimeWarning: invalid value encountered in true_divide\n",
      "  b[i] = (beta * detrend(lvls[i], lvls[i - 1])) + \\\n",
      "/home/exalis/anaconda3/lib/python3.7/site-packages/statsmodels/tsa/holtwinters.py:894: RuntimeWarning: overflow encountered in multiply\n",
      "  trend = trended(lvls, b)\n",
      "/home/exalis/anaconda3/lib/python3.7/site-packages/statsmodels/tsa/holtwinters.py:916: RuntimeWarning: invalid value encountered in true_divide\n",
      "  slope = detrend(trend[:nobs], level)\n",
      "/home/exalis/anaconda3/lib/python3.7/site-packages/statsmodels/tsa/holtwinters.py:918: RuntimeWarning: invalid value encountered in subtract\n",
      "  season = (fitted - inv_boxcox(trend, lamda))[:nobs]\n",
      "/home/exalis/anaconda3/lib/python3.7/site-packages/statsmodels/tsa/holtwinters.py:712: ConvergenceWarning: Optimization failed to converge. Check mle_retvals.\n",
      "  ConvergenceWarning)\n",
      "/home/exalis/anaconda3/lib/python3.7/site-packages/statsmodels/tsa/holtwinters.py:712: ConvergenceWarning: Optimization failed to converge. Check mle_retvals.\n",
      "  ConvergenceWarning)\n",
      "/home/exalis/anaconda3/lib/python3.7/site-packages/statsmodels/tsa/holtwinters.py:712: ConvergenceWarning: Optimization failed to converge. Check mle_retvals.\n",
      "  ConvergenceWarning)\n",
      "/home/exalis/anaconda3/lib/python3.7/site-packages/statsmodels/tsa/holtwinters.py:712: ConvergenceWarning: Optimization failed to converge. Check mle_retvals.\n",
      "  ConvergenceWarning)\n",
      "/home/exalis/anaconda3/lib/python3.7/site-packages/statsmodels/tsa/holtwinters.py:712: ConvergenceWarning: Optimization failed to converge. Check mle_retvals.\n",
      "  ConvergenceWarning)\n",
      "/home/exalis/anaconda3/lib/python3.7/site-packages/statsmodels/tsa/holtwinters.py:712: ConvergenceWarning: Optimization failed to converge. Check mle_retvals.\n",
      "  ConvergenceWarning)\n",
      "/home/exalis/anaconda3/lib/python3.7/site-packages/statsmodels/tsa/holtwinters.py:712: ConvergenceWarning: Optimization failed to converge. Check mle_retvals.\n",
      "  ConvergenceWarning)\n",
      "/home/exalis/anaconda3/lib/python3.7/site-packages/statsmodels/tsa/holtwinters.py:881: RuntimeWarning: overflow encountered in multiply\n",
      "  (alphac * trended(lvls[i - 1], dampen(b[i - 1], phi)))\n",
      "/home/exalis/anaconda3/lib/python3.7/site-packages/statsmodels/tsa/holtwinters.py:886: RuntimeWarning: overflow encountered in multiply\n",
      "  (gamma * trended(lvls[i - 1], dampen(b[i - 1], phi))) + \\\n",
      "/home/exalis/anaconda3/lib/python3.7/site-packages/statsmodels/tsa/holtwinters.py:883: RuntimeWarning: invalid value encountered in true_divide\n",
      "  b[i] = (beta * detrend(lvls[i], lvls[i - 1])) + \\\n",
      "/home/exalis/anaconda3/lib/python3.7/site-packages/statsmodels/tsa/holtwinters.py:894: RuntimeWarning: overflow encountered in multiply\n",
      "  trend = trended(lvls, b)\n",
      "/home/exalis/anaconda3/lib/python3.7/site-packages/statsmodels/tsa/holtwinters.py:916: RuntimeWarning: invalid value encountered in true_divide\n",
      "  slope = detrend(trend[:nobs], level)\n",
      "/home/exalis/anaconda3/lib/python3.7/site-packages/statsmodels/tsa/holtwinters.py:918: RuntimeWarning: invalid value encountered in subtract\n",
      "  season = (fitted - inv_boxcox(trend, lamda))[:nobs]\n",
      "/home/exalis/anaconda3/lib/python3.7/site-packages/statsmodels/tsa/holtwinters.py:712: ConvergenceWarning: Optimization failed to converge. Check mle_retvals.\n",
      "  ConvergenceWarning)\n",
      "/home/exalis/anaconda3/lib/python3.7/site-packages/statsmodels/tsa/holtwinters.py:881: RuntimeWarning: overflow encountered in multiply\n",
      "  (alphac * trended(lvls[i - 1], dampen(b[i - 1], phi)))\n",
      "/home/exalis/anaconda3/lib/python3.7/site-packages/statsmodels/tsa/holtwinters.py:886: RuntimeWarning: overflow encountered in multiply\n",
      "  (gamma * trended(lvls[i - 1], dampen(b[i - 1], phi))) + \\\n",
      "/home/exalis/anaconda3/lib/python3.7/site-packages/statsmodels/tsa/holtwinters.py:883: RuntimeWarning: invalid value encountered in true_divide\n",
      "  b[i] = (beta * detrend(lvls[i], lvls[i - 1])) + \\\n",
      "/home/exalis/anaconda3/lib/python3.7/site-packages/statsmodels/tsa/holtwinters.py:894: RuntimeWarning: overflow encountered in multiply\n",
      "  trend = trended(lvls, b)\n",
      "/home/exalis/anaconda3/lib/python3.7/site-packages/statsmodels/tsa/holtwinters.py:916: RuntimeWarning: invalid value encountered in true_divide\n",
      "  slope = detrend(trend[:nobs], level)\n",
      "/home/exalis/anaconda3/lib/python3.7/site-packages/statsmodels/tsa/holtwinters.py:918: RuntimeWarning: invalid value encountered in subtract\n",
      "  season = (fitted - inv_boxcox(trend, lamda))[:nobs]\n",
      "/home/exalis/anaconda3/lib/python3.7/site-packages/statsmodels/tsa/holtwinters.py:712: ConvergenceWarning: Optimization failed to converge. Check mle_retvals.\n",
      "  ConvergenceWarning)\n"
     ]
    },
    {
     "name": "stderr",
     "output_type": "stream",
     "text": [
      "/home/exalis/anaconda3/lib/python3.7/site-packages/statsmodels/tsa/holtwinters.py:712: ConvergenceWarning: Optimization failed to converge. Check mle_retvals.\n",
      "  ConvergenceWarning)\n",
      "/home/exalis/anaconda3/lib/python3.7/site-packages/statsmodels/tsa/holtwinters.py:712: ConvergenceWarning: Optimization failed to converge. Check mle_retvals.\n",
      "  ConvergenceWarning)\n",
      "/home/exalis/anaconda3/lib/python3.7/site-packages/statsmodels/tsa/holtwinters.py:712: ConvergenceWarning: Optimization failed to converge. Check mle_retvals.\n",
      "  ConvergenceWarning)\n",
      "/home/exalis/anaconda3/lib/python3.7/site-packages/statsmodels/tsa/holtwinters.py:712: ConvergenceWarning: Optimization failed to converge. Check mle_retvals.\n",
      "  ConvergenceWarning)\n",
      "/home/exalis/anaconda3/lib/python3.7/site-packages/statsmodels/tsa/holtwinters.py:712: ConvergenceWarning: Optimization failed to converge. Check mle_retvals.\n",
      "  ConvergenceWarning)\n",
      "/home/exalis/anaconda3/lib/python3.7/site-packages/statsmodels/tsa/holtwinters.py:712: ConvergenceWarning: Optimization failed to converge. Check mle_retvals.\n",
      "  ConvergenceWarning)\n",
      "/home/exalis/anaconda3/lib/python3.7/site-packages/statsmodels/tsa/holtwinters.py:712: ConvergenceWarning: Optimization failed to converge. Check mle_retvals.\n",
      "  ConvergenceWarning)\n",
      "/home/exalis/anaconda3/lib/python3.7/site-packages/statsmodels/tsa/holtwinters.py:712: ConvergenceWarning: Optimization failed to converge. Check mle_retvals.\n",
      "  ConvergenceWarning)\n",
      "/home/exalis/anaconda3/lib/python3.7/site-packages/statsmodels/tsa/holtwinters.py:712: ConvergenceWarning: Optimization failed to converge. Check mle_retvals.\n",
      "  ConvergenceWarning)\n",
      "/home/exalis/anaconda3/lib/python3.7/site-packages/statsmodels/tsa/holtwinters.py:712: ConvergenceWarning: Optimization failed to converge. Check mle_retvals.\n",
      "  ConvergenceWarning)\n",
      "/home/exalis/anaconda3/lib/python3.7/site-packages/statsmodels/tsa/holtwinters.py:712: ConvergenceWarning: Optimization failed to converge. Check mle_retvals.\n",
      "  ConvergenceWarning)\n",
      "/home/exalis/anaconda3/lib/python3.7/site-packages/statsmodels/tsa/holtwinters.py:712: ConvergenceWarning: Optimization failed to converge. Check mle_retvals.\n",
      "  ConvergenceWarning)\n",
      "/home/exalis/anaconda3/lib/python3.7/site-packages/statsmodels/tsa/holtwinters.py:712: ConvergenceWarning: Optimization failed to converge. Check mle_retvals.\n",
      "  ConvergenceWarning)\n",
      "/home/exalis/anaconda3/lib/python3.7/site-packages/statsmodels/tsa/holtwinters.py:712: ConvergenceWarning: Optimization failed to converge. Check mle_retvals.\n",
      "  ConvergenceWarning)\n",
      "/home/exalis/anaconda3/lib/python3.7/site-packages/statsmodels/tsa/holtwinters.py:712: ConvergenceWarning: Optimization failed to converge. Check mle_retvals.\n",
      "  ConvergenceWarning)\n"
     ]
    },
    {
     "name": "stdout",
     "output_type": "stream",
     "text": [
      "['mul', True, 'add', 60, True, False]\n",
      "1.6129743871032178\n"
     ]
    }
   ],
   "source": [
    "best_parameters = exp_smoothing_forecast_grid_search(train, test, cfg_list)"
   ]
  },
  {
   "cell_type": "code",
   "execution_count": 200,
   "metadata": {},
   "outputs": [
    {
     "data": {
      "text/plain": [
       "['mul', True, 'add', 60, True, False]"
      ]
     },
     "execution_count": 200,
     "metadata": {},
     "output_type": "execute_result"
    }
   ],
   "source": [
    "best_parameters"
   ]
  },
  {
   "cell_type": "markdown",
   "metadata": {},
   "source": [
    "# Best model"
   ]
  },
  {
   "cell_type": "code",
   "execution_count": 203,
   "metadata": {},
   "outputs": [
    {
     "name": "stdout",
     "output_type": "stream",
     "text": [
      "1.6129743871032178\n"
     ]
    },
    {
     "name": "stderr",
     "output_type": "stream",
     "text": [
      "/home/exalis/anaconda3/lib/python3.7/site-packages/statsmodels/tsa/holtwinters.py:712: ConvergenceWarning: Optimization failed to converge. Check mle_retvals.\n",
      "  ConvergenceWarning)\n"
     ]
    }
   ],
   "source": [
    "t,d,s,p,b,r = best_parameters\n",
    "\n",
    "# define model\n",
    "model = ExponentialSmoothing(train, trend=t, damped=d, seasonal=s, seasonal_periods=p).fit(optimized=True,use_boxcox=b,remove_bias=r)\n",
    "# make one step forecast\n",
    "pred = model.predict(start=len(train)+1,end=len(test)+len(train))\n",
    "temp_indicator = measure_rmse(test,pred)\n",
    "print(temp_indicator)"
   ]
  },
  {
   "cell_type": "code",
   "execution_count": 222,
   "metadata": {},
   "outputs": [
    {
     "data": {
      "text/html": [
       "<div>\n",
       "<style scoped>\n",
       "    .dataframe tbody tr th:only-of-type {\n",
       "        vertical-align: middle;\n",
       "    }\n",
       "\n",
       "    .dataframe tbody tr th {\n",
       "        vertical-align: top;\n",
       "    }\n",
       "\n",
       "    .dataframe thead th {\n",
       "        text-align: right;\n",
       "    }\n",
       "</style>\n",
       "<table border=\"1\" class=\"dataframe\">\n",
       "  <thead>\n",
       "    <tr style=\"text-align: right;\">\n",
       "      <th></th>\n",
       "      <th>0</th>\n",
       "    </tr>\n",
       "  </thead>\n",
       "  <tbody>\n",
       "    <tr>\n",
       "      <td>0</td>\n",
       "      <td>18.000000</td>\n",
       "    </tr>\n",
       "    <tr>\n",
       "      <td>1</td>\n",
       "      <td>18.000000</td>\n",
       "    </tr>\n",
       "    <tr>\n",
       "      <td>2</td>\n",
       "      <td>18.000000</td>\n",
       "    </tr>\n",
       "    <tr>\n",
       "      <td>3</td>\n",
       "      <td>18.000000</td>\n",
       "    </tr>\n",
       "    <tr>\n",
       "      <td>4</td>\n",
       "      <td>18.000000</td>\n",
       "    </tr>\n",
       "    <tr>\n",
       "      <td>...</td>\n",
       "      <td>...</td>\n",
       "    </tr>\n",
       "    <tr>\n",
       "      <td>595</td>\n",
       "      <td>10.374113</td>\n",
       "    </tr>\n",
       "    <tr>\n",
       "      <td>596</td>\n",
       "      <td>9.811629</td>\n",
       "    </tr>\n",
       "    <tr>\n",
       "      <td>597</td>\n",
       "      <td>8.969393</td>\n",
       "    </tr>\n",
       "    <tr>\n",
       "      <td>598</td>\n",
       "      <td>8.166055</td>\n",
       "    </tr>\n",
       "    <tr>\n",
       "      <td>599</td>\n",
       "      <td>14.790591</td>\n",
       "    </tr>\n",
       "  </tbody>\n",
       "</table>\n",
       "<p>600 rows × 1 columns</p>\n",
       "</div>"
      ],
      "text/plain": [
       "             0\n",
       "0    18.000000\n",
       "1    18.000000\n",
       "2    18.000000\n",
       "3    18.000000\n",
       "4    18.000000\n",
       "..         ...\n",
       "595  10.374113\n",
       "596   9.811629\n",
       "597   8.969393\n",
       "598   8.166055\n",
       "599  14.790591\n",
       "\n",
       "[600 rows x 1 columns]"
      ]
     },
     "execution_count": 222,
     "metadata": {},
     "output_type": "execute_result"
    }
   ],
   "source": [
    "pd.DataFrame(np.concatenate((train,pred), axis = 0))"
   ]
  },
  {
   "cell_type": "code",
   "execution_count": 224,
   "metadata": {},
   "outputs": [
    {
     "data": {
      "text/html": [
       "<div>\n",
       "<style scoped>\n",
       "    .dataframe tbody tr th:only-of-type {\n",
       "        vertical-align: middle;\n",
       "    }\n",
       "\n",
       "    .dataframe tbody tr th {\n",
       "        vertical-align: top;\n",
       "    }\n",
       "\n",
       "    .dataframe thead th {\n",
       "        text-align: right;\n",
       "    }\n",
       "</style>\n",
       "<table border=\"1\" class=\"dataframe\">\n",
       "  <thead>\n",
       "    <tr style=\"text-align: right;\">\n",
       "      <th></th>\n",
       "      <th>0</th>\n",
       "    </tr>\n",
       "  </thead>\n",
       "  <tbody>\n",
       "    <tr>\n",
       "      <td>0</td>\n",
       "      <td>18.000000</td>\n",
       "    </tr>\n",
       "    <tr>\n",
       "      <td>1</td>\n",
       "      <td>18.000000</td>\n",
       "    </tr>\n",
       "    <tr>\n",
       "      <td>2</td>\n",
       "      <td>18.000000</td>\n",
       "    </tr>\n",
       "    <tr>\n",
       "      <td>3</td>\n",
       "      <td>18.000000</td>\n",
       "    </tr>\n",
       "    <tr>\n",
       "      <td>4</td>\n",
       "      <td>18.000000</td>\n",
       "    </tr>\n",
       "    <tr>\n",
       "      <td>...</td>\n",
       "      <td>...</td>\n",
       "    </tr>\n",
       "    <tr>\n",
       "      <td>595</td>\n",
       "      <td>10.374113</td>\n",
       "    </tr>\n",
       "    <tr>\n",
       "      <td>596</td>\n",
       "      <td>9.811629</td>\n",
       "    </tr>\n",
       "    <tr>\n",
       "      <td>597</td>\n",
       "      <td>8.969393</td>\n",
       "    </tr>\n",
       "    <tr>\n",
       "      <td>598</td>\n",
       "      <td>8.166055</td>\n",
       "    </tr>\n",
       "    <tr>\n",
       "      <td>599</td>\n",
       "      <td>14.790591</td>\n",
       "    </tr>\n",
       "  </tbody>\n",
       "</table>\n",
       "<p>600 rows × 1 columns</p>\n",
       "</div>"
      ],
      "text/plain": [
       "             0\n",
       "0    18.000000\n",
       "1    18.000000\n",
       "2    18.000000\n",
       "3    18.000000\n",
       "4    18.000000\n",
       "..         ...\n",
       "595  10.374113\n",
       "596   9.811629\n",
       "597   8.969393\n",
       "598   8.166055\n",
       "599  14.790591\n",
       "\n",
       "[600 rows x 1 columns]"
      ]
     },
     "execution_count": 224,
     "metadata": {},
     "output_type": "execute_result"
    }
   ],
   "source": [
    "pd.DataFrame(np.concatenate((train,pred), axis = 0))"
   ]
  },
  {
   "cell_type": "markdown",
   "metadata": {},
   "source": [
    "# Graphic visualisation 1"
   ]
  },
  {
   "cell_type": "code",
   "execution_count": 227,
   "metadata": {},
   "outputs": [
    {
     "data": {
      "text/html": [
       "<div>\n",
       "<style scoped>\n",
       "    .dataframe tbody tr th:only-of-type {\n",
       "        vertical-align: middle;\n",
       "    }\n",
       "\n",
       "    .dataframe tbody tr th {\n",
       "        vertical-align: top;\n",
       "    }\n",
       "\n",
       "    .dataframe thead th {\n",
       "        text-align: right;\n",
       "    }\n",
       "</style>\n",
       "<table border=\"1\" class=\"dataframe\">\n",
       "  <thead>\n",
       "    <tr style=\"text-align: right;\">\n",
       "      <th></th>\n",
       "      <th>actual</th>\n",
       "      <th>forecast</th>\n",
       "    </tr>\n",
       "  </thead>\n",
       "  <tbody>\n",
       "    <tr>\n",
       "      <td>0</td>\n",
       "      <td>18</td>\n",
       "      <td>18.0</td>\n",
       "    </tr>\n",
       "    <tr>\n",
       "      <td>1</td>\n",
       "      <td>18</td>\n",
       "      <td>18.0</td>\n",
       "    </tr>\n",
       "    <tr>\n",
       "      <td>2</td>\n",
       "      <td>18</td>\n",
       "      <td>18.0</td>\n",
       "    </tr>\n",
       "    <tr>\n",
       "      <td>3</td>\n",
       "      <td>18</td>\n",
       "      <td>18.0</td>\n",
       "    </tr>\n",
       "    <tr>\n",
       "      <td>4</td>\n",
       "      <td>18</td>\n",
       "      <td>18.0</td>\n",
       "    </tr>\n",
       "  </tbody>\n",
       "</table>\n",
       "</div>"
      ],
      "text/plain": [
       "   actual  forecast\n",
       "0      18      18.0\n",
       "1      18      18.0\n",
       "2      18      18.0\n",
       "3      18      18.0\n",
       "4      18      18.0"
      ]
     },
     "execution_count": 227,
     "metadata": {},
     "output_type": "execute_result"
    }
   ],
   "source": [
    "df = pd.DataFrame(columns=[\"actual\",\"forecast\"])\n",
    "df.actual = (np.concatenate((train,test), axis = 0))\n",
    "df.forecast = (np.concatenate((train,pred), axis = 0))\n",
    "df.head()"
   ]
  },
  {
   "cell_type": "code",
   "execution_count": 228,
   "metadata": {
    "scrolled": false
   },
   "outputs": [
    {
     "data": {
      "image/png": "[encoded data removed]",
      "text/plain": [
       "<Figure size 1080x360 with 1 Axes>"
      ]
     },
     "metadata": {
      "needs_background": "light"
     },
     "output_type": "display_data"
    }
   ],
   "source": [
    "# Creation of a plot // Density level vs average docks\n",
    "\n",
    "fig, axis = plt.subplots(figsize=(15,5))\n",
    "sns.lineplot(x=df.index, y=\"forecast\",data=df, color=\"red\")\n",
    "sns.lineplot(x=df.index, y=\"actual\",data=df, color=\"green\")\n",
    "\n",
    "\n",
    "plt.show()"
   ]
  },
  {
   "cell_type": "markdown",
   "metadata": {},
   "source": [
    "# Graphic visualisation 2"
   ]
  },
  {
   "cell_type": "code",
   "execution_count": 243,
   "metadata": {},
   "outputs": [],
   "source": [
    "# prediction the dataset + 30 minutes\n",
    "pred2 = model.predict(start=(len(test)+len(train)+1), end=(len(test)+len(train)+30))"
   ]
  },
  {
   "cell_type": "code",
   "execution_count": 253,
   "metadata": {},
   "outputs": [
    {
     "data": {
      "text/html": [
       "<div>\n",
       "<style scoped>\n",
       "    .dataframe tbody tr th:only-of-type {\n",
       "        vertical-align: middle;\n",
       "    }\n",
       "\n",
       "    .dataframe tbody tr th {\n",
       "        vertical-align: top;\n",
       "    }\n",
       "\n",
       "    .dataframe thead th {\n",
       "        text-align: right;\n",
       "    }\n",
       "</style>\n",
       "<table border=\"1\" class=\"dataframe\">\n",
       "  <thead>\n",
       "    <tr style=\"text-align: right;\">\n",
       "      <th></th>\n",
       "      <th>actual</th>\n",
       "      <th>forecast</th>\n",
       "    </tr>\n",
       "  </thead>\n",
       "  <tbody>\n",
       "    <tr>\n",
       "      <td>0</td>\n",
       "      <td>18.0</td>\n",
       "      <td>18.0</td>\n",
       "    </tr>\n",
       "    <tr>\n",
       "      <td>1</td>\n",
       "      <td>18.0</td>\n",
       "      <td>18.0</td>\n",
       "    </tr>\n",
       "    <tr>\n",
       "      <td>2</td>\n",
       "      <td>18.0</td>\n",
       "      <td>18.0</td>\n",
       "    </tr>\n",
       "    <tr>\n",
       "      <td>3</td>\n",
       "      <td>18.0</td>\n",
       "      <td>18.0</td>\n",
       "    </tr>\n",
       "    <tr>\n",
       "      <td>4</td>\n",
       "      <td>18.0</td>\n",
       "      <td>18.0</td>\n",
       "    </tr>\n",
       "  </tbody>\n",
       "</table>\n",
       "</div>"
      ],
      "text/plain": [
       "   actual  forecast\n",
       "0    18.0      18.0\n",
       "1    18.0      18.0\n",
       "2    18.0      18.0\n",
       "3    18.0      18.0\n",
       "4    18.0      18.0"
      ]
     },
     "execution_count": 253,
     "metadata": {},
     "output_type": "execute_result"
    }
   ],
   "source": [
    "df2 = pd.DataFrame(columns=[\"actual\",\"forecast\"])\n",
    "df2.actual = (np.concatenate((train,test, (np.zeros(30)+test[-1:])), axis = 0))\n",
    "df2.forecast = (np.concatenate((train,test,pred2), axis = 0))\n",
    "df2.head()"
   ]
  },
  {
   "cell_type": "code",
   "execution_count": 254,
   "metadata": {},
   "outputs": [
    {
     "data": {
      "image/png": "[encoded data removed]",
      "text/plain": [
       "<Figure size 1080x360 with 1 Axes>"
      ]
     },
     "metadata": {
      "needs_background": "light"
     },
     "output_type": "display_data"
    }
   ],
   "source": [
    "# Creation of a plot // Density level vs average docks\n",
    "\n",
    "fig, axis = plt.subplots(figsize=(15,5))\n",
    "sns.lineplot(x=df2.index, y=\"forecast\",data=df2, color=\"red\")\n",
    "sns.lineplot(x=df2.index, y=\"actual\",data=df2, color=\"green\")\n",
    "\n",
    "\n",
    "plt.show()"
   ]
  }
 ],
 "metadata": {
  "kernelspec": {
   "display_name": "Python 3",
   "language": "python",
   "name": "python3"
  },
  "language_info": {
   "codemirror_mode": {
    "name": "ipython",
    "version": 3
   },
   "file_extension": ".py",
   "mimetype": "text/x-python",
   "name": "python",
   "nbconvert_exporter": "python",
   "pygments_lexer": "ipython3",
   "version": "3.7.4"
  }
 },
 "nbformat": 4,
 "nbformat_minor": 2
}
