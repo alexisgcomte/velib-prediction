{
 "cells": [
  {
   "cell_type": "code",
   "execution_count": 6,
   "metadata": {},
   "outputs": [],
   "source": [
    "import os\n",
    "import numpy as np\n",
    "import pandas as pd\n",
    "import matplotlib.pyplot as plt\n",
    "import seaborn as sns\n",
    "from statsmodels.tsa.api import ExponentialSmoothing\n",
    "from math import sqrt\n",
    "from sklearn.metrics import mean_squared_error"
   ]
  },
  {
   "cell_type": "markdown",
   "metadata": {},
   "source": [
    "# Data Loading and pre-processing"
   ]
  },
  {
   "cell_type": "code",
   "execution_count": 7,
   "metadata": {},
   "outputs": [],
   "source": [
    "# Loading data temperature\n",
    "data = [41.7275,  24.0418,  32.3281,  37.3287,  46.2132,  29.3463, 36.4829,  42.9777,  48.9015,  31.1802,  37.7179,  40.4202, 51.2069,  31.8872,  40.9783,  43.7725,  55.5586,  33.8509, 42.0764,  45.6423,  59.7668,  35.1919,  44.3197,  47.9137]\n",
    "index= pd.date_range(start='2005', end='2010-Q4', freq='QS-OCT')\n",
    "dataset = pd.Series(data, index)"
   ]
  },
  {
   "cell_type": "code",
   "execution_count": 8,
   "metadata": {},
   "outputs": [
    {
     "data": {
      "text/plain": [
       "2005-01-01    41.7275\n",
       "2005-04-01    24.0418\n",
       "2005-07-01    32.3281\n",
       "2005-10-01    37.3287\n",
       "2006-01-01    46.2132\n",
       "Freq: QS-OCT, dtype: float64"
      ]
     },
     "execution_count": 8,
     "metadata": {},
     "output_type": "execute_result"
    }
   ],
   "source": [
    "dataset[0:5]"
   ]
  },
  {
   "cell_type": "code",
   "execution_count": 9,
   "metadata": {},
   "outputs": [],
   "source": [
    "# Variable definition\n",
    "split_ratio = 0.7"
   ]
  },
  {
   "cell_type": "code",
   "execution_count": 14,
   "metadata": {
    "scrolled": true
   },
   "outputs": [],
   "source": [
    "# Doing a slit of aust between train and test\n",
    "train = dataset[0:int(round(len(dataset)*0.7,0))]\n",
    "test = dataset[int(round(len(dataset)*0.7,0)):]"
   ]
  },
  {
   "cell_type": "code",
   "execution_count": 17,
   "metadata": {},
   "outputs": [
    {
     "name": "stdout",
     "output_type": "stream",
     "text": [
      "Length of dataset: 24\n",
      "Length of train: 17\n",
      "Length of test: 7\n",
      "Check: 0\n"
     ]
    }
   ],
   "source": [
    "print(\"Length of dataset:\", len(dataset))\n",
    "print(\"Length of train:\", len(train))\n",
    "print(\"Length of test:\", len(test))\n",
    "print(\"Check:\", len(dataset)-len(train)-len(test))"
   ]
  },
  {
   "cell_type": "markdown",
   "metadata": {},
   "source": [
    "# Modelling"
   ]
  },
  {
   "cell_type": "code",
   "execution_count": 18,
   "metadata": {},
   "outputs": [],
   "source": [
    "def measure_rmse(actual, predicted):\n",
    "    return sqrt(mean_squared_error(actual, predicted))"
   ]
  },
  {
   "cell_type": "code",
   "execution_count": 27,
   "metadata": {},
   "outputs": [
    {
     "name": "stderr",
     "output_type": "stream",
     "text": [
      "/home/exalis/anaconda3/lib/python3.7/site-packages/statsmodels/tsa/holtwinters.py:712: ConvergenceWarning: Optimization failed to converge. Check mle_retvals.\n",
      "  ConvergenceWarning)\n"
     ]
    }
   ],
   "source": [
    "model = ExponentialSmoothing(train, seasonal_periods=4, trend='add', seasonal='add').fit(use_boxcox=True)"
   ]
  },
  {
   "cell_type": "code",
   "execution_count": 1,
   "metadata": {},
   "outputs": [],
   "source": [
    "# OK\n",
    "# create a set of exponential smoothing configs to try\n",
    "def exp_smoothing_configs(seasonal=[None]):\n",
    "    models = list()\n",
    "    # define config lists\n",
    "    t_params = ['add','mul', None]\n",
    "    d_params = [True, False]\n",
    "    s_params = ['add','mul', None]\n",
    "    p_params = seasonal\n",
    "    b_params = [True, False]\n",
    "    r_params = [True, False]\n",
    "    # create config instances\n",
    "    for t in t_params:\n",
    "        for d in d_params:\n",
    "            for s in s_params:\n",
    "                for p in p_params:\n",
    "                    for b in b_params:\n",
    "                        for r in r_params:\n",
    "                            cfg = [t,d,s,p,b,r]\n",
    "                            models.append(cfg)\n",
    "    return models\n",
    "\n",
    "# Creating list of configuration possible\n",
    "cfg_list = exp_smoothing_configs(seasonal=[4])"
   ]
  },
  {
   "cell_type": "code",
   "execution_count": 2,
   "metadata": {},
   "outputs": [
    {
     "data": {
      "text/plain": [
       "[['add', True, 'add', 4, True, True],\n",
       " ['add', True, 'add', 4, True, False],\n",
       " ['add', True, 'add', 4, False, True],\n",
       " ['add', True, 'add', 4, False, False],\n",
       " ['add', True, 'mul', 4, True, True],\n",
       " ['add', True, 'mul', 4, True, False],\n",
       " ['add', True, 'mul', 4, False, True],\n",
       " ['add', True, 'mul', 4, False, False],\n",
       " ['add', True, None, 4, True, True],\n",
       " ['add', True, None, 4, True, False],\n",
       " ['add', True, None, 4, False, True],\n",
       " ['add', True, None, 4, False, False],\n",
       " ['add', False, 'add', 4, True, True],\n",
       " ['add', False, 'add', 4, True, False],\n",
       " ['add', False, 'add', 4, False, True],\n",
       " ['add', False, 'add', 4, False, False],\n",
       " ['add', False, 'mul', 4, True, True],\n",
       " ['add', False, 'mul', 4, True, False],\n",
       " ['add', False, 'mul', 4, False, True],\n",
       " ['add', False, 'mul', 4, False, False],\n",
       " ['add', False, None, 4, True, True],\n",
       " ['add', False, None, 4, True, False],\n",
       " ['add', False, None, 4, False, True],\n",
       " ['add', False, None, 4, False, False],\n",
       " ['mul', True, 'add', 4, True, True],\n",
       " ['mul', True, 'add', 4, True, False],\n",
       " ['mul', True, 'add', 4, False, True],\n",
       " ['mul', True, 'add', 4, False, False],\n",
       " ['mul', True, 'mul', 4, True, True],\n",
       " ['mul', True, 'mul', 4, True, False],\n",
       " ['mul', True, 'mul', 4, False, True],\n",
       " ['mul', True, 'mul', 4, False, False],\n",
       " ['mul', True, None, 4, True, True],\n",
       " ['mul', True, None, 4, True, False],\n",
       " ['mul', True, None, 4, False, True],\n",
       " ['mul', True, None, 4, False, False],\n",
       " ['mul', False, 'add', 4, True, True],\n",
       " ['mul', False, 'add', 4, True, False],\n",
       " ['mul', False, 'add', 4, False, True],\n",
       " ['mul', False, 'add', 4, False, False],\n",
       " ['mul', False, 'mul', 4, True, True],\n",
       " ['mul', False, 'mul', 4, True, False],\n",
       " ['mul', False, 'mul', 4, False, True],\n",
       " ['mul', False, 'mul', 4, False, False],\n",
       " ['mul', False, None, 4, True, True],\n",
       " ['mul', False, None, 4, True, False],\n",
       " ['mul', False, None, 4, False, True],\n",
       " ['mul', False, None, 4, False, False],\n",
       " [None, True, 'add', 4, True, True],\n",
       " [None, True, 'add', 4, True, False],\n",
       " [None, True, 'add', 4, False, True],\n",
       " [None, True, 'add', 4, False, False],\n",
       " [None, True, 'mul', 4, True, True],\n",
       " [None, True, 'mul', 4, True, False],\n",
       " [None, True, 'mul', 4, False, True],\n",
       " [None, True, 'mul', 4, False, False],\n",
       " [None, True, None, 4, True, True],\n",
       " [None, True, None, 4, True, False],\n",
       " [None, True, None, 4, False, True],\n",
       " [None, True, None, 4, False, False],\n",
       " [None, False, 'add', 4, True, True],\n",
       " [None, False, 'add', 4, True, False],\n",
       " [None, False, 'add', 4, False, True],\n",
       " [None, False, 'add', 4, False, False],\n",
       " [None, False, 'mul', 4, True, True],\n",
       " [None, False, 'mul', 4, True, False],\n",
       " [None, False, 'mul', 4, False, True],\n",
       " [None, False, 'mul', 4, False, False],\n",
       " [None, False, None, 4, True, True],\n",
       " [None, False, None, 4, True, False],\n",
       " [None, False, None, 4, False, True],\n",
       " [None, False, None, 4, False, False]]"
      ]
     },
     "execution_count": 2,
     "metadata": {},
     "output_type": "execute_result"
    }
   ],
   "source": [
    "cfg_list"
   ]
  },
  {
   "cell_type": "code",
   "execution_count": 29,
   "metadata": {},
   "outputs": [],
   "source": [
    "t,d,s,p,b,r = cfg_list[0]"
   ]
  },
  {
   "cell_type": "code",
   "execution_count": 39,
   "metadata": {},
   "outputs": [
    {
     "name": "stderr",
     "output_type": "stream",
     "text": [
      "/home/exalis/anaconda3/lib/python3.7/site-packages/statsmodels/tsa/holtwinters.py:712: ConvergenceWarning: Optimization failed to converge. Check mle_retvals.\n",
      "  ConvergenceWarning)\n"
     ]
    }
   ],
   "source": [
    "model = ExponentialSmoothing(train, trend=t, damped=d, seasonal=s, seasonal_periods=p).fit(optimized=True,use_boxcox=b,remove_bias=r)"
   ]
  },
  {
   "cell_type": "code",
   "execution_count": 40,
   "metadata": {},
   "outputs": [
    {
     "data": {
      "text/plain": [
       "2009-07-01    40.636131\n",
       "2009-10-01    44.636349\n",
       "2010-01-01    54.066193\n",
       "2010-04-01    34.125883\n",
       "2010-07-01    41.120748\n",
       "2010-10-01    45.070507\n",
       "2011-01-01    54.464844\n",
       "Freq: QS-OCT, dtype: float64"
      ]
     },
     "execution_count": 40,
     "metadata": {},
     "output_type": "execute_result"
    }
   ],
   "source": [
    "model.predict(start=len(train)+1,end=len(test)+len(train))"
   ]
  },
  {
   "cell_type": "code",
   "execution_count": 68,
   "metadata": {},
   "outputs": [],
   "source": [
    "# one-step Holt Winters Exponential Smoothing forecast\n",
    "def exp_smoothing_forecast_grid_search(train, test, configurations):\n",
    "    best_config = \"\"\n",
    "    best_rmse = 99999\n",
    "    for i in range(len(configurations)):\n",
    "        try:\n",
    "            t,d,s,p,b,r = configurations[i]\n",
    "            # define model\n",
    "            model = ExponentialSmoothing(train, trend=t, damped=d, seasonal=s, seasonal_periods=p).fit(optimized=True,use_boxcox=b,remove_bias=r)\n",
    "            # fit model\n",
    "            # make one step forecast\n",
    "            pred = model.predict(start=len(train),end=len(test)+len(train)-1)\n",
    "            temp_indicator = measure_rmse(test,pred)\n",
    "            if temp_indicator < best_rmse:\n",
    "                best_rmse = temp_indicator\n",
    "                best_config = configurations[i]\n",
    "        except:\n",
    "            print(\"error\")\n",
    "    print(best_config)\n",
    "    print(best_rmse)\n",
    "    return(best_config)"
   ]
  },
  {
   "cell_type": "code",
   "execution_count": 69,
   "metadata": {},
   "outputs": [
    {
     "name": "stderr",
     "output_type": "stream",
     "text": [
      "/home/exalis/anaconda3/lib/python3.7/site-packages/statsmodels/tsa/holtwinters.py:712: ConvergenceWarning: Optimization failed to converge. Check mle_retvals.\n",
      "  ConvergenceWarning)\n",
      "/home/exalis/anaconda3/lib/python3.7/site-packages/statsmodels/tsa/holtwinters.py:712: ConvergenceWarning: Optimization failed to converge. Check mle_retvals.\n",
      "  ConvergenceWarning)\n",
      "/home/exalis/anaconda3/lib/python3.7/site-packages/statsmodels/tsa/holtwinters.py:712: ConvergenceWarning: Optimization failed to converge. Check mle_retvals.\n",
      "  ConvergenceWarning)\n",
      "/home/exalis/anaconda3/lib/python3.7/site-packages/statsmodels/tsa/holtwinters.py:712: ConvergenceWarning: Optimization failed to converge. Check mle_retvals.\n",
      "  ConvergenceWarning)\n",
      "/home/exalis/anaconda3/lib/python3.7/site-packages/statsmodels/tsa/holtwinters.py:712: ConvergenceWarning: Optimization failed to converge. Check mle_retvals.\n",
      "  ConvergenceWarning)\n",
      "/home/exalis/anaconda3/lib/python3.7/site-packages/statsmodels/tsa/holtwinters.py:712: ConvergenceWarning: Optimization failed to converge. Check mle_retvals.\n",
      "  ConvergenceWarning)\n",
      "/home/exalis/anaconda3/lib/python3.7/site-packages/statsmodels/tsa/holtwinters.py:712: ConvergenceWarning: Optimization failed to converge. Check mle_retvals.\n",
      "  ConvergenceWarning)\n",
      "/home/exalis/anaconda3/lib/python3.7/site-packages/statsmodels/tsa/holtwinters.py:712: ConvergenceWarning: Optimization failed to converge. Check mle_retvals.\n",
      "  ConvergenceWarning)\n",
      "/home/exalis/anaconda3/lib/python3.7/site-packages/statsmodels/tsa/holtwinters.py:712: ConvergenceWarning: Optimization failed to converge. Check mle_retvals.\n",
      "  ConvergenceWarning)\n",
      "/home/exalis/anaconda3/lib/python3.7/site-packages/statsmodels/tsa/holtwinters.py:712: ConvergenceWarning: Optimization failed to converge. Check mle_retvals.\n",
      "  ConvergenceWarning)\n",
      "/home/exalis/anaconda3/lib/python3.7/site-packages/statsmodels/tsa/holtwinters.py:712: ConvergenceWarning: Optimization failed to converge. Check mle_retvals.\n",
      "  ConvergenceWarning)\n",
      "/home/exalis/anaconda3/lib/python3.7/site-packages/statsmodels/tsa/holtwinters.py:712: ConvergenceWarning: Optimization failed to converge. Check mle_retvals.\n",
      "  ConvergenceWarning)\n",
      "/home/exalis/anaconda3/lib/python3.7/site-packages/statsmodels/tsa/holtwinters.py:712: ConvergenceWarning: Optimization failed to converge. Check mle_retvals.\n",
      "  ConvergenceWarning)\n",
      "/home/exalis/anaconda3/lib/python3.7/site-packages/statsmodels/tsa/holtwinters.py:712: ConvergenceWarning: Optimization failed to converge. Check mle_retvals.\n",
      "  ConvergenceWarning)\n",
      "/home/exalis/anaconda3/lib/python3.7/site-packages/statsmodels/tsa/holtwinters.py:712: ConvergenceWarning: Optimization failed to converge. Check mle_retvals.\n",
      "  ConvergenceWarning)\n",
      "/home/exalis/anaconda3/lib/python3.7/site-packages/statsmodels/tsa/holtwinters.py:712: ConvergenceWarning: Optimization failed to converge. Check mle_retvals.\n",
      "  ConvergenceWarning)\n",
      "/home/exalis/anaconda3/lib/python3.7/site-packages/statsmodels/tsa/holtwinters.py:712: ConvergenceWarning: Optimization failed to converge. Check mle_retvals.\n",
      "  ConvergenceWarning)\n",
      "/home/exalis/anaconda3/lib/python3.7/site-packages/statsmodels/tsa/holtwinters.py:712: ConvergenceWarning: Optimization failed to converge. Check mle_retvals.\n",
      "  ConvergenceWarning)\n",
      "/home/exalis/anaconda3/lib/python3.7/site-packages/statsmodels/tsa/holtwinters.py:712: ConvergenceWarning: Optimization failed to converge. Check mle_retvals.\n",
      "  ConvergenceWarning)\n",
      "/home/exalis/anaconda3/lib/python3.7/site-packages/statsmodels/tsa/holtwinters.py:712: ConvergenceWarning: Optimization failed to converge. Check mle_retvals.\n",
      "  ConvergenceWarning)\n",
      "/home/exalis/anaconda3/lib/python3.7/site-packages/statsmodels/tsa/holtwinters.py:712: ConvergenceWarning: Optimization failed to converge. Check mle_retvals.\n",
      "  ConvergenceWarning)\n",
      "/home/exalis/anaconda3/lib/python3.7/site-packages/statsmodels/tsa/holtwinters.py:712: ConvergenceWarning: Optimization failed to converge. Check mle_retvals.\n",
      "  ConvergenceWarning)\n",
      "/home/exalis/anaconda3/lib/python3.7/site-packages/statsmodels/tsa/holtwinters.py:712: ConvergenceWarning: Optimization failed to converge. Check mle_retvals.\n",
      "  ConvergenceWarning)\n",
      "/home/exalis/anaconda3/lib/python3.7/site-packages/statsmodels/tsa/holtwinters.py:712: ConvergenceWarning: Optimization failed to converge. Check mle_retvals.\n",
      "  ConvergenceWarning)\n",
      "/home/exalis/anaconda3/lib/python3.7/site-packages/statsmodels/tsa/holtwinters.py:712: ConvergenceWarning: Optimization failed to converge. Check mle_retvals.\n",
      "  ConvergenceWarning)\n",
      "/home/exalis/anaconda3/lib/python3.7/site-packages/statsmodels/tsa/holtwinters.py:712: ConvergenceWarning: Optimization failed to converge. Check mle_retvals.\n",
      "  ConvergenceWarning)\n",
      "/home/exalis/anaconda3/lib/python3.7/site-packages/statsmodels/tsa/holtwinters.py:712: ConvergenceWarning: Optimization failed to converge. Check mle_retvals.\n",
      "  ConvergenceWarning)\n",
      "/home/exalis/anaconda3/lib/python3.7/site-packages/statsmodels/tsa/holtwinters.py:712: ConvergenceWarning: Optimization failed to converge. Check mle_retvals.\n",
      "  ConvergenceWarning)\n",
      "/home/exalis/anaconda3/lib/python3.7/site-packages/statsmodels/tsa/holtwinters.py:712: ConvergenceWarning: Optimization failed to converge. Check mle_retvals.\n",
      "  ConvergenceWarning)\n",
      "/home/exalis/anaconda3/lib/python3.7/site-packages/statsmodels/tsa/holtwinters.py:712: ConvergenceWarning: Optimization failed to converge. Check mle_retvals.\n",
      "  ConvergenceWarning)\n",
      "/home/exalis/anaconda3/lib/python3.7/site-packages/statsmodels/tsa/holtwinters.py:712: ConvergenceWarning: Optimization failed to converge. Check mle_retvals.\n",
      "  ConvergenceWarning)\n",
      "/home/exalis/anaconda3/lib/python3.7/site-packages/statsmodels/tsa/holtwinters.py:712: ConvergenceWarning: Optimization failed to converge. Check mle_retvals.\n",
      "  ConvergenceWarning)\n",
      "/home/exalis/anaconda3/lib/python3.7/site-packages/statsmodels/tsa/holtwinters.py:712: ConvergenceWarning: Optimization failed to converge. Check mle_retvals.\n",
      "  ConvergenceWarning)\n",
      "/home/exalis/anaconda3/lib/python3.7/site-packages/statsmodels/tsa/holtwinters.py:712: ConvergenceWarning: Optimization failed to converge. Check mle_retvals.\n",
      "  ConvergenceWarning)\n",
      "/home/exalis/anaconda3/lib/python3.7/site-packages/statsmodels/tsa/holtwinters.py:712: ConvergenceWarning: Optimization failed to converge. Check mle_retvals.\n",
      "  ConvergenceWarning)\n",
      "/home/exalis/anaconda3/lib/python3.7/site-packages/statsmodels/tsa/holtwinters.py:712: ConvergenceWarning: Optimization failed to converge. Check mle_retvals.\n",
      "  ConvergenceWarning)\n",
      "/home/exalis/anaconda3/lib/python3.7/site-packages/statsmodels/tsa/holtwinters.py:712: ConvergenceWarning: Optimization failed to converge. Check mle_retvals.\n",
      "  ConvergenceWarning)\n",
      "/home/exalis/anaconda3/lib/python3.7/site-packages/statsmodels/tsa/holtwinters.py:712: ConvergenceWarning: Optimization failed to converge. Check mle_retvals.\n",
      "  ConvergenceWarning)\n",
      "/home/exalis/anaconda3/lib/python3.7/site-packages/statsmodels/tsa/holtwinters.py:712: ConvergenceWarning: Optimization failed to converge. Check mle_retvals.\n",
      "  ConvergenceWarning)\n",
      "/home/exalis/anaconda3/lib/python3.7/site-packages/statsmodels/tsa/holtwinters.py:712: ConvergenceWarning: Optimization failed to converge. Check mle_retvals.\n",
      "  ConvergenceWarning)\n"
     ]
    },
    {
     "name": "stdout",
     "output_type": "stream",
     "text": [
      "error\n",
      "error\n",
      "error\n",
      "error\n",
      "error\n",
      "error\n",
      "error\n",
      "error\n",
      "error\n",
      "error\n",
      "error\n",
      "error\n",
      "['add', False, 'mul', 4, False, True]\n",
      "1.415947649716024\n"
     ]
    }
   ],
   "source": [
    "best_parameters = exp_smoothing_forecast_grid_search(train, test, cfg_list)"
   ]
  },
  {
   "cell_type": "code",
   "execution_count": 63,
   "metadata": {},
   "outputs": [
    {
     "data": {
      "text/plain": [
       "['add', True, 'add', 4, False, True]"
      ]
     },
     "execution_count": 63,
     "metadata": {},
     "output_type": "execute_result"
    }
   ],
   "source": [
    "cfg_list[2]"
   ]
  },
  {
   "cell_type": "code",
   "execution_count": 64,
   "metadata": {},
   "outputs": [
    {
     "data": {
      "text/plain": [
       "['mul', True, None, 4, False, False]"
      ]
     },
     "execution_count": 64,
     "metadata": {},
     "output_type": "execute_result"
    }
   ],
   "source": [
    "best_parameters"
   ]
  },
  {
   "cell_type": "markdown",
   "metadata": {},
   "source": [
    "# Best model"
   ]
  },
  {
   "cell_type": "code",
   "execution_count": 70,
   "metadata": {},
   "outputs": [
    {
     "name": "stdout",
     "output_type": "stream",
     "text": [
      "1.415947649716024\n"
     ]
    }
   ],
   "source": [
    "t,d,s,p,b,r = best_parameters\n",
    "\n",
    "# define model\n",
    "model = ExponentialSmoothing(train, trend=t, damped=d, seasonal=s, seasonal_periods=p).fit(optimized=True,use_boxcox=b,remove_bias=r)\n",
    "# make one step forecast\n",
    "pred = model.predict(start=len(train),end=(len(test)+len(train)-1))\n",
    "temp_indicator = measure_rmse(test,pred)\n",
    "print(temp_indicator)"
   ]
  },
  {
   "cell_type": "code",
   "execution_count": 71,
   "metadata": {
    "scrolled": true
   },
   "outputs": [
    {
     "data": {
      "text/html": [
       "<div>\n",
       "<style scoped>\n",
       "    .dataframe tbody tr th:only-of-type {\n",
       "        vertical-align: middle;\n",
       "    }\n",
       "\n",
       "    .dataframe tbody tr th {\n",
       "        vertical-align: top;\n",
       "    }\n",
       "\n",
       "    .dataframe thead th {\n",
       "        text-align: right;\n",
       "    }\n",
       "</style>\n",
       "<table border=\"1\" class=\"dataframe\">\n",
       "  <thead>\n",
       "    <tr style=\"text-align: right;\">\n",
       "      <th></th>\n",
       "      <th>actual</th>\n",
       "      <th>forecast</th>\n",
       "    </tr>\n",
       "  </thead>\n",
       "  <tbody>\n",
       "    <tr>\n",
       "      <th>2005-01-01</th>\n",
       "      <td>41.7275</td>\n",
       "      <td>41.727500</td>\n",
       "    </tr>\n",
       "    <tr>\n",
       "      <th>2005-04-01</th>\n",
       "      <td>24.0418</td>\n",
       "      <td>24.041800</td>\n",
       "    </tr>\n",
       "    <tr>\n",
       "      <th>2005-07-01</th>\n",
       "      <td>32.3281</td>\n",
       "      <td>32.328100</td>\n",
       "    </tr>\n",
       "    <tr>\n",
       "      <th>2005-10-01</th>\n",
       "      <td>37.3287</td>\n",
       "      <td>37.328700</td>\n",
       "    </tr>\n",
       "    <tr>\n",
       "      <th>2006-01-01</th>\n",
       "      <td>46.2132</td>\n",
       "      <td>46.213200</td>\n",
       "    </tr>\n",
       "    <tr>\n",
       "      <th>2006-04-01</th>\n",
       "      <td>29.3463</td>\n",
       "      <td>29.346300</td>\n",
       "    </tr>\n",
       "    <tr>\n",
       "      <th>2006-07-01</th>\n",
       "      <td>36.4829</td>\n",
       "      <td>36.482900</td>\n",
       "    </tr>\n",
       "    <tr>\n",
       "      <th>2006-10-01</th>\n",
       "      <td>42.9777</td>\n",
       "      <td>42.977700</td>\n",
       "    </tr>\n",
       "    <tr>\n",
       "      <th>2007-01-01</th>\n",
       "      <td>48.9015</td>\n",
       "      <td>48.901500</td>\n",
       "    </tr>\n",
       "    <tr>\n",
       "      <th>2007-04-01</th>\n",
       "      <td>31.1802</td>\n",
       "      <td>31.180200</td>\n",
       "    </tr>\n",
       "    <tr>\n",
       "      <th>2007-07-01</th>\n",
       "      <td>37.7179</td>\n",
       "      <td>37.717900</td>\n",
       "    </tr>\n",
       "    <tr>\n",
       "      <th>2007-10-01</th>\n",
       "      <td>40.4202</td>\n",
       "      <td>40.420200</td>\n",
       "    </tr>\n",
       "    <tr>\n",
       "      <th>2008-01-01</th>\n",
       "      <td>51.2069</td>\n",
       "      <td>51.206900</td>\n",
       "    </tr>\n",
       "    <tr>\n",
       "      <th>2008-04-01</th>\n",
       "      <td>31.8872</td>\n",
       "      <td>31.887200</td>\n",
       "    </tr>\n",
       "    <tr>\n",
       "      <th>2008-07-01</th>\n",
       "      <td>40.9783</td>\n",
       "      <td>40.978300</td>\n",
       "    </tr>\n",
       "    <tr>\n",
       "      <th>2008-10-01</th>\n",
       "      <td>43.7725</td>\n",
       "      <td>43.772500</td>\n",
       "    </tr>\n",
       "    <tr>\n",
       "      <th>2009-01-01</th>\n",
       "      <td>55.5586</td>\n",
       "      <td>55.558600</td>\n",
       "    </tr>\n",
       "    <tr>\n",
       "      <th>2009-04-01</th>\n",
       "      <td>33.8509</td>\n",
       "      <td>33.996371</td>\n",
       "    </tr>\n",
       "    <tr>\n",
       "      <th>2009-07-01</th>\n",
       "      <td>42.0764</td>\n",
       "      <td>42.917927</td>\n",
       "    </tr>\n",
       "    <tr>\n",
       "      <th>2009-10-01</th>\n",
       "      <td>45.6423</td>\n",
       "      <td>47.632466</td>\n",
       "    </tr>\n",
       "    <tr>\n",
       "      <th>2010-01-01</th>\n",
       "      <td>59.7668</td>\n",
       "      <td>58.267796</td>\n",
       "    </tr>\n",
       "    <tr>\n",
       "      <th>2010-04-01</th>\n",
       "      <td>35.1919</td>\n",
       "      <td>35.930564</td>\n",
       "    </tr>\n",
       "    <tr>\n",
       "      <th>2010-07-01</th>\n",
       "      <td>44.3197</td>\n",
       "      <td>45.325419</td>\n",
       "    </tr>\n",
       "    <tr>\n",
       "      <th>2010-10-01</th>\n",
       "      <td>47.9137</td>\n",
       "      <td>50.267453</td>\n",
       "    </tr>\n",
       "  </tbody>\n",
       "</table>\n",
       "</div>"
      ],
      "text/plain": [
       "             actual   forecast\n",
       "2005-01-01  41.7275  41.727500\n",
       "2005-04-01  24.0418  24.041800\n",
       "2005-07-01  32.3281  32.328100\n",
       "2005-10-01  37.3287  37.328700\n",
       "2006-01-01  46.2132  46.213200\n",
       "2006-04-01  29.3463  29.346300\n",
       "2006-07-01  36.4829  36.482900\n",
       "2006-10-01  42.9777  42.977700\n",
       "2007-01-01  48.9015  48.901500\n",
       "2007-04-01  31.1802  31.180200\n",
       "2007-07-01  37.7179  37.717900\n",
       "2007-10-01  40.4202  40.420200\n",
       "2008-01-01  51.2069  51.206900\n",
       "2008-04-01  31.8872  31.887200\n",
       "2008-07-01  40.9783  40.978300\n",
       "2008-10-01  43.7725  43.772500\n",
       "2009-01-01  55.5586  55.558600\n",
       "2009-04-01  33.8509  33.996371\n",
       "2009-07-01  42.0764  42.917927\n",
       "2009-10-01  45.6423  47.632466\n",
       "2010-01-01  59.7668  58.267796\n",
       "2010-04-01  35.1919  35.930564\n",
       "2010-07-01  44.3197  45.325419\n",
       "2010-10-01  47.9137  50.267453"
      ]
     },
     "execution_count": 71,
     "metadata": {},
     "output_type": "execute_result"
    }
   ],
   "source": [
    "df = pd.DataFrame(columns=[\"actual\",\"forecast\"])\n",
    "df.actual = train.append(test)\n",
    "df.forecast = train.append(pred)\n",
    "df"
   ]
  },
  {
   "cell_type": "markdown",
   "metadata": {},
   "source": [
    "# Graphic visualisation"
   ]
  },
  {
   "cell_type": "code",
   "execution_count": 72,
   "metadata": {},
   "outputs": [
    {
     "data": {
      "image/png": "[encoded data removed]",
      "text/plain": [
       "<Figure size 720x360 with 1 Axes>"
      ]
     },
     "metadata": {
      "needs_background": "light"
     },
     "output_type": "display_data"
    }
   ],
   "source": [
    "# Creation of a plot // Density level vs average docks\n",
    "\n",
    "fig, axis = plt.subplots(figsize=(10,5))\n",
    "sns.lineplot(x=df.index, y=\"actual\",data=df, color=\"green\")\n",
    "sns.lineplot(x=df.index, y=\"forecast\",data=df, color=\"red\")\n",
    "\n",
    "plt.show()"
   ]
  }
 ],
 "metadata": {
  "kernelspec": {
   "display_name": "Python 3",
   "language": "python",
   "name": "python3"
  },
  "language_info": {
   "codemirror_mode": {
    "name": "ipython",
    "version": 3
   },
   "file_extension": ".py",
   "mimetype": "text/x-python",
   "name": "python",
   "nbconvert_exporter": "python",
   "pygments_lexer": "ipython3",
   "version": "3.7.5"
  }
 },
 "nbformat": 4,
 "nbformat_minor": 2
}
