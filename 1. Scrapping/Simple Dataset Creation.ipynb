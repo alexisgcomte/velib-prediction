{
 "cells": [
  {
   "cell_type": "markdown",
   "metadata": {},
   "source": [
    "# Simple Dataset Creation"
   ]
  },
  {
   "cell_type": "markdown",
   "metadata": {},
   "source": [
    "### Purpose:\n",
    "\n",
    "Concatening every days together and keeping only the date and the number of stations availiable"
   ]
  },
  {
   "cell_type": "code",
   "execution_count": 1,
   "metadata": {},
   "outputs": [],
   "source": [
    "# Library importation\n",
    "\n",
    "import pandas as pd\n",
    "import numpy as np\n",
    "from os import listdir\n",
    "from os.path import isfile, join\n",
    "import math"
   ]
  },
  {
   "cell_type": "code",
   "execution_count": 2,
   "metadata": {},
   "outputs": [],
   "source": [
    "# Declaration of variables \n",
    "import_path = \"/home/exalis/VELIB-DATA/CONSOLIDATED FILES\"\n",
    "export_path = \"/home/exalis/VELIB-DATA/SIMPLE DATASET\"\n",
    "export_name = \"Simple_Dataset_2020_01_29.csv\""
   ]
  },
  {
   "cell_type": "code",
   "execution_count": 3,
   "metadata": {},
   "outputs": [
    {
     "name": "stdout",
     "output_type": "stream",
     "text": [
      "number of files: 15\n"
     ]
    }
   ],
   "source": [
    "# List of Files\n",
    "list_of_files = [f for f in listdir(import_path) if isfile(join(import_path, f))]\n",
    "list_of_files = sorted(list_of_files)\n",
    "print(\"number of files:\", len(list_of_files))"
   ]
  },
  {
   "cell_type": "code",
   "execution_count": 4,
   "metadata": {},
   "outputs": [
    {
     "data": {
      "text/plain": [
       "['consolidated_dataset_2020_01_15.csv',\n",
       " 'consolidated_dataset_2020_01_16.csv',\n",
       " 'consolidated_dataset_2020_01_17.csv',\n",
       " 'consolidated_dataset_2020_01_18.csv',\n",
       " 'consolidated_dataset_2020_01_19.csv',\n",
       " 'consolidated_dataset_2020_01_20.csv',\n",
       " 'consolidated_dataset_2020_01_21.csv',\n",
       " 'consolidated_dataset_2020_01_22.csv',\n",
       " 'consolidated_dataset_2020_01_23.csv',\n",
       " 'consolidated_dataset_2020_01_24.csv',\n",
       " 'consolidated_dataset_2020_01_25.csv',\n",
       " 'consolidated_dataset_2020_01_26.csv',\n",
       " 'consolidated_dataset_2020_01_27.csv',\n",
       " 'consolidated_dataset_2020_01_28.csv',\n",
       " 'consolidated_dataset_2020_01_29.csv']"
      ]
     },
     "execution_count": 4,
     "metadata": {},
     "output_type": "execute_result"
    }
   ],
   "source": [
    "list_of_files"
   ]
  },
  {
   "cell_type": "code",
   "execution_count": 5,
   "metadata": {},
   "outputs": [],
   "source": [
    "# Initilisation of df_conso, where all data will be conslidated\n",
    "df_conso = pd.DataFrame(columns=[\"availiable_docks\",\"date\",\"station_name\",\"weekday\"])"
   ]
  },
  {
   "cell_type": "code",
   "execution_count": 6,
   "metadata": {},
   "outputs": [
    {
     "name": "stdout",
     "output_type": "stream",
     "text": [
      "Consolidation in progress:\n",
      "---------------------------\n",
      "1/15 (6.7%)\n",
      "2/15 (13.3%)\n",
      "3/15 (20.0%)\n",
      "4/15 (26.7%)\n",
      "5/15 (33.3%)\n",
      "6/15 (40.0%)\n",
      "7/15 (46.7%)\n",
      "8/15 (53.3%)\n",
      "9/15 (60.0%)\n",
      "10/15 (66.7%)\n",
      "11/15 (73.3%)\n",
      "12/15 (80.0%)\n",
      "13/15 (86.7%)\n",
      "14/15 (93.3%)\n",
      "15/15 (100.0%)\n",
      "---------------------------\n",
      "Consolidation complete\n"
     ]
    }
   ],
   "source": [
    "# Each csv is loaded, processed and addated to consolidated dataframe\n",
    "\n",
    "print(\"Consolidation in progress:\")\n",
    "print(\"---------------------------\")\n",
    "for i in range(len(list_of_files)):\n",
    "    df_temp = pd.read_csv(import_path+\"/\"+list_of_files[i])\n",
    "    # Addition of the date / name of the file\n",
    "    df_temp[\"availiable_docks\"] = df_temp[\"nbfreeedock\"] + df_temp[\"nbFreeDock\"]\n",
    "    df_temp = df_temp[[\"availiable_docks\",\"date\",\"station_name\",\"weekday\"]]\n",
    "    df_conso = pd.concat([df_conso,df_temp])\n",
    "    print(\"{}/{} ({}%)\".format(i+1,len(list_of_files),round((i+1)/len(list_of_files)*100,1)))\n",
    "print(\"---------------------------\")\n",
    "print(\"Consolidation complete\")"
   ]
  },
  {
   "cell_type": "code",
   "execution_count": 7,
   "metadata": {},
   "outputs": [],
   "source": [
    "df_conso = df_conso.reset_index(drop=True)"
   ]
  },
  {
   "cell_type": "code",
   "execution_count": 8,
   "metadata": {},
   "outputs": [
    {
     "data": {
      "text/plain": [
       "(28390871, 4)"
      ]
     },
     "execution_count": 8,
     "metadata": {},
     "output_type": "execute_result"
    }
   ],
   "source": [
    "df_conso.shape"
   ]
  },
  {
   "cell_type": "code",
   "execution_count": 9,
   "metadata": {},
   "outputs": [
    {
     "data": {
      "text/html": [
       "<div>\n",
       "<style scoped>\n",
       "    .dataframe tbody tr th:only-of-type {\n",
       "        vertical-align: middle;\n",
       "    }\n",
       "\n",
       "    .dataframe tbody tr th {\n",
       "        vertical-align: top;\n",
       "    }\n",
       "\n",
       "    .dataframe thead th {\n",
       "        text-align: right;\n",
       "    }\n",
       "</style>\n",
       "<table border=\"1\" class=\"dataframe\">\n",
       "  <thead>\n",
       "    <tr style=\"text-align: right;\">\n",
       "      <th></th>\n",
       "      <th>availiable_docks</th>\n",
       "      <th>date</th>\n",
       "      <th>station_name</th>\n",
       "      <th>weekday</th>\n",
       "    </tr>\n",
       "  </thead>\n",
       "  <tbody>\n",
       "    <tr>\n",
       "      <th>0</th>\n",
       "      <td>33</td>\n",
       "      <td>2020-01-15 10:17:00</td>\n",
       "      <td>Benjamin Godard - Victor Hugo</td>\n",
       "      <td>Wednesday</td>\n",
       "    </tr>\n",
       "    <tr>\n",
       "      <th>1</th>\n",
       "      <td>53</td>\n",
       "      <td>2020-01-15 10:17:00</td>\n",
       "      <td>André Mazet - Saint-André des Arts</td>\n",
       "      <td>Wednesday</td>\n",
       "    </tr>\n",
       "    <tr>\n",
       "      <th>2</th>\n",
       "      <td>19</td>\n",
       "      <td>2020-01-15 10:17:00</td>\n",
       "      <td>Toudouze - Clauzel</td>\n",
       "      <td>Wednesday</td>\n",
       "    </tr>\n",
       "    <tr>\n",
       "      <th>3</th>\n",
       "      <td>19</td>\n",
       "      <td>2020-01-15 10:17:00</td>\n",
       "      <td>Charonne - Robert et Sonia Delauney</td>\n",
       "      <td>Wednesday</td>\n",
       "    </tr>\n",
       "    <tr>\n",
       "      <th>4</th>\n",
       "      <td>27</td>\n",
       "      <td>2020-01-15 10:17:00</td>\n",
       "      <td>Mairie du 12ème</td>\n",
       "      <td>Wednesday</td>\n",
       "    </tr>\n",
       "  </tbody>\n",
       "</table>\n",
       "</div>"
      ],
      "text/plain": [
       "  availiable_docks                 date                         station_name  \\\n",
       "0               33  2020-01-15 10:17:00        Benjamin Godard - Victor Hugo   \n",
       "1               53  2020-01-15 10:17:00   André Mazet - Saint-André des Arts   \n",
       "2               19  2020-01-15 10:17:00                   Toudouze - Clauzel   \n",
       "3               19  2020-01-15 10:17:00  Charonne - Robert et Sonia Delauney   \n",
       "4               27  2020-01-15 10:17:00                      Mairie du 12ème   \n",
       "\n",
       "     weekday  \n",
       "0  Wednesday  \n",
       "1  Wednesday  \n",
       "2  Wednesday  \n",
       "3  Wednesday  \n",
       "4  Wednesday  "
      ]
     },
     "execution_count": 9,
     "metadata": {},
     "output_type": "execute_result"
    }
   ],
   "source": [
    "df_conso.head()"
   ]
  },
  {
   "cell_type": "markdown",
   "metadata": {},
   "source": [
    "# Export"
   ]
  },
  {
   "cell_type": "code",
   "execution_count": 10,
   "metadata": {},
   "outputs": [],
   "source": [
    "# Export of the consolidated dataframe\n",
    "\n",
    "df_conso.to_csv(export_path+\"/\"+export_name)"
   ]
  },
  {
   "cell_type": "code",
   "execution_count": null,
   "metadata": {},
   "outputs": [],
   "source": []
  }
 ],
 "metadata": {
  "kernelspec": {
   "display_name": "Python 3",
   "language": "python",
   "name": "python3"
  },
  "language_info": {
   "codemirror_mode": {
    "name": "ipython",
    "version": 3
   },
   "file_extension": ".py",
   "mimetype": "text/x-python",
   "name": "python",
   "nbconvert_exporter": "python",
   "pygments_lexer": "ipython3",
   "version": "3.7.5"
  }
 },
 "nbformat": 4,
 "nbformat_minor": 2
}
