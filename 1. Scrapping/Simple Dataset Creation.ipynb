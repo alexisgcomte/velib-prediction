{
 "cells": [
  {
   "cell_type": "markdown",
   "metadata": {},
   "source": [
    "# Simple Dataset Creation"
   ]
  },
  {
   "cell_type": "markdown",
   "metadata": {},
   "source": [
    "### Purpose:\n",
    "\n",
    "Concatening every days together and keeping only the date and the number of stations availiable"
   ]
  },
  {
   "cell_type": "code",
   "execution_count": 1,
   "metadata": {},
   "outputs": [],
   "source": [
    "# Library importation\n",
    "\n",
    "import pandas as pd\n",
    "import numpy as np\n",
    "from os import listdir\n",
    "from os.path import isfile, join\n",
    "import math"
   ]
  },
  {
   "cell_type": "code",
   "execution_count": 2,
   "metadata": {},
   "outputs": [],
   "source": [
    "# Declaration of variables \n",
    "import_path = \"/home/exalis/VELIB-DATA/CONSOLIDATED FILES\"\n",
    "export_path = \"/home/exalis/VELIB-DATA/SIMPLE DATASET\"\n",
    "export_name = \"Simple_Dataset_2020_01_27.csv\""
   ]
  },
  {
   "cell_type": "code",
   "execution_count": 3,
   "metadata": {},
   "outputs": [
    {
     "name": "stdout",
     "output_type": "stream",
     "text": [
      "number of files: 11\n"
     ]
    }
   ],
   "source": [
    "# List of Files\n",
    "list_of_files = [f for f in listdir(import_path) if isfile(join(import_path, f))]\n",
    "list_of_files = sorted(list_of_files)\n",
    "print(\"number of files:\", len(list_of_files))"
   ]
  },
  {
   "cell_type": "code",
   "execution_count": 4,
   "metadata": {},
   "outputs": [],
   "source": [
    "# Initilisation of df_conso, where all data will be conslidated\n",
    "df_conso = pd.DataFrame(columns=[\"availiable_docks\",\"date\"])"
   ]
  },
  {
   "cell_type": "code",
   "execution_count": 5,
   "metadata": {},
   "outputs": [
    {
     "name": "stdout",
     "output_type": "stream",
     "text": [
      "Consolidation in progress:\n",
      "---------------------------\n",
      "1/11 (9.1%)\n",
      "2/11 (10.1%)\n",
      "3/11 (11.1%)\n",
      "4/11 (12.1%)\n",
      "5/11 (13.1%)\n",
      "6/11 (14.1%)\n",
      "7/11 (15.1%)\n",
      "8/11 (16.1%)\n",
      "9/11 (17.1%)\n",
      "10/11 (18.1%)\n",
      "11/11 (19.1%)\n",
      "---------------------------\n",
      "Consolidation complete\n"
     ]
    }
   ],
   "source": [
    "# Each csv is loaded, processed and addated to consolidated dataframe\n",
    "\n",
    "print(\"Consolidation in progress:\")\n",
    "print(\"---------------------------\")\n",
    "for i in range(len(list_of_files)):\n",
    "    df_temp = pd.read_csv(import_path+\"/\"+list_of_files[i])\n",
    "    # Addition of the date / name of the file\n",
    "    df_temp[\"availiable_docks\"] = df_temp[\"nbfreeedock\"] + df_temp[\"nbFreeDock\"]\n",
    "    df_temp = df_temp[[\"availiable_docks\",\"date\"]]\n",
    "    df_conso = pd.concat([df_conso,df_temp])\n",
    "    print(\"{}/{} ({}%)\".format(i+1,len(list_of_files),round((i+1)/len(list_of_files)*100,1)))\n",
    "print(\"---------------------------\")\n",
    "print(\"Consolidation complete\")"
   ]
  },
  {
   "cell_type": "code",
   "execution_count": 6,
   "metadata": {},
   "outputs": [
    {
     "data": {
      "text/plain": [
       "(20585656, 2)"
      ]
     },
     "execution_count": 6,
     "metadata": {},
     "output_type": "execute_result"
    }
   ],
   "source": [
    "df_conso.shape"
   ]
  },
  {
   "cell_type": "code",
   "execution_count": 7,
   "metadata": {},
   "outputs": [
    {
     "data": {
      "text/html": [
       "<div>\n",
       "<style scoped>\n",
       "    .dataframe tbody tr th:only-of-type {\n",
       "        vertical-align: middle;\n",
       "    }\n",
       "\n",
       "    .dataframe tbody tr th {\n",
       "        vertical-align: top;\n",
       "    }\n",
       "\n",
       "    .dataframe thead th {\n",
       "        text-align: right;\n",
       "    }\n",
       "</style>\n",
       "<table border=\"1\" class=\"dataframe\">\n",
       "  <thead>\n",
       "    <tr style=\"text-align: right;\">\n",
       "      <th></th>\n",
       "      <th>availiable_docks</th>\n",
       "      <th>date</th>\n",
       "    </tr>\n",
       "  </thead>\n",
       "  <tbody>\n",
       "    <tr>\n",
       "      <th>0</th>\n",
       "      <td>33</td>\n",
       "      <td>2020-01-15 10:17:00</td>\n",
       "    </tr>\n",
       "    <tr>\n",
       "      <th>1</th>\n",
       "      <td>53</td>\n",
       "      <td>2020-01-15 10:17:00</td>\n",
       "    </tr>\n",
       "    <tr>\n",
       "      <th>2</th>\n",
       "      <td>19</td>\n",
       "      <td>2020-01-15 10:17:00</td>\n",
       "    </tr>\n",
       "    <tr>\n",
       "      <th>3</th>\n",
       "      <td>19</td>\n",
       "      <td>2020-01-15 10:17:00</td>\n",
       "    </tr>\n",
       "    <tr>\n",
       "      <th>4</th>\n",
       "      <td>27</td>\n",
       "      <td>2020-01-15 10:17:00</td>\n",
       "    </tr>\n",
       "  </tbody>\n",
       "</table>\n",
       "</div>"
      ],
      "text/plain": [
       "  availiable_docks                 date\n",
       "0               33  2020-01-15 10:17:00\n",
       "1               53  2020-01-15 10:17:00\n",
       "2               19  2020-01-15 10:17:00\n",
       "3               19  2020-01-15 10:17:00\n",
       "4               27  2020-01-15 10:17:00"
      ]
     },
     "execution_count": 7,
     "metadata": {},
     "output_type": "execute_result"
    }
   ],
   "source": [
    "df_conso.head()"
   ]
  },
  {
   "cell_type": "markdown",
   "metadata": {},
   "source": [
    "# Export"
   ]
  },
  {
   "cell_type": "code",
   "execution_count": 8,
   "metadata": {},
   "outputs": [],
   "source": [
    "# Export of the consolidated dataframe\n",
    "\n",
    "df_conso.to_csv(export_path+\"/\"+export_name)"
   ]
  }
 ],
 "metadata": {
  "kernelspec": {
   "display_name": "Python 3",
   "language": "python",
   "name": "python3"
  },
  "language_info": {
   "codemirror_mode": {
    "name": "ipython",
    "version": 3
   },
   "file_extension": ".py",
   "mimetype": "text/x-python",
   "name": "python",
   "nbconvert_exporter": "python",
   "pygments_lexer": "ipython3",
   "version": "3.7.5"
  }
 },
 "nbformat": 4,
 "nbformat_minor": 2
}
