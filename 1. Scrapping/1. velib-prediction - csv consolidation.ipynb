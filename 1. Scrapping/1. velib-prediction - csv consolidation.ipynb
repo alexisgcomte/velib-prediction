{
 "cells": [
  {
   "cell_type": "markdown",
   "metadata": {},
   "source": [
    "# CSV consolidation"
   ]
  },
  {
   "cell_type": "markdown",
   "metadata": {},
   "source": [
    "## Description\n",
    "\n",
    "The point of this script is to list all the CSV of a directory, concatenate them in one dataframe and export the  consolidated data in a new CSV."
   ]
  },
  {
   "cell_type": "code",
   "execution_count": 1,
   "metadata": {},
   "outputs": [],
   "source": [
    "# Library importation\n",
    "\n",
    "import pandas as pd\n",
    "import numpy as np\n",
    "from os import listdir\n",
    "from os.path import isfile, join\n",
    "import math"
   ]
  },
  {
   "cell_type": "code",
   "execution_count": 2,
   "metadata": {},
   "outputs": [],
   "source": [
    "# Declaration of variables \n",
    "import_path = \"/home/exalis/VELIB-DATA/TO CONSOLIDATE/2020_01_23\"\n",
    "export_path = \"/home/exalis/VELIB-DATA/CONSOLIDATED FILES\"\n",
    "export_name = \"consolidated_dataset_2020_01_23.csv\""
   ]
  },
  {
   "cell_type": "code",
   "execution_count": 3,
   "metadata": {},
   "outputs": [
    {
     "name": "stdout",
     "output_type": "stream",
     "text": [
      "number of files: 1440\n"
     ]
    }
   ],
   "source": [
    "# List of Files\n",
    "list_of_files = [f for f in listdir(import_path) if isfile(join(import_path, f))]\n",
    "list_of_files = sorted(list_of_files)\n",
    "print(\"number of files:\", len(list_of_files))"
   ]
  },
  {
   "cell_type": "code",
   "execution_count": 4,
   "metadata": {},
   "outputs": [],
   "source": [
    "# Setting number of trucations\n",
    "split_size = 100\n",
    "split_number = math.trunc(len(list_of_files)/split_size) + 1\n",
    "\n",
    "# Creation of list of batch\n",
    "batch = np.split(np.array(pd.DataFrame(list_of_files)[0:(split_number-1)*split_size]) ,split_number-1)\n",
    "\n",
    "# Adding the last files\n",
    "batch.append(np.array(pd.DataFrame(list_of_files[(split_number-1) * split_size:len(list_of_files)])))"
   ]
  },
  {
   "cell_type": "code",
   "execution_count": 5,
   "metadata": {},
   "outputs": [],
   "source": [
    "# Initialisation of consolidated dataframe with first csv of the list\n",
    "\n",
    "df_conso = pd.read_csv(import_path+\"/\"+list_of_files[0],sep=\"%\")\n",
    "\n",
    "# Addition of notion of date\n",
    "df_conso['date']= list_of_files[0][:-4]\n",
    "\n",
    "# Conservation of only headers\n",
    "df_conso = df_conso[0:0]\n",
    "\n",
    "# Conservation of only headers\n",
    "df_template = df_conso"
   ]
  },
  {
   "cell_type": "code",
   "execution_count": null,
   "metadata": {},
   "outputs": [
    {
     "name": "stdout",
     "output_type": "stream",
     "text": [
      "Consolidation in progress:\n",
      "---------------------------\n",
      "0/1440 (0.0%)\n",
      "100/1440 (6.9%)\n",
      "200/1440 (13.9%)\n",
      "300/1440 (20.8%)\n",
      "400/1440 (27.8%)\n"
     ]
    }
   ],
   "source": [
    "# Each csv is loaded, processed and addated to consolidated dataframe\n",
    "df_conso = df_template\n",
    "print(\"Consolidation in progress:\")\n",
    "print(\"---------------------------\")\n",
    "\n",
    "for j in range(split_number):\n",
    "    df_conso_temp = df_template\n",
    "    for i in range(len(batch[j])):\n",
    "        df_temp = pd.read_csv(import_path+\"/\"+batch[j][i][0],sep=\"%\")\n",
    "        # Addition of the date / name of the file\n",
    "        df_temp['date']= batch[j][i][0][:-4]\n",
    "        df_conso_temp = pd.concat([df_conso_temp,df_temp])\n",
    "        if i == (split_size -1):\n",
    "            df_conso = pd.concat([df_conso,df_conso_temp])\n",
    "    print(\"{}/{} ({}%)\".format(j*split_size,len(list_of_files),round(j*split_size/len(list_of_files)*split_size,1)))\n",
    "print(\"Consolidation complete\")\n",
    "print(\"---------------------------\")\n",
    "print(\"Consolidation complete\")"
   ]
  },
  {
   "cell_type": "code",
   "execution_count": null,
   "metadata": {
    "scrolled": false
   },
   "outputs": [],
   "source": [
    "df_conso.shape"
   ]
  },
  {
   "cell_type": "code",
   "execution_count": null,
   "metadata": {},
   "outputs": [],
   "source": [
    "df_conso.head()"
   ]
  },
  {
   "cell_type": "code",
   "execution_count": null,
   "metadata": {
    "scrolled": true
   },
   "outputs": [],
   "source": [
    "df_conso.columns"
   ]
  },
  {
   "cell_type": "code",
   "execution_count": null,
   "metadata": {},
   "outputs": [],
   "source": [
    "# Converting columns to english\n",
    "english_labels = [\"nbfreeedock\",\"nbbikeoverflow\",\"nbedock\",\"overflowactivation\",\"densityLevel\",\"creditcard\",\"station\",\"maxBikeOverflow\",\"kioskstate\",\"nbFreeDock\",\"nbbike\",\"overflow\",\"nbdock\",\"nbebike\",\"nbbikeeoverflow\",\"station_code\",\"station_name\",\"station_state\",\"station_type\",\"geo\",\"duedate\",\"date\"]\n",
    "df_conso.columns = english_labels "
   ]
  },
  {
   "cell_type": "code",
   "execution_count": null,
   "metadata": {},
   "outputs": [],
   "source": [
    "# Naming useless columns\n",
    "useless_columns = [\"nbbikeoverflow\",\"overflowactivation\",\"station\",\"maxBikeOverflow\",\"overflow\",\"nbbikeeoverflow\",\"duedate\"]\n",
    "\n",
    "# Deleting useless columns\n",
    "for i in useless_columns:\n",
    "    del df_conso[i]"
   ]
  },
  {
   "cell_type": "code",
   "execution_count": null,
   "metadata": {},
   "outputs": [],
   "source": [
    "df_conso.shape"
   ]
  },
  {
   "cell_type": "code",
   "execution_count": null,
   "metadata": {},
   "outputs": [],
   "source": [
    "df_conso.head()"
   ]
  },
  {
   "cell_type": "markdown",
   "metadata": {},
   "source": [
    "# Modifying the hour of the date (+1h)"
   ]
  },
  {
   "cell_type": "code",
   "execution_count": null,
   "metadata": {},
   "outputs": [],
   "source": [
    "# Setting right format\n",
    "df_conso[\"date\"] = df_conso[\"date\"].str.replace(\"_\",\"-\")\n",
    "df_conso[\"date\"] = df_conso[\"date\"].apply(lambda x: x[0:10]+\" \"+x[11:16])\n",
    "\n",
    "# Adding an hour\n",
    "df_conso[\"date\"]  = df_conso[\"date\"].apply(lambda x: pd.Timestamp(x)+ pd.Timedelta(hours=1))"
   ]
  },
  {
   "cell_type": "markdown",
   "metadata": {},
   "source": [
    "# Export"
   ]
  },
  {
   "cell_type": "code",
   "execution_count": null,
   "metadata": {},
   "outputs": [],
   "source": [
    "# Export of the consolidated dataframe\n",
    "\n",
    "df_conso.to_csv(export_path+\"/\"+export_name)"
   ]
  },
  {
   "cell_type": "markdown",
   "metadata": {},
   "source": [
    "# Further editing (not used here)"
   ]
  },
  {
   "cell_type": "code",
   "execution_count": null,
   "metadata": {},
   "outputs": [],
   "source": [
    "# Setting right format\n",
    "# df_conso[\"date\"] = df_conso[\"date\"].str.replace(\"_\",\"-\")\n",
    "\n",
    "# Adding an hour\n",
    "# df_conso[\"date\"]  = df_conso[\"date\"].apply(lambda x: pd.Timestamp(x[0:10]+\" \"+x[11:16])+ pd.Timedelta(hours=1))"
   ]
  },
  {
   "cell_type": "code",
   "execution_count": null,
   "metadata": {},
   "outputs": [],
   "source": [
    "# Naming useless columns\n",
    "#useless_columns = [\"station_name\",\"geo\",\"densityLevel\"]\n",
    "\n",
    "# Deleting useless columns\n",
    "#for i in useless_columns:\n",
    "#    del df_conso[i]"
   ]
  }
 ],
 "metadata": {
  "kernelspec": {
   "display_name": "Python 3",
   "language": "python",
   "name": "python3"
  },
  "language_info": {
   "codemirror_mode": {
    "name": "ipython",
    "version": 3
   },
   "file_extension": ".py",
   "mimetype": "text/x-python",
   "name": "python",
   "nbconvert_exporter": "python",
   "pygments_lexer": "ipython3",
   "version": "3.7.5"
  }
 },
 "nbformat": 4,
 "nbformat_minor": 2
}
