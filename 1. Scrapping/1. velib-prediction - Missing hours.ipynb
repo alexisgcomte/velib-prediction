{
 "cells": [
  {
   "cell_type": "markdown",
   "metadata": {},
   "source": [
    "# CSV consolidation"
   ]
  },
  {
   "cell_type": "markdown",
   "metadata": {},
   "source": [
    "## Description\n",
    "\n",
    "The point of this script is to list all the CSV of a directory and find out which hours are missing"
   ]
  },
  {
   "cell_type": "code",
   "execution_count": 105,
   "metadata": {},
   "outputs": [],
   "source": [
    "# Library importation\n",
    "import pandas as pd\n",
    "import numpy as np\n",
    "from os import listdir\n",
    "from os.path import isfile, join\n",
    "import math"
   ]
  },
  {
   "cell_type": "code",
   "execution_count": 155,
   "metadata": {},
   "outputs": [],
   "source": [
    "# Declaration of variables \n",
    "import_path = \"/home/exalis/VELIB-DATA/TO CONSOLIDATE/2020_01_27\""
   ]
  },
  {
   "cell_type": "code",
   "execution_count": 156,
   "metadata": {},
   "outputs": [
    {
     "name": "stdout",
     "output_type": "stream",
     "text": [
      "number of files: 1440\n"
     ]
    }
   ],
   "source": [
    "# List of Files\n",
    "list_of_files = [f for f in listdir(import_path) if isfile(join(import_path, f))]\n",
    "list_of_files = sorted(list_of_files)\n",
    "print(\"number of files:\", len(list_of_files))"
   ]
  },
  {
   "cell_type": "code",
   "execution_count": 157,
   "metadata": {},
   "outputs": [],
   "source": [
    "df =  pd.DataFrame(list_of_files, columns=[\"list of files\"])"
   ]
  },
  {
   "cell_type": "code",
   "execution_count": 158,
   "metadata": {},
   "outputs": [
    {
     "data": {
      "text/html": [
       "<div>\n",
       "<style scoped>\n",
       "    .dataframe tbody tr th:only-of-type {\n",
       "        vertical-align: middle;\n",
       "    }\n",
       "\n",
       "    .dataframe tbody tr th {\n",
       "        vertical-align: top;\n",
       "    }\n",
       "\n",
       "    .dataframe thead th {\n",
       "        text-align: right;\n",
       "    }\n",
       "</style>\n",
       "<table border=\"1\" class=\"dataframe\">\n",
       "  <thead>\n",
       "    <tr style=\"text-align: right;\">\n",
       "      <th></th>\n",
       "      <th>list of files</th>\n",
       "    </tr>\n",
       "  </thead>\n",
       "  <tbody>\n",
       "    <tr>\n",
       "      <th>0</th>\n",
       "      <td>2020_01_27_00:00:01.csv</td>\n",
       "    </tr>\n",
       "    <tr>\n",
       "      <th>1</th>\n",
       "      <td>2020_01_27_00:01:01.csv</td>\n",
       "    </tr>\n",
       "    <tr>\n",
       "      <th>2</th>\n",
       "      <td>2020_01_27_00:02:01.csv</td>\n",
       "    </tr>\n",
       "    <tr>\n",
       "      <th>3</th>\n",
       "      <td>2020_01_27_00:03:01.csv</td>\n",
       "    </tr>\n",
       "    <tr>\n",
       "      <th>4</th>\n",
       "      <td>2020_01_27_00:04:01.csv</td>\n",
       "    </tr>\n",
       "  </tbody>\n",
       "</table>\n",
       "</div>"
      ],
      "text/plain": [
       "             list of files\n",
       "0  2020_01_27_00:00:01.csv\n",
       "1  2020_01_27_00:01:01.csv\n",
       "2  2020_01_27_00:02:01.csv\n",
       "3  2020_01_27_00:03:01.csv\n",
       "4  2020_01_27_00:04:01.csv"
      ]
     },
     "execution_count": 158,
     "metadata": {},
     "output_type": "execute_result"
    }
   ],
   "source": [
    "df.head()"
   ]
  },
  {
   "cell_type": "code",
   "execution_count": 159,
   "metadata": {},
   "outputs": [],
   "source": [
    "# Frist processing: adding hour in good format, hour and minutes\n",
    "df[\"date\"] = df[\"list of files\"].str.replace(\"_\",\"-\")\n",
    "df[\"date\"] = df[\"date\"].apply(lambda x: x[:-4])\n",
    "df[\"date\"] = df[\"date\"].apply(lambda x: x[0:10]+\" \"+x[11:16])\n",
    "\n",
    "df[\"hour\"] = df[\"date\"].apply(lambda x: pd.Timestamp(x).hour)\n",
    "df[\"minute\"] = df[\"date\"].apply(lambda x: pd.Timestamp(x).minute)"
   ]
  },
  {
   "cell_type": "code",
   "execution_count": 160,
   "metadata": {},
   "outputs": [
    {
     "data": {
      "text/html": [
       "<div>\n",
       "<style scoped>\n",
       "    .dataframe tbody tr th:only-of-type {\n",
       "        vertical-align: middle;\n",
       "    }\n",
       "\n",
       "    .dataframe tbody tr th {\n",
       "        vertical-align: top;\n",
       "    }\n",
       "\n",
       "    .dataframe thead th {\n",
       "        text-align: right;\n",
       "    }\n",
       "</style>\n",
       "<table border=\"1\" class=\"dataframe\">\n",
       "  <thead>\n",
       "    <tr style=\"text-align: right;\">\n",
       "      <th></th>\n",
       "      <th>list of files</th>\n",
       "      <th>date</th>\n",
       "      <th>hour</th>\n",
       "      <th>minute</th>\n",
       "    </tr>\n",
       "  </thead>\n",
       "  <tbody>\n",
       "    <tr>\n",
       "      <th>0</th>\n",
       "      <td>2020_01_27_00:00:01.csv</td>\n",
       "      <td>2020-01-27 00:00</td>\n",
       "      <td>0</td>\n",
       "      <td>0</td>\n",
       "    </tr>\n",
       "    <tr>\n",
       "      <th>1</th>\n",
       "      <td>2020_01_27_00:01:01.csv</td>\n",
       "      <td>2020-01-27 00:01</td>\n",
       "      <td>0</td>\n",
       "      <td>1</td>\n",
       "    </tr>\n",
       "    <tr>\n",
       "      <th>2</th>\n",
       "      <td>2020_01_27_00:02:01.csv</td>\n",
       "      <td>2020-01-27 00:02</td>\n",
       "      <td>0</td>\n",
       "      <td>2</td>\n",
       "    </tr>\n",
       "    <tr>\n",
       "      <th>3</th>\n",
       "      <td>2020_01_27_00:03:01.csv</td>\n",
       "      <td>2020-01-27 00:03</td>\n",
       "      <td>0</td>\n",
       "      <td>3</td>\n",
       "    </tr>\n",
       "    <tr>\n",
       "      <th>4</th>\n",
       "      <td>2020_01_27_00:04:01.csv</td>\n",
       "      <td>2020-01-27 00:04</td>\n",
       "      <td>0</td>\n",
       "      <td>4</td>\n",
       "    </tr>\n",
       "    <tr>\n",
       "      <th>...</th>\n",
       "      <td>...</td>\n",
       "      <td>...</td>\n",
       "      <td>...</td>\n",
       "      <td>...</td>\n",
       "    </tr>\n",
       "    <tr>\n",
       "      <th>1435</th>\n",
       "      <td>2020_01_27_23:55:01.csv</td>\n",
       "      <td>2020-01-27 23:55</td>\n",
       "      <td>23</td>\n",
       "      <td>55</td>\n",
       "    </tr>\n",
       "    <tr>\n",
       "      <th>1436</th>\n",
       "      <td>2020_01_27_23:56:01.csv</td>\n",
       "      <td>2020-01-27 23:56</td>\n",
       "      <td>23</td>\n",
       "      <td>56</td>\n",
       "    </tr>\n",
       "    <tr>\n",
       "      <th>1437</th>\n",
       "      <td>2020_01_27_23:57:01.csv</td>\n",
       "      <td>2020-01-27 23:57</td>\n",
       "      <td>23</td>\n",
       "      <td>57</td>\n",
       "    </tr>\n",
       "    <tr>\n",
       "      <th>1438</th>\n",
       "      <td>2020_01_27_23:58:01.csv</td>\n",
       "      <td>2020-01-27 23:58</td>\n",
       "      <td>23</td>\n",
       "      <td>58</td>\n",
       "    </tr>\n",
       "    <tr>\n",
       "      <th>1439</th>\n",
       "      <td>2020_01_27_23:59:01.csv</td>\n",
       "      <td>2020-01-27 23:59</td>\n",
       "      <td>23</td>\n",
       "      <td>59</td>\n",
       "    </tr>\n",
       "  </tbody>\n",
       "</table>\n",
       "<p>1440 rows × 4 columns</p>\n",
       "</div>"
      ],
      "text/plain": [
       "                list of files              date  hour  minute\n",
       "0     2020_01_27_00:00:01.csv  2020-01-27 00:00     0       0\n",
       "1     2020_01_27_00:01:01.csv  2020-01-27 00:01     0       1\n",
       "2     2020_01_27_00:02:01.csv  2020-01-27 00:02     0       2\n",
       "3     2020_01_27_00:03:01.csv  2020-01-27 00:03     0       3\n",
       "4     2020_01_27_00:04:01.csv  2020-01-27 00:04     0       4\n",
       "...                       ...               ...   ...     ...\n",
       "1435  2020_01_27_23:55:01.csv  2020-01-27 23:55    23      55\n",
       "1436  2020_01_27_23:56:01.csv  2020-01-27 23:56    23      56\n",
       "1437  2020_01_27_23:57:01.csv  2020-01-27 23:57    23      57\n",
       "1438  2020_01_27_23:58:01.csv  2020-01-27 23:58    23      58\n",
       "1439  2020_01_27_23:59:01.csv  2020-01-27 23:59    23      59\n",
       "\n",
       "[1440 rows x 4 columns]"
      ]
     },
     "execution_count": 160,
     "metadata": {},
     "output_type": "execute_result"
    }
   ],
   "source": [
    "df"
   ]
  },
  {
   "cell_type": "code",
   "execution_count": 161,
   "metadata": {},
   "outputs": [
    {
     "data": {
      "text/html": [
       "<div>\n",
       "<style scoped>\n",
       "    .dataframe tbody tr th:only-of-type {\n",
       "        vertical-align: middle;\n",
       "    }\n",
       "\n",
       "    .dataframe tbody tr th {\n",
       "        vertical-align: top;\n",
       "    }\n",
       "\n",
       "    .dataframe thead th {\n",
       "        text-align: right;\n",
       "    }\n",
       "</style>\n",
       "<table border=\"1\" class=\"dataframe\">\n",
       "  <thead>\n",
       "    <tr style=\"text-align: right;\">\n",
       "      <th></th>\n",
       "      <th>list of files</th>\n",
       "      <th>date</th>\n",
       "      <th>hour</th>\n",
       "      <th>minute</th>\n",
       "    </tr>\n",
       "  </thead>\n",
       "  <tbody>\n",
       "    <tr>\n",
       "      <th>0</th>\n",
       "      <td>2020_01_27_00:00:01.csv</td>\n",
       "      <td>2020-01-27 00:00</td>\n",
       "      <td>0</td>\n",
       "      <td>0</td>\n",
       "    </tr>\n",
       "    <tr>\n",
       "      <th>1</th>\n",
       "      <td>2020_01_27_00:01:01.csv</td>\n",
       "      <td>2020-01-27 00:01</td>\n",
       "      <td>0</td>\n",
       "      <td>1</td>\n",
       "    </tr>\n",
       "    <tr>\n",
       "      <th>2</th>\n",
       "      <td>2020_01_27_00:02:01.csv</td>\n",
       "      <td>2020-01-27 00:02</td>\n",
       "      <td>0</td>\n",
       "      <td>2</td>\n",
       "    </tr>\n",
       "    <tr>\n",
       "      <th>3</th>\n",
       "      <td>2020_01_27_00:03:01.csv</td>\n",
       "      <td>2020-01-27 00:03</td>\n",
       "      <td>0</td>\n",
       "      <td>3</td>\n",
       "    </tr>\n",
       "    <tr>\n",
       "      <th>4</th>\n",
       "      <td>2020_01_27_00:04:01.csv</td>\n",
       "      <td>2020-01-27 00:04</td>\n",
       "      <td>0</td>\n",
       "      <td>4</td>\n",
       "    </tr>\n",
       "  </tbody>\n",
       "</table>\n",
       "</div>"
      ],
      "text/plain": [
       "             list of files              date  hour  minute\n",
       "0  2020_01_27_00:00:01.csv  2020-01-27 00:00     0       0\n",
       "1  2020_01_27_00:01:01.csv  2020-01-27 00:01     0       1\n",
       "2  2020_01_27_00:02:01.csv  2020-01-27 00:02     0       2\n",
       "3  2020_01_27_00:03:01.csv  2020-01-27 00:03     0       3\n",
       "4  2020_01_27_00:04:01.csv  2020-01-27 00:04     0       4"
      ]
     },
     "execution_count": 161,
     "metadata": {},
     "output_type": "execute_result"
    }
   ],
   "source": [
    "df.head()"
   ]
  },
  {
   "cell_type": "code",
   "execution_count": 162,
   "metadata": {},
   "outputs": [
    {
     "name": "stdout",
     "output_type": "stream",
     "text": [
      "0: 60 unique values over 60. Ratio : 1.0\n",
      "1: 60 unique values over 60. Ratio : 1.0\n",
      "2: 60 unique values over 60. Ratio : 1.0\n",
      "3: 60 unique values over 60. Ratio : 1.0\n",
      "4: 60 unique values over 60. Ratio : 1.0\n",
      "5: 60 unique values over 60. Ratio : 1.0\n",
      "6: 60 unique values over 60. Ratio : 1.0\n",
      "7: 60 unique values over 60. Ratio : 1.0\n",
      "8: 60 unique values over 60. Ratio : 1.0\n",
      "9: 60 unique values over 60. Ratio : 1.0\n",
      "10: 60 unique values over 60. Ratio : 1.0\n",
      "11: 60 unique values over 60. Ratio : 1.0\n",
      "12: 60 unique values over 60. Ratio : 1.0\n",
      "13: 60 unique values over 60. Ratio : 1.0\n",
      "14: 60 unique values over 60. Ratio : 1.0\n",
      "15: 60 unique values over 60. Ratio : 1.0\n",
      "16: 60 unique values over 60. Ratio : 1.0\n",
      "17: 60 unique values over 60. Ratio : 1.0\n",
      "18: 60 unique values over 60. Ratio : 1.0\n",
      "19: 60 unique values over 60. Ratio : 1.0\n",
      "20: 60 unique values over 60. Ratio : 1.0\n",
      "21: 60 unique values over 60. Ratio : 1.0\n",
      "22: 60 unique values over 60. Ratio : 1.0\n",
      "23: 60 unique values over 60. Ratio : 1.0\n"
     ]
    }
   ],
   "source": [
    "# Displaying the hours with missing files\n",
    "\n",
    "for i in range(24):\n",
    "    a=i\n",
    "    b=len(df[df[\"hour\"]==i][\"minute\"].unique())\n",
    "    c= len(df[df[\"hour\"]==i][\"minute\"])\n",
    "    try:\n",
    "        d = round(b/c,3)\n",
    "    except:\n",
    "        d = \"n/a\"\n",
    "    print(\"{}: {} unique values over {}. Ratio : {}\".format(a, b ,c,d))\n",
    "    if b < 60 or c <60:\n",
    "        print(\"ERROR\")"
   ]
  },
  {
   "cell_type": "markdown",
   "metadata": {},
   "source": [
    "#  Error analysis"
   ]
  },
  {
   "cell_type": "code",
   "execution_count": 103,
   "metadata": {},
   "outputs": [
    {
     "data": {
      "text/plain": [
       "59    1\n",
       "27    1\n",
       "25    1\n",
       "24    1\n",
       "23    1\n",
       "22    1\n",
       "21    1\n",
       "20    1\n",
       "19    1\n",
       "18    1\n",
       "17    1\n",
       "16    1\n",
       "15    1\n",
       "14    1\n",
       "13    1\n",
       "12    1\n",
       "11    1\n",
       "10    1\n",
       "9     1\n",
       "8     1\n",
       "7     1\n",
       "6     1\n",
       "5     1\n",
       "4     1\n",
       "3     1\n",
       "2     1\n",
       "1     1\n",
       "26    1\n",
       "28    1\n",
       "58    1\n",
       "29    1\n",
       "57    1\n",
       "56    1\n",
       "55    1\n",
       "54    1\n",
       "53    1\n",
       "52    1\n",
       "51    1\n",
       "50    1\n",
       "49    1\n",
       "48    1\n",
       "47    1\n",
       "46    1\n",
       "45    1\n",
       "41    1\n",
       "40    1\n",
       "39    1\n",
       "38    1\n",
       "37    1\n",
       "36    1\n",
       "35    1\n",
       "34    1\n",
       "33    1\n",
       "32    1\n",
       "31    1\n",
       "30    1\n",
       "0     1\n",
       "Name: minute, dtype: int64"
      ]
     },
     "execution_count": 103,
     "metadata": {},
     "output_type": "execute_result"
    }
   ],
   "source": [
    "# doubles counting \n",
    "df[df[\"hour\"]==6][\"minute\"].value_counts()"
   ]
  },
  {
   "cell_type": "code",
   "execution_count": 104,
   "metadata": {
    "scrolled": true
   },
   "outputs": [
    {
     "data": {
      "text/plain": [
       "360     0\n",
       "361     1\n",
       "362     2\n",
       "363     3\n",
       "364     4\n",
       "365     5\n",
       "366     6\n",
       "367     7\n",
       "368     8\n",
       "369     9\n",
       "370    10\n",
       "371    11\n",
       "372    12\n",
       "373    13\n",
       "374    14\n",
       "375    15\n",
       "376    16\n",
       "377    17\n",
       "378    18\n",
       "379    19\n",
       "380    20\n",
       "381    21\n",
       "382    22\n",
       "383    23\n",
       "384    24\n",
       "385    25\n",
       "386    26\n",
       "387    27\n",
       "388    28\n",
       "389    29\n",
       "390    30\n",
       "391    31\n",
       "392    32\n",
       "393    33\n",
       "394    34\n",
       "395    35\n",
       "396    36\n",
       "397    37\n",
       "398    38\n",
       "399    39\n",
       "400    40\n",
       "401    41\n",
       "402    45\n",
       "403    46\n",
       "404    47\n",
       "405    48\n",
       "406    49\n",
       "407    50\n",
       "408    51\n",
       "409    52\n",
       "410    53\n",
       "411    54\n",
       "412    55\n",
       "413    56\n",
       "414    57\n",
       "415    58\n",
       "416    59\n",
       "Name: minute, dtype: int64"
      ]
     },
     "execution_count": 104,
     "metadata": {},
     "output_type": "execute_result"
    }
   ],
   "source": [
    "# Focus on missing hour\n",
    "df[df[\"hour\"]==6][\"minute\"]"
   ]
  },
  {
   "cell_type": "markdown",
   "metadata": {},
   "source": [
    "Here, at 15:00, 17\" is in double, and 14\", 15\", 16\" are missing"
   ]
  }
 ],
 "metadata": {
  "kernelspec": {
   "display_name": "Python 3",
   "language": "python",
   "name": "python3"
  },
  "language_info": {
   "codemirror_mode": {
    "name": "ipython",
    "version": 3
   },
   "file_extension": ".py",
   "mimetype": "text/x-python",
   "name": "python",
   "nbconvert_exporter": "python",
   "pygments_lexer": "ipython3",
   "version": "3.7.5"
  }
 },
 "nbformat": 4,
 "nbformat_minor": 2
}
